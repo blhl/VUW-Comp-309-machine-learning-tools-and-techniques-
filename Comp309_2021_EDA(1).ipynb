{
  "nbformat": 4,
  "nbformat_minor": 0,
  "metadata": {
    "colab": {
      "name": "Comp309 2021 EDA.ipynb",
      "provenance": [],
      "collapsed_sections": [
        "0a0967fVhmiQ",
        "aZX-nkOC2WKa",
        "7h8kZi2l2dUK",
        "LKcsZtPI6rbd",
        "Ks4uSimu7VFn",
        "Epse_7nH7cCq",
        "O6fDAb3n72af",
        "VkxxSyku8uUP",
        "glWkZ_SR-FVL",
        "MSkqbNVsxE8L",
        "n6caN45Ly6yg",
        "20N21MemAFzI",
        "stteeVpsB6aM",
        "HKLk8pElCTnN",
        "ThPTAxxQ0ouK",
        "AyuQkKtk1G9Y",
        "Fnhj_kOpURU_",
        "UaWsLdVaVVNI"
      ]
    },
    "kernelspec": {
      "name": "python3",
      "display_name": "Python 3"
    },
    "language_info": {
      "name": "python"
    }
  },
  "cells": [
    {
      "cell_type": "markdown",
      "metadata": {
        "id": "pwYBlVurgrgr"
      },
      "source": [
        "<h1>  Exploratory Data Analysis (EDA) in Python"
      ]
    },
    {
      "cell_type": "markdown",
      "metadata": {
        "id": "0a0967fVhmiQ"
      },
      "source": [
        "# **Introduction**"
      ]
    },
    {
      "cell_type": "markdown",
      "metadata": {
        "id": "rXXSf2zpLAxJ"
      },
      "source": [
        "\n",
        "Exploratory Data Analysis of the famous Iris dataset.\n",
        "\n",
        "The features present in the dataset are:\n",
        "\n",
        "    Sepal Width\n",
        "    Sepal Length\n",
        "    Petal Width\n",
        "    Petal Length\n",
        "The target \"species\" has 3 classes namely 'setosa', 'versicolor', and 'virginica'.\n",
        "\n"
      ]
    },
    {
      "cell_type": "markdown",
      "metadata": {
        "id": "50gPsgxTI9G0"
      },
      "source": [
        "Esinitial EDA\n",
        "\n",
        "How: Using powerfull python moduls [pandas, matplotlib, and seaborn]\n"
      ]
    },
    {
      "cell_type": "code",
      "metadata": {
        "id": "5EwbFX6wGYO7"
      },
      "source": [
        "# importing pandas, and other necessary modules\n",
        "import pandas as pd\n",
        "import matplotlib.pyplot as plt\n",
        "import seaborn as sns \n",
        "import numpy as np"
      ],
      "execution_count": 1,
      "outputs": []
    },
    {
      "cell_type": "markdown",
      "metadata": {
        "id": "aZX-nkOC2WKa"
      },
      "source": [
        "# **Load the dataset**"
      ]
    },
    {
      "cell_type": "code",
      "metadata": {
        "id": "WGMaqRUd2FnD"
      },
      "source": [
        "df=sns.load_dataset('iris')"
      ],
      "execution_count": 2,
      "outputs": []
    },
    {
      "cell_type": "code",
      "metadata": {
        "id": "XpmDD55N3Rt7",
        "colab": {
          "base_uri": "https://localhost:8080/",
          "height": 0
        },
        "outputId": "6b2cdd9d-e5dd-4223-9282-5c89e4a295a7"
      },
      "source": [
        "#Alternative\n",
        "'''\n",
        "from sklearn import datasets\n",
        "iris = datasets.load_iris()\n",
        "X = iris.data\n",
        "y = iris.target\n",
        "iris_df=pd.DataFrame(X, columns=iris.feature_names)\n",
        "iris_df['target']=y\n",
        "'''"
      ],
      "execution_count": 3,
      "outputs": [
        {
          "output_type": "execute_result",
          "data": {
            "application/vnd.google.colaboratory.intrinsic+json": {
              "type": "string"
            },
            "text/plain": [
              "\"\\nfrom sklearn import datasets\\niris = datasets.load_iris()\\nX = iris.data\\ny = iris.target\\niris_df=pd.DataFrame(X, columns=iris.feature_names)\\niris_df['target']=y\\n\""
            ]
          },
          "metadata": {
            "tags": []
          },
          "execution_count": 3
        }
      ]
    },
    {
      "cell_type": "markdown",
      "metadata": {
        "id": "7h8kZi2l2dUK"
      },
      "source": [
        "# **A first look and non-graphical EDA**"
      ]
    },
    {
      "cell_type": "code",
      "metadata": {
        "colab": {
          "base_uri": "https://localhost:8080/",
          "height": 0
        },
        "id": "i1jhyUixzo--",
        "outputId": "179a40f3-159b-4590-cc3f-6a7b290a17eb"
      },
      "source": [
        "df"
      ],
      "execution_count": 4,
      "outputs": [
        {
          "output_type": "execute_result",
          "data": {
            "text/html": [
              "<div>\n",
              "<style scoped>\n",
              "    .dataframe tbody tr th:only-of-type {\n",
              "        vertical-align: middle;\n",
              "    }\n",
              "\n",
              "    .dataframe tbody tr th {\n",
              "        vertical-align: top;\n",
              "    }\n",
              "\n",
              "    .dataframe thead th {\n",
              "        text-align: right;\n",
              "    }\n",
              "</style>\n",
              "<table border=\"1\" class=\"dataframe\">\n",
              "  <thead>\n",
              "    <tr style=\"text-align: right;\">\n",
              "      <th></th>\n",
              "      <th>sepal_length</th>\n",
              "      <th>sepal_width</th>\n",
              "      <th>petal_length</th>\n",
              "      <th>petal_width</th>\n",
              "      <th>species</th>\n",
              "    </tr>\n",
              "  </thead>\n",
              "  <tbody>\n",
              "    <tr>\n",
              "      <th>0</th>\n",
              "      <td>5.1</td>\n",
              "      <td>3.5</td>\n",
              "      <td>1.4</td>\n",
              "      <td>0.2</td>\n",
              "      <td>setosa</td>\n",
              "    </tr>\n",
              "    <tr>\n",
              "      <th>1</th>\n",
              "      <td>4.9</td>\n",
              "      <td>3.0</td>\n",
              "      <td>1.4</td>\n",
              "      <td>0.2</td>\n",
              "      <td>setosa</td>\n",
              "    </tr>\n",
              "    <tr>\n",
              "      <th>2</th>\n",
              "      <td>4.7</td>\n",
              "      <td>3.2</td>\n",
              "      <td>1.3</td>\n",
              "      <td>0.2</td>\n",
              "      <td>setosa</td>\n",
              "    </tr>\n",
              "    <tr>\n",
              "      <th>3</th>\n",
              "      <td>4.6</td>\n",
              "      <td>3.1</td>\n",
              "      <td>1.5</td>\n",
              "      <td>0.2</td>\n",
              "      <td>setosa</td>\n",
              "    </tr>\n",
              "    <tr>\n",
              "      <th>4</th>\n",
              "      <td>5.0</td>\n",
              "      <td>3.6</td>\n",
              "      <td>1.4</td>\n",
              "      <td>0.2</td>\n",
              "      <td>setosa</td>\n",
              "    </tr>\n",
              "    <tr>\n",
              "      <th>5</th>\n",
              "      <td>5.4</td>\n",
              "      <td>3.9</td>\n",
              "      <td>1.7</td>\n",
              "      <td>0.4</td>\n",
              "      <td>setosa</td>\n",
              "    </tr>\n",
              "    <tr>\n",
              "      <th>6</th>\n",
              "      <td>4.6</td>\n",
              "      <td>3.4</td>\n",
              "      <td>1.4</td>\n",
              "      <td>0.3</td>\n",
              "      <td>setosa</td>\n",
              "    </tr>\n",
              "    <tr>\n",
              "      <th>7</th>\n",
              "      <td>5.0</td>\n",
              "      <td>3.4</td>\n",
              "      <td>1.5</td>\n",
              "      <td>0.2</td>\n",
              "      <td>setosa</td>\n",
              "    </tr>\n",
              "    <tr>\n",
              "      <th>8</th>\n",
              "      <td>4.4</td>\n",
              "      <td>2.9</td>\n",
              "      <td>1.4</td>\n",
              "      <td>0.2</td>\n",
              "      <td>setosa</td>\n",
              "    </tr>\n",
              "    <tr>\n",
              "      <th>9</th>\n",
              "      <td>4.9</td>\n",
              "      <td>3.1</td>\n",
              "      <td>1.5</td>\n",
              "      <td>0.1</td>\n",
              "      <td>setosa</td>\n",
              "    </tr>\n",
              "    <tr>\n",
              "      <th>10</th>\n",
              "      <td>5.4</td>\n",
              "      <td>3.7</td>\n",
              "      <td>1.5</td>\n",
              "      <td>0.2</td>\n",
              "      <td>setosa</td>\n",
              "    </tr>\n",
              "    <tr>\n",
              "      <th>11</th>\n",
              "      <td>4.8</td>\n",
              "      <td>3.4</td>\n",
              "      <td>1.6</td>\n",
              "      <td>0.2</td>\n",
              "      <td>setosa</td>\n",
              "    </tr>\n",
              "    <tr>\n",
              "      <th>12</th>\n",
              "      <td>4.8</td>\n",
              "      <td>3.0</td>\n",
              "      <td>1.4</td>\n",
              "      <td>0.1</td>\n",
              "      <td>setosa</td>\n",
              "    </tr>\n",
              "    <tr>\n",
              "      <th>13</th>\n",
              "      <td>4.3</td>\n",
              "      <td>3.0</td>\n",
              "      <td>1.1</td>\n",
              "      <td>0.1</td>\n",
              "      <td>setosa</td>\n",
              "    </tr>\n",
              "    <tr>\n",
              "      <th>14</th>\n",
              "      <td>5.8</td>\n",
              "      <td>4.0</td>\n",
              "      <td>1.2</td>\n",
              "      <td>0.2</td>\n",
              "      <td>setosa</td>\n",
              "    </tr>\n",
              "    <tr>\n",
              "      <th>15</th>\n",
              "      <td>5.7</td>\n",
              "      <td>4.4</td>\n",
              "      <td>1.5</td>\n",
              "      <td>0.4</td>\n",
              "      <td>setosa</td>\n",
              "    </tr>\n",
              "    <tr>\n",
              "      <th>16</th>\n",
              "      <td>5.4</td>\n",
              "      <td>3.9</td>\n",
              "      <td>1.3</td>\n",
              "      <td>0.4</td>\n",
              "      <td>setosa</td>\n",
              "    </tr>\n",
              "    <tr>\n",
              "      <th>17</th>\n",
              "      <td>5.1</td>\n",
              "      <td>3.5</td>\n",
              "      <td>1.4</td>\n",
              "      <td>0.3</td>\n",
              "      <td>setosa</td>\n",
              "    </tr>\n",
              "    <tr>\n",
              "      <th>18</th>\n",
              "      <td>5.7</td>\n",
              "      <td>3.8</td>\n",
              "      <td>1.7</td>\n",
              "      <td>0.3</td>\n",
              "      <td>setosa</td>\n",
              "    </tr>\n",
              "    <tr>\n",
              "      <th>19</th>\n",
              "      <td>5.1</td>\n",
              "      <td>3.8</td>\n",
              "      <td>1.5</td>\n",
              "      <td>0.3</td>\n",
              "      <td>setosa</td>\n",
              "    </tr>\n",
              "    <tr>\n",
              "      <th>20</th>\n",
              "      <td>5.4</td>\n",
              "      <td>3.4</td>\n",
              "      <td>1.7</td>\n",
              "      <td>0.2</td>\n",
              "      <td>setosa</td>\n",
              "    </tr>\n",
              "    <tr>\n",
              "      <th>21</th>\n",
              "      <td>5.1</td>\n",
              "      <td>3.7</td>\n",
              "      <td>1.5</td>\n",
              "      <td>0.4</td>\n",
              "      <td>setosa</td>\n",
              "    </tr>\n",
              "    <tr>\n",
              "      <th>22</th>\n",
              "      <td>4.6</td>\n",
              "      <td>3.6</td>\n",
              "      <td>1.0</td>\n",
              "      <td>0.2</td>\n",
              "      <td>setosa</td>\n",
              "    </tr>\n",
              "    <tr>\n",
              "      <th>23</th>\n",
              "      <td>5.1</td>\n",
              "      <td>3.3</td>\n",
              "      <td>1.7</td>\n",
              "      <td>0.5</td>\n",
              "      <td>setosa</td>\n",
              "    </tr>\n",
              "    <tr>\n",
              "      <th>24</th>\n",
              "      <td>4.8</td>\n",
              "      <td>3.4</td>\n",
              "      <td>1.9</td>\n",
              "      <td>0.2</td>\n",
              "      <td>setosa</td>\n",
              "    </tr>\n",
              "    <tr>\n",
              "      <th>25</th>\n",
              "      <td>5.0</td>\n",
              "      <td>3.0</td>\n",
              "      <td>1.6</td>\n",
              "      <td>0.2</td>\n",
              "      <td>setosa</td>\n",
              "    </tr>\n",
              "    <tr>\n",
              "      <th>26</th>\n",
              "      <td>5.0</td>\n",
              "      <td>3.4</td>\n",
              "      <td>1.6</td>\n",
              "      <td>0.4</td>\n",
              "      <td>setosa</td>\n",
              "    </tr>\n",
              "    <tr>\n",
              "      <th>27</th>\n",
              "      <td>5.2</td>\n",
              "      <td>3.5</td>\n",
              "      <td>1.5</td>\n",
              "      <td>0.2</td>\n",
              "      <td>setosa</td>\n",
              "    </tr>\n",
              "    <tr>\n",
              "      <th>28</th>\n",
              "      <td>5.2</td>\n",
              "      <td>3.4</td>\n",
              "      <td>1.4</td>\n",
              "      <td>0.2</td>\n",
              "      <td>setosa</td>\n",
              "    </tr>\n",
              "    <tr>\n",
              "      <th>29</th>\n",
              "      <td>4.7</td>\n",
              "      <td>3.2</td>\n",
              "      <td>1.6</td>\n",
              "      <td>0.2</td>\n",
              "      <td>setosa</td>\n",
              "    </tr>\n",
              "    <tr>\n",
              "      <th>...</th>\n",
              "      <td>...</td>\n",
              "      <td>...</td>\n",
              "      <td>...</td>\n",
              "      <td>...</td>\n",
              "      <td>...</td>\n",
              "    </tr>\n",
              "    <tr>\n",
              "      <th>120</th>\n",
              "      <td>6.9</td>\n",
              "      <td>3.2</td>\n",
              "      <td>5.7</td>\n",
              "      <td>2.3</td>\n",
              "      <td>virginica</td>\n",
              "    </tr>\n",
              "    <tr>\n",
              "      <th>121</th>\n",
              "      <td>5.6</td>\n",
              "      <td>2.8</td>\n",
              "      <td>4.9</td>\n",
              "      <td>2.0</td>\n",
              "      <td>virginica</td>\n",
              "    </tr>\n",
              "    <tr>\n",
              "      <th>122</th>\n",
              "      <td>7.7</td>\n",
              "      <td>2.8</td>\n",
              "      <td>6.7</td>\n",
              "      <td>2.0</td>\n",
              "      <td>virginica</td>\n",
              "    </tr>\n",
              "    <tr>\n",
              "      <th>123</th>\n",
              "      <td>6.3</td>\n",
              "      <td>2.7</td>\n",
              "      <td>4.9</td>\n",
              "      <td>1.8</td>\n",
              "      <td>virginica</td>\n",
              "    </tr>\n",
              "    <tr>\n",
              "      <th>124</th>\n",
              "      <td>6.7</td>\n",
              "      <td>3.3</td>\n",
              "      <td>5.7</td>\n",
              "      <td>2.1</td>\n",
              "      <td>virginica</td>\n",
              "    </tr>\n",
              "    <tr>\n",
              "      <th>125</th>\n",
              "      <td>7.2</td>\n",
              "      <td>3.2</td>\n",
              "      <td>6.0</td>\n",
              "      <td>1.8</td>\n",
              "      <td>virginica</td>\n",
              "    </tr>\n",
              "    <tr>\n",
              "      <th>126</th>\n",
              "      <td>6.2</td>\n",
              "      <td>2.8</td>\n",
              "      <td>4.8</td>\n",
              "      <td>1.8</td>\n",
              "      <td>virginica</td>\n",
              "    </tr>\n",
              "    <tr>\n",
              "      <th>127</th>\n",
              "      <td>6.1</td>\n",
              "      <td>3.0</td>\n",
              "      <td>4.9</td>\n",
              "      <td>1.8</td>\n",
              "      <td>virginica</td>\n",
              "    </tr>\n",
              "    <tr>\n",
              "      <th>128</th>\n",
              "      <td>6.4</td>\n",
              "      <td>2.8</td>\n",
              "      <td>5.6</td>\n",
              "      <td>2.1</td>\n",
              "      <td>virginica</td>\n",
              "    </tr>\n",
              "    <tr>\n",
              "      <th>129</th>\n",
              "      <td>7.2</td>\n",
              "      <td>3.0</td>\n",
              "      <td>5.8</td>\n",
              "      <td>1.6</td>\n",
              "      <td>virginica</td>\n",
              "    </tr>\n",
              "    <tr>\n",
              "      <th>130</th>\n",
              "      <td>7.4</td>\n",
              "      <td>2.8</td>\n",
              "      <td>6.1</td>\n",
              "      <td>1.9</td>\n",
              "      <td>virginica</td>\n",
              "    </tr>\n",
              "    <tr>\n",
              "      <th>131</th>\n",
              "      <td>7.9</td>\n",
              "      <td>3.8</td>\n",
              "      <td>6.4</td>\n",
              "      <td>2.0</td>\n",
              "      <td>virginica</td>\n",
              "    </tr>\n",
              "    <tr>\n",
              "      <th>132</th>\n",
              "      <td>6.4</td>\n",
              "      <td>2.8</td>\n",
              "      <td>5.6</td>\n",
              "      <td>2.2</td>\n",
              "      <td>virginica</td>\n",
              "    </tr>\n",
              "    <tr>\n",
              "      <th>133</th>\n",
              "      <td>6.3</td>\n",
              "      <td>2.8</td>\n",
              "      <td>5.1</td>\n",
              "      <td>1.5</td>\n",
              "      <td>virginica</td>\n",
              "    </tr>\n",
              "    <tr>\n",
              "      <th>134</th>\n",
              "      <td>6.1</td>\n",
              "      <td>2.6</td>\n",
              "      <td>5.6</td>\n",
              "      <td>1.4</td>\n",
              "      <td>virginica</td>\n",
              "    </tr>\n",
              "    <tr>\n",
              "      <th>135</th>\n",
              "      <td>7.7</td>\n",
              "      <td>3.0</td>\n",
              "      <td>6.1</td>\n",
              "      <td>2.3</td>\n",
              "      <td>virginica</td>\n",
              "    </tr>\n",
              "    <tr>\n",
              "      <th>136</th>\n",
              "      <td>6.3</td>\n",
              "      <td>3.4</td>\n",
              "      <td>5.6</td>\n",
              "      <td>2.4</td>\n",
              "      <td>virginica</td>\n",
              "    </tr>\n",
              "    <tr>\n",
              "      <th>137</th>\n",
              "      <td>6.4</td>\n",
              "      <td>3.1</td>\n",
              "      <td>5.5</td>\n",
              "      <td>1.8</td>\n",
              "      <td>virginica</td>\n",
              "    </tr>\n",
              "    <tr>\n",
              "      <th>138</th>\n",
              "      <td>6.0</td>\n",
              "      <td>3.0</td>\n",
              "      <td>4.8</td>\n",
              "      <td>1.8</td>\n",
              "      <td>virginica</td>\n",
              "    </tr>\n",
              "    <tr>\n",
              "      <th>139</th>\n",
              "      <td>6.9</td>\n",
              "      <td>3.1</td>\n",
              "      <td>5.4</td>\n",
              "      <td>2.1</td>\n",
              "      <td>virginica</td>\n",
              "    </tr>\n",
              "    <tr>\n",
              "      <th>140</th>\n",
              "      <td>6.7</td>\n",
              "      <td>3.1</td>\n",
              "      <td>5.6</td>\n",
              "      <td>2.4</td>\n",
              "      <td>virginica</td>\n",
              "    </tr>\n",
              "    <tr>\n",
              "      <th>141</th>\n",
              "      <td>6.9</td>\n",
              "      <td>3.1</td>\n",
              "      <td>5.1</td>\n",
              "      <td>2.3</td>\n",
              "      <td>virginica</td>\n",
              "    </tr>\n",
              "    <tr>\n",
              "      <th>142</th>\n",
              "      <td>5.8</td>\n",
              "      <td>2.7</td>\n",
              "      <td>5.1</td>\n",
              "      <td>1.9</td>\n",
              "      <td>virginica</td>\n",
              "    </tr>\n",
              "    <tr>\n",
              "      <th>143</th>\n",
              "      <td>6.8</td>\n",
              "      <td>3.2</td>\n",
              "      <td>5.9</td>\n",
              "      <td>2.3</td>\n",
              "      <td>virginica</td>\n",
              "    </tr>\n",
              "    <tr>\n",
              "      <th>144</th>\n",
              "      <td>6.7</td>\n",
              "      <td>3.3</td>\n",
              "      <td>5.7</td>\n",
              "      <td>2.5</td>\n",
              "      <td>virginica</td>\n",
              "    </tr>\n",
              "    <tr>\n",
              "      <th>145</th>\n",
              "      <td>6.7</td>\n",
              "      <td>3.0</td>\n",
              "      <td>5.2</td>\n",
              "      <td>2.3</td>\n",
              "      <td>virginica</td>\n",
              "    </tr>\n",
              "    <tr>\n",
              "      <th>146</th>\n",
              "      <td>6.3</td>\n",
              "      <td>2.5</td>\n",
              "      <td>5.0</td>\n",
              "      <td>1.9</td>\n",
              "      <td>virginica</td>\n",
              "    </tr>\n",
              "    <tr>\n",
              "      <th>147</th>\n",
              "      <td>6.5</td>\n",
              "      <td>3.0</td>\n",
              "      <td>5.2</td>\n",
              "      <td>2.0</td>\n",
              "      <td>virginica</td>\n",
              "    </tr>\n",
              "    <tr>\n",
              "      <th>148</th>\n",
              "      <td>6.2</td>\n",
              "      <td>3.4</td>\n",
              "      <td>5.4</td>\n",
              "      <td>2.3</td>\n",
              "      <td>virginica</td>\n",
              "    </tr>\n",
              "    <tr>\n",
              "      <th>149</th>\n",
              "      <td>5.9</td>\n",
              "      <td>3.0</td>\n",
              "      <td>5.1</td>\n",
              "      <td>1.8</td>\n",
              "      <td>virginica</td>\n",
              "    </tr>\n",
              "  </tbody>\n",
              "</table>\n",
              "<p>150 rows × 5 columns</p>\n",
              "</div>"
            ],
            "text/plain": [
              "     sepal_length  sepal_width  petal_length  petal_width    species\n",
              "0             5.1          3.5           1.4          0.2     setosa\n",
              "1             4.9          3.0           1.4          0.2     setosa\n",
              "2             4.7          3.2           1.3          0.2     setosa\n",
              "3             4.6          3.1           1.5          0.2     setosa\n",
              "4             5.0          3.6           1.4          0.2     setosa\n",
              "5             5.4          3.9           1.7          0.4     setosa\n",
              "6             4.6          3.4           1.4          0.3     setosa\n",
              "7             5.0          3.4           1.5          0.2     setosa\n",
              "8             4.4          2.9           1.4          0.2     setosa\n",
              "9             4.9          3.1           1.5          0.1     setosa\n",
              "10            5.4          3.7           1.5          0.2     setosa\n",
              "11            4.8          3.4           1.6          0.2     setosa\n",
              "12            4.8          3.0           1.4          0.1     setosa\n",
              "13            4.3          3.0           1.1          0.1     setosa\n",
              "14            5.8          4.0           1.2          0.2     setosa\n",
              "15            5.7          4.4           1.5          0.4     setosa\n",
              "16            5.4          3.9           1.3          0.4     setosa\n",
              "17            5.1          3.5           1.4          0.3     setosa\n",
              "18            5.7          3.8           1.7          0.3     setosa\n",
              "19            5.1          3.8           1.5          0.3     setosa\n",
              "20            5.4          3.4           1.7          0.2     setosa\n",
              "21            5.1          3.7           1.5          0.4     setosa\n",
              "22            4.6          3.6           1.0          0.2     setosa\n",
              "23            5.1          3.3           1.7          0.5     setosa\n",
              "24            4.8          3.4           1.9          0.2     setosa\n",
              "25            5.0          3.0           1.6          0.2     setosa\n",
              "26            5.0          3.4           1.6          0.4     setosa\n",
              "27            5.2          3.5           1.5          0.2     setosa\n",
              "28            5.2          3.4           1.4          0.2     setosa\n",
              "29            4.7          3.2           1.6          0.2     setosa\n",
              "..            ...          ...           ...          ...        ...\n",
              "120           6.9          3.2           5.7          2.3  virginica\n",
              "121           5.6          2.8           4.9          2.0  virginica\n",
              "122           7.7          2.8           6.7          2.0  virginica\n",
              "123           6.3          2.7           4.9          1.8  virginica\n",
              "124           6.7          3.3           5.7          2.1  virginica\n",
              "125           7.2          3.2           6.0          1.8  virginica\n",
              "126           6.2          2.8           4.8          1.8  virginica\n",
              "127           6.1          3.0           4.9          1.8  virginica\n",
              "128           6.4          2.8           5.6          2.1  virginica\n",
              "129           7.2          3.0           5.8          1.6  virginica\n",
              "130           7.4          2.8           6.1          1.9  virginica\n",
              "131           7.9          3.8           6.4          2.0  virginica\n",
              "132           6.4          2.8           5.6          2.2  virginica\n",
              "133           6.3          2.8           5.1          1.5  virginica\n",
              "134           6.1          2.6           5.6          1.4  virginica\n",
              "135           7.7          3.0           6.1          2.3  virginica\n",
              "136           6.3          3.4           5.6          2.4  virginica\n",
              "137           6.4          3.1           5.5          1.8  virginica\n",
              "138           6.0          3.0           4.8          1.8  virginica\n",
              "139           6.9          3.1           5.4          2.1  virginica\n",
              "140           6.7          3.1           5.6          2.4  virginica\n",
              "141           6.9          3.1           5.1          2.3  virginica\n",
              "142           5.8          2.7           5.1          1.9  virginica\n",
              "143           6.8          3.2           5.9          2.3  virginica\n",
              "144           6.7          3.3           5.7          2.5  virginica\n",
              "145           6.7          3.0           5.2          2.3  virginica\n",
              "146           6.3          2.5           5.0          1.9  virginica\n",
              "147           6.5          3.0           5.2          2.0  virginica\n",
              "148           6.2          3.4           5.4          2.3  virginica\n",
              "149           5.9          3.0           5.1          1.8  virginica\n",
              "\n",
              "[150 rows x 5 columns]"
            ]
          },
          "metadata": {
            "tags": []
          },
          "execution_count": 4
        }
      ]
    },
    {
      "cell_type": "code",
      "metadata": {
        "colab": {
          "base_uri": "https://localhost:8080/"
        },
        "id": "_y_yNXMruokk",
        "outputId": "f792c18a-747a-4cb3-ea92-acf747e540d9"
      },
      "source": [
        "df.shape"
      ],
      "execution_count": 5,
      "outputs": [
        {
          "output_type": "execute_result",
          "data": {
            "text/plain": [
              "(150, 5)"
            ]
          },
          "metadata": {
            "tags": []
          },
          "execution_count": 5
        }
      ]
    },
    {
      "cell_type": "code",
      "metadata": {
        "colab": {
          "base_uri": "https://localhost:8080/",
          "height": 0
        },
        "id": "BWcxJM4KH6hq",
        "outputId": "29d5f4f0-f85f-427e-ae90-471edff6e56b"
      },
      "source": [
        "df.head()"
      ],
      "execution_count": 6,
      "outputs": [
        {
          "output_type": "execute_result",
          "data": {
            "text/html": [
              "<div>\n",
              "<style scoped>\n",
              "    .dataframe tbody tr th:only-of-type {\n",
              "        vertical-align: middle;\n",
              "    }\n",
              "\n",
              "    .dataframe tbody tr th {\n",
              "        vertical-align: top;\n",
              "    }\n",
              "\n",
              "    .dataframe thead th {\n",
              "        text-align: right;\n",
              "    }\n",
              "</style>\n",
              "<table border=\"1\" class=\"dataframe\">\n",
              "  <thead>\n",
              "    <tr style=\"text-align: right;\">\n",
              "      <th></th>\n",
              "      <th>sepal_length</th>\n",
              "      <th>sepal_width</th>\n",
              "      <th>petal_length</th>\n",
              "      <th>petal_width</th>\n",
              "      <th>species</th>\n",
              "    </tr>\n",
              "  </thead>\n",
              "  <tbody>\n",
              "    <tr>\n",
              "      <th>0</th>\n",
              "      <td>5.1</td>\n",
              "      <td>3.5</td>\n",
              "      <td>1.4</td>\n",
              "      <td>0.2</td>\n",
              "      <td>setosa</td>\n",
              "    </tr>\n",
              "    <tr>\n",
              "      <th>1</th>\n",
              "      <td>4.9</td>\n",
              "      <td>3.0</td>\n",
              "      <td>1.4</td>\n",
              "      <td>0.2</td>\n",
              "      <td>setosa</td>\n",
              "    </tr>\n",
              "    <tr>\n",
              "      <th>2</th>\n",
              "      <td>4.7</td>\n",
              "      <td>3.2</td>\n",
              "      <td>1.3</td>\n",
              "      <td>0.2</td>\n",
              "      <td>setosa</td>\n",
              "    </tr>\n",
              "    <tr>\n",
              "      <th>3</th>\n",
              "      <td>4.6</td>\n",
              "      <td>3.1</td>\n",
              "      <td>1.5</td>\n",
              "      <td>0.2</td>\n",
              "      <td>setosa</td>\n",
              "    </tr>\n",
              "    <tr>\n",
              "      <th>4</th>\n",
              "      <td>5.0</td>\n",
              "      <td>3.6</td>\n",
              "      <td>1.4</td>\n",
              "      <td>0.2</td>\n",
              "      <td>setosa</td>\n",
              "    </tr>\n",
              "  </tbody>\n",
              "</table>\n",
              "</div>"
            ],
            "text/plain": [
              "   sepal_length  sepal_width  petal_length  petal_width species\n",
              "0           5.1          3.5           1.4          0.2  setosa\n",
              "1           4.9          3.0           1.4          0.2  setosa\n",
              "2           4.7          3.2           1.3          0.2  setosa\n",
              "3           4.6          3.1           1.5          0.2  setosa\n",
              "4           5.0          3.6           1.4          0.2  setosa"
            ]
          },
          "metadata": {
            "tags": []
          },
          "execution_count": 6
        }
      ]
    },
    {
      "cell_type": "markdown",
      "metadata": {
        "id": "XFZ4vMst4BOQ"
      },
      "source": [
        "More details: the types of variables"
      ]
    },
    {
      "cell_type": "code",
      "metadata": {
        "id": "saU1DDA_IbzI",
        "colab": {
          "base_uri": "https://localhost:8080/"
        },
        "outputId": "f7d629ee-0e2d-4726-9786-a9009fa8536b"
      },
      "source": [
        "df.info()"
      ],
      "execution_count": 7,
      "outputs": [
        {
          "output_type": "stream",
          "text": [
            "<class 'pandas.core.frame.DataFrame'>\n",
            "RangeIndex: 150 entries, 0 to 149\n",
            "Data columns (total 5 columns):\n",
            "sepal_length    150 non-null float64\n",
            "sepal_width     150 non-null float64\n",
            "petal_length    150 non-null float64\n",
            "petal_width     150 non-null float64\n",
            "species         150 non-null object\n",
            "dtypes: float64(4), object(1)\n",
            "memory usage: 5.9+ KB\n"
          ],
          "name": "stdout"
        }
      ]
    },
    {
      "cell_type": "markdown",
      "metadata": {
        "id": "vnTSi9yH4m7D"
      },
      "source": [
        "Check the null/na values "
      ]
    },
    {
      "cell_type": "code",
      "metadata": {
        "colab": {
          "base_uri": "https://localhost:8080/"
        },
        "id": "XCKL_DRnB7zv",
        "outputId": "529a69b2-75c0-41f9-d8fc-192106ef70c2"
      },
      "source": [
        "df.isnull().sum()"
      ],
      "execution_count": 8,
      "outputs": [
        {
          "output_type": "execute_result",
          "data": {
            "text/plain": [
              "sepal_length    0\n",
              "sepal_width     0\n",
              "petal_length    0\n",
              "petal_width     0\n",
              "species         0\n",
              "dtype: int64"
            ]
          },
          "metadata": {
            "tags": []
          },
          "execution_count": 8
        }
      ]
    },
    {
      "cell_type": "markdown",
      "metadata": {
        "id": "zROVuR055EP4"
      },
      "source": [
        "**What are the stats of the variables?**"
      ]
    },
    {
      "cell_type": "code",
      "metadata": {
        "colab": {
          "base_uri": "https://localhost:8080/",
          "height": 0
        },
        "id": "qyDu1_xluiKd",
        "outputId": "dc8c7eff-e825-4539-b858-836be19d53a3"
      },
      "source": [
        "df.describe()"
      ],
      "execution_count": 9,
      "outputs": [
        {
          "output_type": "execute_result",
          "data": {
            "text/html": [
              "<div>\n",
              "<style scoped>\n",
              "    .dataframe tbody tr th:only-of-type {\n",
              "        vertical-align: middle;\n",
              "    }\n",
              "\n",
              "    .dataframe tbody tr th {\n",
              "        vertical-align: top;\n",
              "    }\n",
              "\n",
              "    .dataframe thead th {\n",
              "        text-align: right;\n",
              "    }\n",
              "</style>\n",
              "<table border=\"1\" class=\"dataframe\">\n",
              "  <thead>\n",
              "    <tr style=\"text-align: right;\">\n",
              "      <th></th>\n",
              "      <th>sepal_length</th>\n",
              "      <th>sepal_width</th>\n",
              "      <th>petal_length</th>\n",
              "      <th>petal_width</th>\n",
              "    </tr>\n",
              "  </thead>\n",
              "  <tbody>\n",
              "    <tr>\n",
              "      <th>count</th>\n",
              "      <td>150.000000</td>\n",
              "      <td>150.000000</td>\n",
              "      <td>150.000000</td>\n",
              "      <td>150.000000</td>\n",
              "    </tr>\n",
              "    <tr>\n",
              "      <th>mean</th>\n",
              "      <td>5.843333</td>\n",
              "      <td>3.057333</td>\n",
              "      <td>3.758000</td>\n",
              "      <td>1.199333</td>\n",
              "    </tr>\n",
              "    <tr>\n",
              "      <th>std</th>\n",
              "      <td>0.828066</td>\n",
              "      <td>0.435866</td>\n",
              "      <td>1.765298</td>\n",
              "      <td>0.762238</td>\n",
              "    </tr>\n",
              "    <tr>\n",
              "      <th>min</th>\n",
              "      <td>4.300000</td>\n",
              "      <td>2.000000</td>\n",
              "      <td>1.000000</td>\n",
              "      <td>0.100000</td>\n",
              "    </tr>\n",
              "    <tr>\n",
              "      <th>25%</th>\n",
              "      <td>5.100000</td>\n",
              "      <td>2.800000</td>\n",
              "      <td>1.600000</td>\n",
              "      <td>0.300000</td>\n",
              "    </tr>\n",
              "    <tr>\n",
              "      <th>50%</th>\n",
              "      <td>5.800000</td>\n",
              "      <td>3.000000</td>\n",
              "      <td>4.350000</td>\n",
              "      <td>1.300000</td>\n",
              "    </tr>\n",
              "    <tr>\n",
              "      <th>75%</th>\n",
              "      <td>6.400000</td>\n",
              "      <td>3.300000</td>\n",
              "      <td>5.100000</td>\n",
              "      <td>1.800000</td>\n",
              "    </tr>\n",
              "    <tr>\n",
              "      <th>max</th>\n",
              "      <td>7.900000</td>\n",
              "      <td>4.400000</td>\n",
              "      <td>6.900000</td>\n",
              "      <td>2.500000</td>\n",
              "    </tr>\n",
              "  </tbody>\n",
              "</table>\n",
              "</div>"
            ],
            "text/plain": [
              "       sepal_length  sepal_width  petal_length  petal_width\n",
              "count    150.000000   150.000000    150.000000   150.000000\n",
              "mean       5.843333     3.057333      3.758000     1.199333\n",
              "std        0.828066     0.435866      1.765298     0.762238\n",
              "min        4.300000     2.000000      1.000000     0.100000\n",
              "25%        5.100000     2.800000      1.600000     0.300000\n",
              "50%        5.800000     3.000000      4.350000     1.300000\n",
              "75%        6.400000     3.300000      5.100000     1.800000\n",
              "max        7.900000     4.400000      6.900000     2.500000"
            ]
          },
          "metadata": {
            "tags": []
          },
          "execution_count": 9
        }
      ]
    },
    {
      "cell_type": "markdown",
      "metadata": {
        "id": "K5wAtH4U6I5j"
      },
      "source": [
        "## Are the classes (species) balanced?"
      ]
    },
    {
      "cell_type": "code",
      "metadata": {
        "colab": {
          "base_uri": "https://localhost:8080/"
        },
        "id": "6zDsdLXKvYSb",
        "outputId": "0cddbbee-70dd-4ff7-edcd-3de8bc3fa21b"
      },
      "source": [
        "df['species'].value_counts()"
      ],
      "execution_count": 10,
      "outputs": [
        {
          "output_type": "execute_result",
          "data": {
            "text/plain": [
              "versicolor    50\n",
              "virginica     50\n",
              "setosa        50\n",
              "Name: species, dtype: int64"
            ]
          },
          "metadata": {
            "tags": []
          },
          "execution_count": 10
        }
      ]
    },
    {
      "cell_type": "markdown",
      "metadata": {
        "id": "KNIhgWWARmRW"
      },
      "source": [
        "## Correlation Between Variables"
      ]
    },
    {
      "cell_type": "code",
      "metadata": {
        "colab": {
          "base_uri": "https://localhost:8080/",
          "height": 0
        },
        "id": "vo79fBi8zUvA",
        "outputId": "ee3d52bb-74e9-4f4b-b7e5-ce45ac40f5ae"
      },
      "source": [
        "df.corr()"
      ],
      "execution_count": 11,
      "outputs": [
        {
          "output_type": "execute_result",
          "data": {
            "text/html": [
              "<div>\n",
              "<style scoped>\n",
              "    .dataframe tbody tr th:only-of-type {\n",
              "        vertical-align: middle;\n",
              "    }\n",
              "\n",
              "    .dataframe tbody tr th {\n",
              "        vertical-align: top;\n",
              "    }\n",
              "\n",
              "    .dataframe thead th {\n",
              "        text-align: right;\n",
              "    }\n",
              "</style>\n",
              "<table border=\"1\" class=\"dataframe\">\n",
              "  <thead>\n",
              "    <tr style=\"text-align: right;\">\n",
              "      <th></th>\n",
              "      <th>sepal_length</th>\n",
              "      <th>sepal_width</th>\n",
              "      <th>petal_length</th>\n",
              "      <th>petal_width</th>\n",
              "    </tr>\n",
              "  </thead>\n",
              "  <tbody>\n",
              "    <tr>\n",
              "      <th>sepal_length</th>\n",
              "      <td>1.000000</td>\n",
              "      <td>-0.117570</td>\n",
              "      <td>0.871754</td>\n",
              "      <td>0.817941</td>\n",
              "    </tr>\n",
              "    <tr>\n",
              "      <th>sepal_width</th>\n",
              "      <td>-0.117570</td>\n",
              "      <td>1.000000</td>\n",
              "      <td>-0.428440</td>\n",
              "      <td>-0.366126</td>\n",
              "    </tr>\n",
              "    <tr>\n",
              "      <th>petal_length</th>\n",
              "      <td>0.871754</td>\n",
              "      <td>-0.428440</td>\n",
              "      <td>1.000000</td>\n",
              "      <td>0.962865</td>\n",
              "    </tr>\n",
              "    <tr>\n",
              "      <th>petal_width</th>\n",
              "      <td>0.817941</td>\n",
              "      <td>-0.366126</td>\n",
              "      <td>0.962865</td>\n",
              "      <td>1.000000</td>\n",
              "    </tr>\n",
              "  </tbody>\n",
              "</table>\n",
              "</div>"
            ],
            "text/plain": [
              "              sepal_length  sepal_width  petal_length  petal_width\n",
              "sepal_length      1.000000    -0.117570      0.871754     0.817941\n",
              "sepal_width      -0.117570     1.000000     -0.428440    -0.366126\n",
              "petal_length      0.871754    -0.428440      1.000000     0.962865\n",
              "petal_width       0.817941    -0.366126      0.962865     1.000000"
            ]
          },
          "metadata": {
            "tags": []
          },
          "execution_count": 11
        }
      ]
    },
    {
      "cell_type": "markdown",
      "metadata": {
        "id": "LKcsZtPI6rbd"
      },
      "source": [
        "# **Graphical EDA**"
      ]
    },
    {
      "cell_type": "markdown",
      "metadata": {
        "id": "EPTcUplG6xUF"
      },
      "source": [
        "Let's start from where we reached for the non-graphical EDA\n"
      ]
    },
    {
      "cell_type": "markdown",
      "metadata": {
        "id": "Ks4uSimu7VFn"
      },
      "source": [
        "## **Are the classes (species) balanced?**"
      ]
    },
    {
      "cell_type": "markdown",
      "metadata": {
        "id": "Epse_7nH7cCq"
      },
      "source": [
        "### Using pandas"
      ]
    },
    {
      "cell_type": "code",
      "metadata": {
        "colab": {
          "base_uri": "https://localhost:8080/",
          "height": 322
        },
        "id": "Gzm3oee-wmCM",
        "outputId": "f68ee279-33a5-40a1-d3a8-fc090ed5154b"
      },
      "source": [
        "df[\"species\"].value_counts().plot.bar()"
      ],
      "execution_count": 12,
      "outputs": [
        {
          "output_type": "execute_result",
          "data": {
            "text/plain": [
              "<matplotlib.axes._subplots.AxesSubplot at 0x7fcc5efec4d0>"
            ]
          },
          "metadata": {
            "tags": []
          },
          "execution_count": 12
        },
        {
          "output_type": "display_data",
          "data": {
            "image/png": "[encoded data removed]",
            "text/plain": [
              "<Figure size 432x288 with 1 Axes>"
            ]
          },
          "metadata": {
            "tags": [],
            "needs_background": "light"
          }
        }
      ]
    },
    {
      "cell_type": "markdown",
      "metadata": {
        "id": "O6fDAb3n72af"
      },
      "source": [
        "### Using matplotlib"
      ]
    },
    {
      "cell_type": "code",
      "metadata": {
        "colab": {
          "base_uri": "https://localhost:8080/",
          "height": 319
        },
        "id": "hpCLiDmvv4l6",
        "outputId": "ac20c760-6a66-4ebc-b18d-c497de806d62"
      },
      "source": [
        "#one way using histogram\n",
        "plt.hist(df['species'])"
      ],
      "execution_count": 13,
      "outputs": [
        {
          "output_type": "execute_result",
          "data": {
            "text/plain": [
              "(array([50.,  0.,  0.,  0.,  0., 50.,  0.,  0.,  0., 50.]),\n",
              " array([0. , 0.2, 0.4, 0.6, 0.8, 1. , 1.2, 1.4, 1.6, 1.8, 2. ]),\n",
              " <a list of 10 Patch objects>)"
            ]
          },
          "metadata": {
            "tags": []
          },
          "execution_count": 13
        },
        {
          "output_type": "display_data",
          "data": {
            "image/png": "[encoded data removed]",
            "text/plain": [
              "<Figure size 432x288 with 1 Axes>"
            ]
          },
          "metadata": {
            "tags": [],
            "needs_background": "light"
          }
        }
      ]
    },
    {
      "cell_type": "code",
      "metadata": {
        "colab": {
          "base_uri": "https://localhost:8080/",
          "height": 283
        },
        "id": "v6LrmeUGwwXo",
        "outputId": "11ab5279-8964-452e-dfef-5a1b998432b6"
      },
      "source": [
        "#Another way using bar graph\n",
        "counts = df[\"species\"].value_counts()\n",
        "plt.bar(counts.index, counts.values)"
      ],
      "execution_count": 14,
      "outputs": [
        {
          "output_type": "execute_result",
          "data": {
            "text/plain": [
              "<BarContainer object of 3 artists>"
            ]
          },
          "metadata": {
            "tags": []
          },
          "execution_count": 14
        },
        {
          "output_type": "display_data",
          "data": {
            "image/png": "[encoded data removed]",
            "text/plain": [
              "<Figure size 432x288 with 1 Axes>"
            ]
          },
          "metadata": {
            "tags": [],
            "needs_background": "light"
          }
        }
      ]
    },
    {
      "cell_type": "markdown",
      "metadata": {
        "id": "VkxxSyku8uUP"
      },
      "source": [
        "### Using seaborn"
      ]
    },
    {
      "cell_type": "code",
      "metadata": {
        "colab": {
          "base_uri": "https://localhost:8080/",
          "height": 335
        },
        "id": "BS84A55TvmcB",
        "outputId": "f9443012-503f-4a5c-fb21-873cea6112bd"
      },
      "source": [
        "sns.countplot(df['species']);"
      ],
      "execution_count": 15,
      "outputs": [
        {
          "output_type": "stream",
          "text": [
            "/usr/local/lib/python3.7/dist-packages/seaborn/_decorators.py:43: FutureWarning: Pass the following variable as a keyword arg: x. From version 0.12, the only valid positional argument will be `data`, and passing other arguments without an explicit keyword will result in an error or misinterpretation.\n",
            "  FutureWarning\n"
          ],
          "name": "stderr"
        },
        {
          "output_type": "display_data",
          "data": {
            "image/png": "[encoded data removed]",
            "text/plain": [
              "<Figure size 432x288 with 1 Axes>"
            ]
          },
          "metadata": {
            "tags": [],
            "needs_background": "light"
          }
        }
      ]
    },
    {
      "cell_type": "markdown",
      "metadata": {
        "id": "glWkZ_SR-FVL"
      },
      "source": [
        "### What we can conclude:\n"
      ]
    },
    {
      "cell_type": "markdown",
      "metadata": {
        "id": "S8lM6eQZ-MvJ"
      },
      "source": [
        "- Classes are balanced\n",
        "- It is safe to use different classification accuracy metrics\n",
        "- No pre-processing setps are required to address data imbalance (augmentation, oversampling, downsampling) \n",
        "- ..."
      ]
    },
    {
      "cell_type": "markdown",
      "metadata": {
        "id": "MSkqbNVsxE8L"
      },
      "source": [
        "## **Comparison graphs**"
      ]
    },
    {
      "cell_type": "markdown",
      "metadata": {
        "id": "n6caN45Ly6yg"
      },
      "source": [
        "### Scatterplots"
      ]
    },
    {
      "cell_type": "markdown",
      "metadata": {
        "id": "aOJOCrtG_fNX"
      },
      "source": [
        "What?\n",
        "- use a Cartesian coordinates system to display values of typically two variables for a set of data\n",
        "\n",
        "Why?\n",
        "- show the relationship between two variables"
      ]
    },
    {
      "cell_type": "markdown",
      "metadata": {
        "id": "GbQyNX6WA3Ut"
      },
      "source": [
        "Let's try an example:\n",
        "\n",
        "Showing the scatterplot between the features 'sepal_length' and 'sepal_width'"
      ]
    },
    {
      "cell_type": "markdown",
      "metadata": {
        "id": "20N21MemAFzI"
      },
      "source": [
        "### Scatterplot using pandas"
      ]
    },
    {
      "cell_type": "code",
      "metadata": {
        "colab": {
          "base_uri": "https://localhost:8080/",
          "height": 301
        },
        "id": "d3MtRVu4xSYD",
        "outputId": "d70f0380-e9a5-4b2a-b487-65764c2ea7cf"
      },
      "source": [
        "df.plot.scatter('sepal_length','sepal_width')"
      ],
      "execution_count": 16,
      "outputs": [
        {
          "output_type": "execute_result",
          "data": {
            "text/plain": [
              "<matplotlib.axes._subplots.AxesSubplot at 0x7fcc5e94cbd0>"
            ]
          },
          "metadata": {
            "tags": []
          },
          "execution_count": 16
        },
        {
          "output_type": "display_data",
          "data": {
            "image/png": "[encoded data removed]",
            "text/plain": [
              "<Figure size 432x288 with 1 Axes>"
            ]
          },
          "metadata": {
            "tags": [],
            "needs_background": "light"
          }
        }
      ]
    },
    {
      "cell_type": "markdown",
      "metadata": {
        "id": "stteeVpsB6aM"
      },
      "source": [
        "### Scatterplot using matplotlib"
      ]
    },
    {
      "cell_type": "code",
      "metadata": {
        "colab": {
          "base_uri": "https://localhost:8080/",
          "height": 286
        },
        "id": "3ScsPoqyzPeL",
        "outputId": "7629266b-867e-4cae-f374-84c4e99e6a12"
      },
      "source": [
        "plt.scatter('sepal_length', 'sepal_width', data=df)"
      ],
      "execution_count": 17,
      "outputs": [
        {
          "output_type": "execute_result",
          "data": {
            "text/plain": [
              "<matplotlib.collections.PathCollection at 0x7fcc5e9447d0>"
            ]
          },
          "metadata": {
            "tags": []
          },
          "execution_count": 17
        },
        {
          "output_type": "display_data",
          "data": {
            "image/png": "[encoded data removed]",
            "text/plain": [
              "<Figure size 432x288 with 1 Axes>"
            ]
          },
          "metadata": {
            "tags": [],
            "needs_background": "light"
          }
        }
      ]
    },
    {
      "cell_type": "code",
      "metadata": {
        "colab": {
          "base_uri": "https://localhost:8080/",
          "height": 286
        },
        "id": "wpRdX3oMCxOl",
        "outputId": "2751bb57-c661-4d19-a722-a2e901f28994"
      },
      "source": [
        "plt.scatter(df['sepal_length'], df['sepal_width'])"
      ],
      "execution_count": 18,
      "outputs": [
        {
          "output_type": "execute_result",
          "data": {
            "text/plain": [
              "<matplotlib.collections.PathCollection at 0x7fcc5e8ca490>"
            ]
          },
          "metadata": {
            "tags": []
          },
          "execution_count": 18
        },
        {
          "output_type": "display_data",
          "data": {
            "image/png": "[encoded data removed]",
            "text/plain": [
              "<Figure size 432x288 with 1 Axes>"
            ]
          },
          "metadata": {
            "tags": [],
            "needs_background": "light"
          }
        }
      ]
    },
    {
      "cell_type": "code",
      "metadata": {
        "colab": {
          "base_uri": "https://localhost:8080/",
          "height": 286
        },
        "id": "htRFpfM0-3oJ",
        "outputId": "caacf892-ceb3-4e63-b1fe-2a6106d26c48"
      },
      "source": [
        "#using plt\n",
        "plt.plot('sepal_length', 'sepal_width', data=df, marker='.',linestyle='none')"
      ],
      "execution_count": 19,
      "outputs": [
        {
          "output_type": "execute_result",
          "data": {
            "text/plain": [
              "[<matplotlib.lines.Line2D at 0x7fcc5e864690>]"
            ]
          },
          "metadata": {
            "tags": []
          },
          "execution_count": 19
        },
        {
          "output_type": "display_data",
          "data": {
            "image/png": "[encoded data removed]",
            "text/plain": [
              "<Figure size 432x288 with 1 Axes>"
            ]
          },
          "metadata": {
            "tags": [],
            "needs_background": "light"
          }
        }
      ]
    },
    {
      "cell_type": "markdown",
      "metadata": {
        "id": "HKLk8pElCTnN"
      },
      "source": [
        "### Scatterplot using seaborn"
      ]
    },
    {
      "cell_type": "code",
      "metadata": {
        "colab": {
          "base_uri": "https://localhost:8080/",
          "height": 357
        },
        "id": "8KvGMZnpvwX1",
        "outputId": "209441d1-6070-4647-fec0-540c250a0d0f"
      },
      "source": [
        "sns.scatterplot(df['sepal_length'], df['sepal_width'])\n",
        "#or sns.scatter('sepal_length', 'sepal_width', data=df)"
      ],
      "execution_count": 20,
      "outputs": [
        {
          "output_type": "stream",
          "text": [
            "/usr/local/lib/python3.7/dist-packages/seaborn/_decorators.py:43: FutureWarning: Pass the following variables as keyword args: x, y. From version 0.12, the only valid positional argument will be `data`, and passing other arguments without an explicit keyword will result in an error or misinterpretation.\n",
            "  FutureWarning\n"
          ],
          "name": "stderr"
        },
        {
          "output_type": "execute_result",
          "data": {
            "text/plain": [
              "<matplotlib.axes._subplots.AxesSubplot at 0x7fcc5e82c310>"
            ]
          },
          "metadata": {
            "tags": []
          },
          "execution_count": 20
        },
        {
          "output_type": "display_data",
          "data": {
            "image/png": "[encoded data removed]",
            "text/plain": [
              "<Figure size 432x288 with 1 Axes>"
            ]
          },
          "metadata": {
            "tags": [],
            "needs_background": "light"
          }
        }
      ]
    },
    {
      "cell_type": "code",
      "metadata": {
        "colab": {
          "base_uri": "https://localhost:8080/",
          "height": 515
        },
        "id": "CHVQsl6ZF89p",
        "outputId": "5736af9c-efbb-4657-c1ec-51045f02fc13"
      },
      "source": [
        "# With marginal histogram\n",
        "sns.jointplot('sepal_length', 'sepal_width', data=df)"
      ],
      "execution_count": 21,
      "outputs": [
        {
          "output_type": "stream",
          "text": [
            "/usr/local/lib/python3.7/dist-packages/seaborn/_decorators.py:43: FutureWarning: Pass the following variables as keyword args: x, y. From version 0.12, the only valid positional argument will be `data`, and passing other arguments without an explicit keyword will result in an error or misinterpretation.\n",
            "  FutureWarning\n"
          ],
          "name": "stderr"
        },
        {
          "output_type": "execute_result",
          "data": {
            "text/plain": [
              "<seaborn.axisgrid.JointGrid at 0x7fcc5e83fb50>"
            ]
          },
          "metadata": {
            "tags": []
          },
          "execution_count": 21
        },
        {
          "output_type": "display_data",
          "data": {
            "image/png": "[encoded data removed]",
            "text/plain": [
              "<Figure size 432x432 with 3 Axes>"
            ]
          },
          "metadata": {
            "tags": [],
            "needs_background": "light"
          }
        }
      ]
    },
    {
      "cell_type": "code",
      "metadata": {
        "colab": {
          "base_uri": "https://localhost:8080/",
          "height": 357
        },
        "id": "1j7e46KQv49O",
        "outputId": "18994f46-c65a-40cd-aac1-c71a203e020e"
      },
      "source": [
        "# With respect to the target class (species)\n",
        "sns.scatterplot('sepal_length', 'sepal_width', hue=df['species'], data=df)"
      ],
      "execution_count": 22,
      "outputs": [
        {
          "output_type": "stream",
          "text": [
            "/usr/local/lib/python3.7/dist-packages/seaborn/_decorators.py:43: FutureWarning: Pass the following variables as keyword args: x, y. From version 0.12, the only valid positional argument will be `data`, and passing other arguments without an explicit keyword will result in an error or misinterpretation.\n",
            "  FutureWarning\n"
          ],
          "name": "stderr"
        },
        {
          "output_type": "execute_result",
          "data": {
            "text/plain": [
              "<matplotlib.axes._subplots.AxesSubplot at 0x7fcc563f3690>"
            ]
          },
          "metadata": {
            "tags": []
          },
          "execution_count": 22
        },
        {
          "output_type": "display_data",
          "data": {
            "image/png": "[encoded data removed]",
            "text/plain": [
              "<Figure size 432x288 with 1 Axes>"
            ]
          },
          "metadata": {
            "tags": [],
            "needs_background": "light"
          }
        }
      ]
    },
    {
      "cell_type": "markdown",
      "metadata": {
        "id": "2L2Ve-f7Lipc"
      },
      "source": [
        "### What we can conclude:"
      ]
    },
    {
      "cell_type": "markdown",
      "metadata": {
        "id": "BhcCgXfiyuVH"
      },
      "source": [
        "- The iris-setosa species have smaller sepal length but higher width. \n",
        "- Versicolor lies in almost middle for length as well as width.  \n",
        "- Virginica has larger sepal lengths and smaller sepal widths."
      ]
    },
    {
      "cell_type": "markdown",
      "metadata": {
        "id": "Yj8tXET2Nrmc"
      },
      "source": [
        "** As seen above, different tools could be used, from now on only seaborn is shown and others are lift for you to search how to do it\n",
        " "
      ]
    },
    {
      "cell_type": "markdown",
      "metadata": {
        "id": "ThPTAxxQ0ouK"
      },
      "source": [
        "## **Correlogram**\n",
        "\n",
        "Correlogram: AKS correlation matrix, to analyse the relationship between each pair of numeric variables"
      ]
    },
    {
      "cell_type": "code",
      "metadata": {
        "colab": {
          "base_uri": "https://localhost:8080/",
          "height": 0
        },
        "id": "DiN29vscMrGf",
        "outputId": "8d7f3f20-0aee-402a-ba06-fb8ad4bb89be"
      },
      "source": [
        "sns.pairplot(df)"
      ],
      "execution_count": 23,
      "outputs": [
        {
          "output_type": "execute_result",
          "data": {
            "text/plain": [
              "<seaborn.axisgrid.PairGrid at 0x7fcc55376d10>"
            ]
          },
          "metadata": {
            "tags": []
          },
          "execution_count": 23
        },
        {
          "output_type": "display_data",
          "data": {
            "image/png": "[encoded data removed]",
            "text/plain": [
              "<Figure size 720x720 with 20 Axes>"
            ]
          },
          "metadata": {
            "tags": [],
            "needs_background": "light"
          }
        }
      ]
    },
    {
      "cell_type": "code",
      "metadata": {
        "colab": {
          "base_uri": "https://localhost:8080/",
          "height": 0
        },
        "id": "f-0dVJojxXNm",
        "outputId": "b7fae239-9c69-41d4-9b47-fe50af1a8ad6"
      },
      "source": [
        "sns.pairplot(df,hue=\"species\")"
      ],
      "execution_count": 24,
      "outputs": [
        {
          "output_type": "execute_result",
          "data": {
            "text/plain": [
              "<seaborn.axisgrid.PairGrid at 0x7fcc54bc7190>"
            ]
          },
          "metadata": {
            "tags": []
          },
          "execution_count": 24
        },
        {
          "output_type": "display_data",
          "data": {
            "image/png": "[encoded data removed]",
            "text/plain": [
              "<Figure size 804.75x720 with 20 Axes>"
            ]
          },
          "metadata": {
            "tags": [],
            "needs_background": "light"
          }
        }
      ]
    },
    {
      "cell_type": "markdown",
      "metadata": {
        "id": "5rck8d_pPHsf"
      },
      "source": [
        "### What we can conclude:"
      ]
    },
    {
      "cell_type": "markdown",
      "metadata": {
        "id": "MM4pFFBC0MXb"
      },
      "source": [
        "- Two clusters for the comparison between petal width and length.\n",
        "- Setosa has the smallest petal length as well as petal widths \n",
        "- Versicolor has average petal length and petal width \n",
        "- Virginica has the highest petal length as well as petal width.\n",
        "- Setosa has a large difference in its characteristics when compared to the other species, it has smaller petal width and length while its sepal width is high and its sepal length is low. \n",
        "- Versicolor has average dimensions whether it is sepal or petal. \n",
        "- Virginica has high petal width and length while it has small sepal width but large sepal length."
      ]
    },
    {
      "cell_type": "markdown",
      "metadata": {
        "id": "AyuQkKtk1G9Y"
      },
      "source": [
        "## **Heatmap**\n"
      ]
    },
    {
      "cell_type": "markdown",
      "metadata": {
        "id": "-ZEB8t60quW_"
      },
      "source": [
        "Further, we can visualise this correlation using a heatmap.\n",
        "\n",
        "Heatmap: a two-dimensional graphical representation of data where the individual values that are contained in a matrix are represented as colors\n",
        "\n",
        "Uuseful to see which intersections of the categorical values, have higher concentration of the data compared to the others\n",
        "\n",
        "\n"
      ]
    },
    {
      "cell_type": "code",
      "metadata": {
        "colab": {
          "base_uri": "https://localhost:8080/",
          "height": 542
        },
        "id": "nXxhsLrK1JI2",
        "outputId": "bd4f0611-8ce7-4a71-fec6-03c943eaf79a"
      },
      "source": [
        "fig = plt.figure(figsize = (15,9))\n",
        "sns.heatmap(df.corr(), cmap='Blues', annot = True);"
      ],
      "execution_count": 25,
      "outputs": [
        {
          "output_type": "display_data",
          "data": {
            "image/png": "[encoded data removed]",
            "text/plain": [
              "<Figure size 1080x648 with 2 Axes>"
            ]
          },
          "metadata": {
            "tags": [],
            "needs_background": "light"
          }
        }
      ]
    },
    {
      "cell_type": "markdown",
      "metadata": {
        "id": "w26FSZwq1cwl"
      },
      "source": [
        "From the above heatmap, we see that petal_length and petal_width have a high correlation, petal_width and sepal_length have good correlation as well as petal_length and sepal_length have good correlations."
      ]
    },
    {
      "cell_type": "markdown",
      "metadata": {
        "id": "2Ju2SGeO1nW1"
      },
      "source": [
        "**Histograms and distributions**"
      ]
    },
    {
      "cell_type": "code",
      "metadata": {
        "colab": {
          "base_uri": "https://localhost:8080/",
          "height": 495
        },
        "id": "4HRVjQut1NWp",
        "outputId": "a60abdf3-661f-4df4-d06a-e6bb17cd81ee"
      },
      "source": [
        "df.hist();"
      ],
      "execution_count": 26,
      "outputs": [
        {
          "output_type": "stream",
          "text": [
            "/usr/local/lib/python3.7/dist-packages/pandas/plotting/_tools.py:308: MatplotlibDeprecationWarning: \n",
            "The rowNum attribute was deprecated in Matplotlib 3.2 and will be removed two minor releases later. Use ax.get_subplotspec().rowspan.start instead.\n",
            "  layout[ax.rowNum, ax.colNum] = ax.get_visible()\n",
            "/usr/local/lib/python3.7/dist-packages/pandas/plotting/_tools.py:308: MatplotlibDeprecationWarning: \n",
            "The colNum attribute was deprecated in Matplotlib 3.2 and will be removed two minor releases later. Use ax.get_subplotspec().colspan.start instead.\n",
            "  layout[ax.rowNum, ax.colNum] = ax.get_visible()\n",
            "/usr/local/lib/python3.7/dist-packages/pandas/plotting/_tools.py:314: MatplotlibDeprecationWarning: \n",
            "The rowNum attribute was deprecated in Matplotlib 3.2 and will be removed two minor releases later. Use ax.get_subplotspec().rowspan.start instead.\n",
            "  if not layout[ax.rowNum + 1, ax.colNum]:\n",
            "/usr/local/lib/python3.7/dist-packages/pandas/plotting/_tools.py:314: MatplotlibDeprecationWarning: \n",
            "The colNum attribute was deprecated in Matplotlib 3.2 and will be removed two minor releases later. Use ax.get_subplotspec().colspan.start instead.\n",
            "  if not layout[ax.rowNum + 1, ax.colNum]:\n"
          ],
          "name": "stderr"
        },
        {
          "output_type": "display_data",
          "data": {
            "image/png": "[encoded data removed]",
            "text/plain": [
              "<Figure size 432x288 with 4 Axes>"
            ]
          },
          "metadata": {
            "tags": [],
            "needs_background": "light"
          }
        }
      ]
    },
    {
      "cell_type": "markdown",
      "metadata": {
        "id": "GKSDRBu-2mHR"
      },
      "source": [
        "**Boxplots and violins**"
      ]
    },
    {
      "cell_type": "code",
      "metadata": {
        "colab": {
          "base_uri": "https://localhost:8080/",
          "height": 297
        },
        "id": "B9fHE8lF2qdk",
        "outputId": "9041b085-df92-44a9-f605-e43690877954"
      },
      "source": [
        "sns.boxplot(x='species', y='sepal_length', data=df)"
      ],
      "execution_count": 27,
      "outputs": [
        {
          "output_type": "execute_result",
          "data": {
            "text/plain": [
              "<matplotlib.axes._subplots.AxesSubplot at 0x7fcc50c77a10>"
            ]
          },
          "metadata": {
            "tags": []
          },
          "execution_count": 27
        },
        {
          "output_type": "display_data",
          "data": {
            "image/png": "[encoded data removed]",
            "text/plain": [
              "<Figure size 432x288 with 1 Axes>"
            ]
          },
          "metadata": {
            "tags": [],
            "needs_background": "light"
          }
        }
      ]
    },
    {
      "cell_type": "code",
      "metadata": {
        "colab": {
          "base_uri": "https://localhost:8080/",
          "height": 754
        },
        "id": "tW-lxRa5HoIf",
        "outputId": "035ea38c-a632-4ddf-9261-47da950476bc"
      },
      "source": [
        "df.boxplot(by=\"species\", figsize=(12, 8));"
      ],
      "execution_count": 28,
      "outputs": [
        {
          "output_type": "stream",
          "text": [
            "/usr/local/lib/python3.7/dist-packages/pandas/plotting/_tools.py:308: MatplotlibDeprecationWarning: \n",
            "The rowNum attribute was deprecated in Matplotlib 3.2 and will be removed two minor releases later. Use ax.get_subplotspec().rowspan.start instead.\n",
            "  layout[ax.rowNum, ax.colNum] = ax.get_visible()\n",
            "/usr/local/lib/python3.7/dist-packages/pandas/plotting/_tools.py:308: MatplotlibDeprecationWarning: \n",
            "The colNum attribute was deprecated in Matplotlib 3.2 and will be removed two minor releases later. Use ax.get_subplotspec().colspan.start instead.\n",
            "  layout[ax.rowNum, ax.colNum] = ax.get_visible()\n",
            "/usr/local/lib/python3.7/dist-packages/pandas/plotting/_tools.py:314: MatplotlibDeprecationWarning: \n",
            "The rowNum attribute was deprecated in Matplotlib 3.2 and will be removed two minor releases later. Use ax.get_subplotspec().rowspan.start instead.\n",
            "  if not layout[ax.rowNum + 1, ax.colNum]:\n",
            "/usr/local/lib/python3.7/dist-packages/pandas/plotting/_tools.py:314: MatplotlibDeprecationWarning: \n",
            "The colNum attribute was deprecated in Matplotlib 3.2 and will be removed two minor releases later. Use ax.get_subplotspec().colspan.start instead.\n",
            "  if not layout[ax.rowNum + 1, ax.colNum]:\n"
          ],
          "name": "stderr"
        },
        {
          "output_type": "display_data",
          "data": {
            "image/png": "[encoded data removed]",
            "text/plain": [
              "<Figure size 864x576 with 4 Axes>"
            ]
          },
          "metadata": {
            "tags": [],
            "needs_background": "light"
          }
        }
      ]
    },
    {
      "cell_type": "code",
      "metadata": {
        "colab": {
          "base_uri": "https://localhost:8080/",
          "height": 297
        },
        "id": "G41Qxx6KGgaR",
        "outputId": "3745f469-40ea-4f80-b318-6355ead437dc"
      },
      "source": [
        "sns.violinplot(x='species', y='sepal_length', data=df)"
      ],
      "execution_count": 29,
      "outputs": [
        {
          "output_type": "execute_result",
          "data": {
            "text/plain": [
              "<matplotlib.axes._subplots.AxesSubplot at 0x7fcc506537d0>"
            ]
          },
          "metadata": {
            "tags": []
          },
          "execution_count": 29
        },
        {
          "output_type": "display_data",
          "data": {
            "image/png": "[encoded data removed]",
            "text/plain": [
              "<Figure size 432x288 with 1 Axes>"
            ]
          },
          "metadata": {
            "tags": [],
            "needs_background": "light"
          }
        }
      ]
    },
    {
      "cell_type": "code",
      "metadata": {
        "id": "KRKCfkE0G0U0"
      },
      "source": [
        ""
      ],
      "execution_count": 29,
      "outputs": []
    },
    {
      "cell_type": "markdown",
      "metadata": {
        "id": "Fnhj_kOpURU_"
      },
      "source": [
        "# **Advanced tools** "
      ]
    },
    {
      "cell_type": "markdown",
      "metadata": {
        "id": "eWAvB-teW-7R"
      },
      "source": [
        "Pandas Profiling Report Consists of the Following Sections\n",
        "- Overview: overall data set information, dataset statistics and variable types\n",
        "- Variables: provide information about every feature individually in detail\n",
        "- Interactions: show how a variable changes with another variable\n",
        "- Correlations: show how features are co-related with each other\n",
        "- Missing Values: show missing values in every variable\n",
        "- Sample: displays the First 10 Rows and the Last 10 rows of the dataset"
      ]
    },
    {
      "cell_type": "code",
      "metadata": {
        "colab": {
          "base_uri": "https://localhost:8080/"
        },
        "id": "khDy0Jpo3N5r",
        "outputId": "9a041dd6-62d0-4dfd-82e7-2f3882bf8893"
      },
      "source": [
        "#you might need to upgrade your panda then restart runing the session\n",
        "!pip install pandas==0.23.4"
      ],
      "execution_count": 30,
      "outputs": [
        {
          "output_type": "stream",
          "text": [
            "Requirement already satisfied: pandas==0.23.4 in /usr/local/lib/python3.7/dist-packages (0.23.4)\n",
            "Requirement already satisfied: pytz>=2011k in /usr/local/lib/python3.7/dist-packages (from pandas==0.23.4) (2018.9)\n",
            "Requirement already satisfied: numpy>=1.9.0 in /usr/local/lib/python3.7/dist-packages (from pandas==0.23.4) (1.19.5)\n",
            "Requirement already satisfied: python-dateutil>=2.5.0 in /usr/local/lib/python3.7/dist-packages (from pandas==0.23.4) (2.8.1)\n",
            "Requirement already satisfied: six>=1.5 in /usr/local/lib/python3.7/dist-packages (from python-dateutil>=2.5.0->pandas==0.23.4) (1.15.0)\n"
          ],
          "name": "stdout"
        }
      ]
    },
    {
      "cell_type": "code",
      "metadata": {
        "id": "oRDqeWzr3n2s",
        "colab": {
          "base_uri": "https://localhost:8080/",
          "height": 1000
        },
        "outputId": "f08e7173-0f54-4974-d1e0-cc20624b39b3"
      },
      "source": [
        "from pandas_profiling import ProfileReport\n",
        "ProfileReport(df)"
      ],
      "execution_count": 31,
      "outputs": [
        {
          "output_type": "execute_result",
          "data": {
            "text/html": [
              "<meta charset=\"UTF-8\">\n",
              "\n",
              "<style>\n",
              "\n",
              "        .variablerow {\n",
              "            border: 1px solid #e1e1e8;\n",
              "            border-top: hidden;\n",
              "            padding-top: 2em;\n",
              "            padding-bottom: 2em;\n",
              "            padding-left: 1em;\n",
              "            padding-right: 1em;\n",
              "        }\n",
              "\n",
              "        .headerrow {\n",
              "            border: 1px solid #e1e1e8;\n",
              "            background-color: #f5f5f5;\n",
              "            padding: 2em;\n",
              "        }\n",
              "        .namecol {\n",
              "            margin-top: -1em;\n",
              "            overflow-x: auto;\n",
              "        }\n",
              "\n",
              "        .dl-horizontal dt {\n",
              "            text-align: left;\n",
              "            padding-right: 1em;\n",
              "            white-space: normal;\n",
              "        }\n",
              "\n",
              "        .dl-horizontal dd {\n",
              "            margin-left: 0;\n",
              "        }\n",
              "\n",
              "        .ignore {\n",
              "            opacity: 0.4;\n",
              "        }\n",
              "\n",
              "        .container.pandas-profiling {\n",
              "            max-width:975px;\n",
              "        }\n",
              "\n",
              "        .col-md-12 {\n",
              "            padding-left: 2em;\n",
              "        }\n",
              "\n",
              "        .indent {\n",
              "            margin-left: 1em;\n",
              "        }\n",
              "\n",
              "        .center-img {\n",
              "            margin-left: auto !important;\n",
              "            margin-right: auto !important;\n",
              "            display: block;\n",
              "        }\n",
              "\n",
              "        /* Table example_values */\n",
              "            table.example_values {\n",
              "                border: 0;\n",
              "            }\n",
              "\n",
              "            .example_values th {\n",
              "                border: 0;\n",
              "                padding: 0 ;\n",
              "                color: #555;\n",
              "                font-weight: 600;\n",
              "            }\n",
              "\n",
              "            .example_values tr, .example_values td{\n",
              "                border: 0;\n",
              "                padding: 0;\n",
              "                color: #555;\n",
              "            }\n",
              "\n",
              "        /* STATS */\n",
              "            table.stats {\n",
              "                border: 0;\n",
              "            }\n",
              "\n",
              "            .stats th {\n",
              "                border: 0;\n",
              "                padding: 0 2em 0 0;\n",
              "                color: #555;\n",
              "                font-weight: 600;\n",
              "            }\n",
              "\n",
              "            .stats tr {\n",
              "                border: 0;\n",
              "            }\n",
              "\n",
              "            .stats td{\n",
              "                color: #555;\n",
              "                padding: 1px;\n",
              "                border: 0;\n",
              "            }\n",
              "\n",
              "\n",
              "        /* Sample table */\n",
              "            table.sample {\n",
              "                border: 0;\n",
              "                margin-bottom: 2em;\n",
              "                margin-left:1em;\n",
              "            }\n",
              "            .sample tr {\n",
              "                border:0;\n",
              "            }\n",
              "            .sample td, .sample th{\n",
              "                padding: 0.5em;\n",
              "                white-space: nowrap;\n",
              "                border: none;\n",
              "\n",
              "            }\n",
              "\n",
              "            .sample thead {\n",
              "                border-top: 0;\n",
              "                border-bottom: 2px solid #ddd;\n",
              "            }\n",
              "\n",
              "            .sample td {\n",
              "                width:100%;\n",
              "            }\n",
              "\n",
              "\n",
              "        /* There is no good solution available to make the divs equal height and then center ... */\n",
              "            .histogram {\n",
              "                margin-top: 3em;\n",
              "            }\n",
              "        /* Freq table */\n",
              "\n",
              "            table.freq {\n",
              "                margin-bottom: 2em;\n",
              "                border: 0;\n",
              "            }\n",
              "            table.freq th, table.freq tr, table.freq td {\n",
              "                border: 0;\n",
              "                padding: 0;\n",
              "            }\n",
              "\n",
              "            .freq thead {\n",
              "                font-weight: 600;\n",
              "                white-space: nowrap;\n",
              "                overflow: hidden;\n",
              "                text-overflow: ellipsis;\n",
              "\n",
              "            }\n",
              "\n",
              "            td.fillremaining{\n",
              "                width:auto;\n",
              "                max-width: none;\n",
              "            }\n",
              "\n",
              "            td.number, th.number {\n",
              "                text-align:right ;\n",
              "            }\n",
              "\n",
              "        /* Freq mini */\n",
              "            .freq.mini td{\n",
              "                width: 50%;\n",
              "                padding: 1px;\n",
              "                font-size: 12px;\n",
              "\n",
              "            }\n",
              "            table.freq.mini {\n",
              "                 width:100%;\n",
              "            }\n",
              "            .freq.mini th {\n",
              "                overflow: hidden;\n",
              "                text-overflow: ellipsis;\n",
              "                white-space: nowrap;\n",
              "                max-width: 5em;\n",
              "                font-weight: 400;\n",
              "                text-align:right;\n",
              "                padding-right: 0.5em;\n",
              "            }\n",
              "\n",
              "            .missing {\n",
              "                color: #a94442;\n",
              "            }\n",
              "            .alert, .alert > th, .alert > td {\n",
              "                color: #a94442;\n",
              "            }\n",
              "\n",
              "\n",
              "        /* Bars in tables */\n",
              "            .freq .bar{\n",
              "                float: left;\n",
              "                width: 0;\n",
              "                height: 100%;\n",
              "                line-height: 20px;\n",
              "                color: #fff;\n",
              "                text-align: center;\n",
              "                background-color: #337ab7;\n",
              "                border-radius: 3px;\n",
              "                margin-right: 4px;\n",
              "            }\n",
              "            .other .bar {\n",
              "                background-color: #999;\n",
              "            }\n",
              "            .missing .bar{\n",
              "                background-color: #a94442;\n",
              "            }\n",
              "            .tooltip-inner {\n",
              "                width: 100%;\n",
              "                white-space: nowrap;\n",
              "                text-align:left;\n",
              "            }\n",
              "\n",
              "            .extrapadding{\n",
              "                padding: 2em;\n",
              "            }\n",
              "\n",
              "            .pp-anchor{\n",
              "\n",
              "            }\n",
              "\n",
              "</style>\n",
              "\n",
              "<div class=\"container pandas-profiling\">\n",
              "    <div class=\"row headerrow highlight\">\n",
              "        <h1>Overview</h1>\n",
              "    </div>\n",
              "    <div class=\"row variablerow\">\n",
              "    <div class=\"col-md-6 namecol\">\n",
              "        <p class=\"h4\">Dataset info</p>\n",
              "        <table class=\"stats\" style=\"margin-left: 1em;\">\n",
              "            <tbody>\n",
              "            <tr>\n",
              "                <th>Number of variables</th>\n",
              "                <td>5 </td>\n",
              "            </tr>\n",
              "            <tr>\n",
              "                <th>Number of observations</th>\n",
              "                <td>150 </td>\n",
              "            </tr>\n",
              "            <tr>\n",
              "                <th>Total Missing (%)</th>\n",
              "                <td>0.0% </td>\n",
              "            </tr>\n",
              "            <tr>\n",
              "                <th>Total size in memory</th>\n",
              "                <td>5.9 KiB </td>\n",
              "            </tr>\n",
              "            <tr>\n",
              "                <th>Average record size in memory</th>\n",
              "                <td>40.5 B </td>\n",
              "            </tr>\n",
              "            </tbody>\n",
              "        </table>\n",
              "    </div>\n",
              "    <div class=\"col-md-6 namecol\">\n",
              "        <p class=\"h4\">Variables types</p>\n",
              "        <table class=\"stats\" style=\"margin-left: 1em;\">\n",
              "            <tbody>\n",
              "            <tr>\n",
              "                <th>Numeric</th>\n",
              "                <td>3 </td>\n",
              "            </tr>\n",
              "            <tr>\n",
              "                <th>Categorical</th>\n",
              "                <td>1 </td>\n",
              "            </tr>\n",
              "            <tr>\n",
              "                <th>Boolean</th>\n",
              "                <td>0 </td>\n",
              "            </tr>\n",
              "            <tr>\n",
              "                <th>Date</th>\n",
              "                <td>0 </td>\n",
              "            </tr>\n",
              "            <tr>\n",
              "                <th>Text (Unique)</th>\n",
              "                <td>0 </td>\n",
              "            </tr>\n",
              "            <tr>\n",
              "                <th>Rejected</th>\n",
              "                <td>1 </td>\n",
              "            </tr>\n",
              "            <tr>\n",
              "                <th>Unsupported</th>\n",
              "                <td>0 </td>\n",
              "            </tr>\n",
              "            </tbody>\n",
              "        </table>\n",
              "    </div>\n",
              "    <div class=\"col-md-12\" style=\"padding-left: 1em;\">\n",
              "        \n",
              "        <p class=\"h4\">Warnings</p>\n",
              "        <ul class=\"list-unstyled\"><li><a href=\"#pp_var_petal_width\"><code>petal_width</code></a> is highly correlated with <a href=\"#pp_var_petal_length\"><code>petal_length</code></a> (ρ = 0.96287) <span class=\"label label-primary\">Rejected</span></li><li>Dataset has 1 duplicate rows <span class=\"label label-warning\">Warning</span></li> </ul>\n",
              "    </div>\n",
              "</div>\n",
              "    <div class=\"row headerrow highlight\">\n",
              "        <h1>Variables</h1>\n",
              "    </div>\n",
              "    <div class=\"row variablerow\">\n",
              "    <div class=\"col-md-3 namecol\">\n",
              "        <p class=\"h4 pp-anchor\" id=\"pp_var_petal_length\">petal_length<br/>\n",
              "            <small>Numeric</small>\n",
              "        </p>\n",
              "    </div><div class=\"col-md-6\">\n",
              "    <div class=\"row\">\n",
              "        <div class=\"col-sm-6\">\n",
              "            <table class=\"stats \">\n",
              "                <tr>\n",
              "                    <th>Distinct count</th>\n",
              "                    <td>43</td>\n",
              "                </tr>\n",
              "                <tr>\n",
              "                    <th>Unique (%)</th>\n",
              "                    <td>28.7%</td>\n",
              "                </tr>\n",
              "                <tr class=\"ignore\">\n",
              "                    <th>Missing (%)</th>\n",
              "                    <td>0.0%</td>\n",
              "                </tr>\n",
              "                <tr class=\"ignore\">\n",
              "                    <th>Missing (n)</th>\n",
              "                    <td>0</td>\n",
              "                </tr>\n",
              "                <tr class=\"ignore\">\n",
              "                    <th>Infinite (%)</th>\n",
              "                    <td>0.0%</td>\n",
              "                </tr>\n",
              "                <tr class=\"ignore\">\n",
              "                    <th>Infinite (n)</th>\n",
              "                    <td>0</td>\n",
              "                </tr>\n",
              "            </table>\n",
              "\n",
              "        </div>\n",
              "        <div class=\"col-sm-6\">\n",
              "            <table class=\"stats \">\n",
              "\n",
              "                <tr>\n",
              "                    <th>Mean</th>\n",
              "                    <td>3.758</td>\n",
              "                </tr>\n",
              "                <tr>\n",
              "                    <th>Minimum</th>\n",
              "                    <td>1</td>\n",
              "                </tr>\n",
              "                <tr>\n",
              "                    <th>Maximum</th>\n",
              "                    <td>6.9</td>\n",
              "                </tr>\n",
              "                <tr class=\"ignore\">\n",
              "                    <th>Zeros (%)</th>\n",
              "                    <td>0.0%</td>\n",
              "                </tr>\n",
              "            </table>\n",
              "        </div>\n",
              "    </div>\n",
              "</div>\n",
              "<div class=\"col-md-3 collapse in\" id=\"minihistogram-8714011591733250825\">\n",
              "    <img src=\"data:image/png;base64,iVBORw0KGgoAAAANSUhEUgAAAMgAAABLCAYAAAA1fMjoAAAABHNCSVQICAgIfAhkiAAAAAlwSFlzAAAPYQAAD2EBqD%2BnaQAAADh0RVh0U29mdHdhcmUAbWF0cGxvdGxpYiB2ZXJzaW9uMy4yLjIsIGh0dHA6Ly9tYXRwbG90bGliLm9yZy%2BWH4yJAAABMklEQVR4nO3cwY3CMBRAwWVFSRSxPXGmJ4qgJ3NfoSeCZCUkM/dIvjx9x7FyGmOMH%2BCl37UXAFt2XnsB/12u98XPPG5/E1YCJggkgUAQCASBQBAIBIFAEAgEgUAQCITNfUlnuaW3D9w8eJ8JAkEgEAQCwTvIxnxym5l5TBAIAoEgEAgCgSAQCAKBIBAIAoEgEAi%2BpB%2BQf4%2B9zwSBIBAIAoEgEAgCgbCLUyynMsxigkAQCIRdbLGY76jbWBMEgkAgCASCd5CJ/MLn%2B5kgEAQCwRaLafZwNGyCQBAIBFusBZxKHY8JAkEgEAQC4TTGGGsvArbKBIEgEAgCgSAQCAKBIBAIAoEgEAgCgSAQCAKBIBAIAoEgEAgCgSAQCAKBIBAIAoEgEAgCgSAQCAKBIBAIAoHwBD5CHtSMkte0AAAAAElFTkSuQmCC\">\n",
              "\n",
              "</div>\n",
              "<div class=\"col-md-12 text-right\">\n",
              "    <a role=\"button\" data-toggle=\"collapse\" data-target=\"#descriptives-8714011591733250825,#minihistogram-8714011591733250825\"\n",
              "       aria-expanded=\"false\" aria-controls=\"collapseExample\">\n",
              "        Toggle details\n",
              "    </a>\n",
              "</div>\n",
              "<div class=\"row collapse col-md-12\" id=\"descriptives-8714011591733250825\">\n",
              "    <ul class=\"nav nav-tabs\" role=\"tablist\">\n",
              "        <li role=\"presentation\" class=\"active\"><a href=\"#quantiles-8714011591733250825\"\n",
              "                                                  aria-controls=\"quantiles-8714011591733250825\" role=\"tab\"\n",
              "                                                  data-toggle=\"tab\">Statistics</a></li>\n",
              "        <li role=\"presentation\"><a href=\"#histogram-8714011591733250825\" aria-controls=\"histogram-8714011591733250825\"\n",
              "                                   role=\"tab\" data-toggle=\"tab\">Histogram</a></li>\n",
              "        <li role=\"presentation\"><a href=\"#common-8714011591733250825\" aria-controls=\"common-8714011591733250825\"\n",
              "                                   role=\"tab\" data-toggle=\"tab\">Common Values</a></li>\n",
              "        <li role=\"presentation\"><a href=\"#extreme-8714011591733250825\" aria-controls=\"extreme-8714011591733250825\"\n",
              "                                   role=\"tab\" data-toggle=\"tab\">Extreme Values</a></li>\n",
              "\n",
              "    </ul>\n",
              "\n",
              "    <div class=\"tab-content\">\n",
              "        <div role=\"tabpanel\" class=\"tab-pane active row\" id=\"quantiles-8714011591733250825\">\n",
              "            <div class=\"col-md-4 col-md-offset-1\">\n",
              "                <p class=\"h4\">Quantile statistics</p>\n",
              "                <table class=\"stats indent\">\n",
              "                    <tr>\n",
              "                        <th>Minimum</th>\n",
              "                        <td>1</td>\n",
              "                    </tr>\n",
              "                    <tr>\n",
              "                        <th>5-th percentile</th>\n",
              "                        <td>1.3</td>\n",
              "                    </tr>\n",
              "                    <tr>\n",
              "                        <th>Q1</th>\n",
              "                        <td>1.6</td>\n",
              "                    </tr>\n",
              "                    <tr>\n",
              "                        <th>Median</th>\n",
              "                        <td>4.35</td>\n",
              "                    </tr>\n",
              "                    <tr>\n",
              "                        <th>Q3</th>\n",
              "                        <td>5.1</td>\n",
              "                    </tr>\n",
              "                    <tr>\n",
              "                        <th>95-th percentile</th>\n",
              "                        <td>6.1</td>\n",
              "                    </tr>\n",
              "                    <tr>\n",
              "                        <th>Maximum</th>\n",
              "                        <td>6.9</td>\n",
              "                    </tr>\n",
              "                    <tr>\n",
              "                        <th>Range</th>\n",
              "                        <td>5.9</td>\n",
              "                    </tr>\n",
              "                    <tr>\n",
              "                        <th>Interquartile range</th>\n",
              "                        <td>3.5</td>\n",
              "                    </tr>\n",
              "                </table>\n",
              "            </div>\n",
              "            <div class=\"col-md-4 col-md-offset-2\">\n",
              "                <p class=\"h4\">Descriptive statistics</p>\n",
              "                <table class=\"stats indent\">\n",
              "                    <tr>\n",
              "                        <th>Standard deviation</th>\n",
              "                        <td>1.7653</td>\n",
              "                    </tr>\n",
              "                    <tr>\n",
              "                        <th>Coef of variation</th>\n",
              "                        <td>0.46974</td>\n",
              "                    </tr>\n",
              "                    <tr>\n",
              "                        <th>Kurtosis</th>\n",
              "                        <td>-1.4021</td>\n",
              "                    </tr>\n",
              "                    <tr>\n",
              "                        <th>Mean</th>\n",
              "                        <td>3.758</td>\n",
              "                    </tr>\n",
              "                    <tr>\n",
              "                        <th>MAD</th>\n",
              "                        <td>1.5627</td>\n",
              "                    </tr>\n",
              "                    <tr class=\"\">\n",
              "                        <th>Skewness</th>\n",
              "                        <td>-0.27488</td>\n",
              "                    </tr>\n",
              "                    <tr>\n",
              "                        <th>Sum</th>\n",
              "                        <td>563.7</td>\n",
              "                    </tr>\n",
              "                    <tr>\n",
              "                        <th>Variance</th>\n",
              "                        <td>3.1163</td>\n",
              "                    </tr>\n",
              "                    <tr>\n",
              "                        <th>Memory size</th>\n",
              "                        <td>1.2 KiB</td>\n",
              "                    </tr>\n",
              "                </table>\n",
              "            </div>\n",
              "        </div>\n",
              "        <div role=\"tabpanel\" class=\"tab-pane col-md-8 col-md-offset-2\" id=\"histogram-8714011591733250825\">\n",
              "            <img src=\"data:image/png;base64,iVBORw0KGgoAAAANSUhEUgAAAlgAAAGQCAYAAAByNR6YAAAABHNCSVQICAgIfAhkiAAAAAlwSFlzAAAPYQAAD2EBqD%2BnaQAAADh0RVh0U29mdHdhcmUAbWF0cGxvdGxpYiB2ZXJzaW9uMy4yLjIsIGh0dHA6Ly9tYXRwbG90bGliLm9yZy%2BWH4yJAAAgAElEQVR4nO3df1yV9f3/8SdwhAlyVKqjDS3aXG6G64coRjaNUjNXq/yBbU0tKzWSZFoaatotEw2dOfFm2qbbciuWs6moaI1lv7htsx/rUOqc2raYjpNCKB9M%2BfH9w6%2B0I5qX%2BZb3uTiP%2B%2B3GzZvvc3nxPC%2B5Lp9e14ET0dDQ0CAAAAAYE2k7AAAAQEtDwQIAADCMggUAAGAYBQsAAMAwChYAAIBhFCwAAADDKFgAAACGUbAAAAAMo2ABAAAYRsECAAAwjIIFAABgGAULAADAMAoWAACAYRQsAAAAwyhYAAAAhlGwAAAADKNgAQAAGEbBAgAAMIyCBQAAYBgFCwAAwDAKFgAAgGEULAAAAMMoWAAAAIZRsAAAAAyjYAEAABhGwQIAADCMggUAAGAYBQsAAMAwChYAAIBhFCwAAADDKFgAAACGUbAAAAAMo2ABAAAYRsECAAAwjIIFAABgGAULAADAMAoWAACAYRQsAAAAwyhYAAAAhnlsBwgXgcAh4/uMjIxQQkKcDh6sVn19g/H9txTMyRnm5AxzcoY5OcOcnDmXOV10Ufx5SvXluILlYpGREYqIiFBkZITtKCGNOTnDnJxhTs4wJ2eYkzNunBMFCwAAwDAKFgAAgGEULAAAAMMoWAAAAIZRsAAAAAyjYAEAABhGwQIAADCMggUAAGAYBQsAAMAwChYAAIBhFCwAAADDKFgAAACGUbAAAAAM89gOgHOTMq3IdgTHNk28znYEAACaBVewAAAADKNgAQAAGEbBAgAAMIyCBQAAYBgFCwAAwDAKFgAAgGEULAAAAMMoWAAAAIZRsAAAAAyjYAEAABhGwQIAADAsbN%2BLcMeOHcrNzVVpaaliYmLUq1cvTZs2TXv27NHIkSMVHR0dtP3TTz%2BtQYMGWUoLAADcJCyvYB09elT33nuvevXqpZKSEhUWFurAgQOaNWuWJCkxMVF%2Bvz/og3IFAACcCsuCVVNTo%2BzsbI0dO1bR0dFKSEhQ//79tWvXLtvRAABACxCWBatt27YaNmyYPJ7jd0j37Nmjl19%2BufEqVXV1tTIzM5Wamqrrr79eK1euVENDg83IAADARcL2NViSVFZWpoEDB6q2tlbDhw9XVlaWduzYocsvv1yjRo3SwoUL9Ze//EUPP/yw4uPjNXToUEf7LS8vVyAQCFrzeGLl8/mM5o%2BKclc/9njs5D0xJ7fNq7kxJ2eYkzPMyRnm5Iwb5xTREOaXZhoaGvTPf/5Tjz/%2BuC666CItWLCgyTZ5eXl677339Nvf/tbRPhcvXqz8/PygtczMTGVlZRnJ/L9SphUZ3%2Bf5su2pm21HAACgWYT1FSxJioiIUFJSkrKzszVixAhNmzZNCQkJQdskJiZq8%2BbNjveZkZGh9PT0oDWPJ1YVFdVGMp/gpiYvyfjzdyoqKlJeb2tVVdWorq7eSgY3YE7OMCdnmJMzzMmZc5lT%2B/Zx5ynVlwvLglVSUqJZs2Zp06ZNiow8XlJO/Lp161bV1NTohz/8YeP2e/bsUefOnR3v3%2BfzNbkdGAgcUm1teB88tp9/XV299QxuwJycYU7OMCdnmJMzbpqTuy6BGJKcnKzDhw8rLy9PNTU1OnjwoBYvXqyUlBTFx8dr3rx5evPNN3Xs2DG99dZb%2Bv3vf6%2B77rrLdmwAAOASYXkFKz4%2BXitWrNDs2bPVu3dvxcbGqnfv3nrqqafUoUMH5eTk6Mknn9S%2Bfft04YUXKicnRwMGDLAdGwAAuERYFixJ6tq1q55//vlTPpaRkaGMjIxmTgQAAFqKsLxFCAAAcD5RsAAAAAyjYAEAABhGwQIAADCMggUAAGAYBQsAAMAwChYAAIBhFCwAAADDKFgAAACGUbAAAAAMo2ABAAAYRsECAAAwjIIFAABgGAULAADAMAoWAACAYRQsAAAAwyhYAAAAhlGwAAAADKNgAQAAGEbBAgAAMIyCBQAAYBgFCwAAwDAKFgAAgGEULAAAAMMoWAAAAIZRsAAAAAyjYAEAABhGwQIAADCMggUAAGAYBQsAAMCwsC1YO3bs0KhRo9SjRw%2BlpaVp4sSJCgQCkqSSkhINHTpU11xzjQYPHqx169ZZTgsAANwkLAvW0aNHde%2B996pXr14qKSlRYWGhDhw4oFmzZqm8vFwPPvigRowYoZKSEk2bNk0zZsyQ3%2B%2B3HRsAALhEWBasmpoaZWdna%2BzYsYqOjlZCQoL69%2B%2BvXbt2af369UpKStLQoUMVExOjtLQ0paen66WXXrIdGwAAuERYFqy2bdtq2LBh8ng8kqQ9e/bo5Zdf1qBBg/Thhx%2BqW7duQdt369ZNpaWlNqICAAAX8tgOYFNZWZkGDhyo2tpaDR8%2BXFlZWbr//vvVoUOHoO3atWuniooKx/stLy9vfD3XCR5PrHw%2Bn5HcJ0RFuasfezx28p6Yk9vm1dyYkzPMyRnm5AxzcsaNcwrrgpWYmCi/369//vOfevzxx/Xoo48a2W9BQYHy8/OD1jIzM5WVlWVk/27Vvn2c1c/v9ba2%2Bvndgjk5w5ycYU7OMCdn3DSnsC5YkhQREaGkpCRlZ2drxIgR6tu3ryorK4O2qaioUEJCguN9ZmRkKD09PWjN44lVRUW1kcwnuKnJSzL%2B/J2KioqU19taVVU1qqurt5LBDZiTM8zJGebkDHNy5lzmZOs/92FZsEpKSjRr1ixt2rRJkZHHS8qJX7/73e9q8%2BbNQduXlpbqyiuvdLx/n8/X5HZgIHBItbXhffDYfv51dfXWM7gBc3KGOTnDnJxhTs64aU7uugRiSHJysg4fPqy8vDzV1NTo4MGDWrx4sVJSUnTXXXeprKxML730kj7//HNt3bpVW7du1fDhw23HBgAALhGWBSs%2BPl4rVqxQaWmpevfurcGDBys%2BPl4//elPdcEFF2jZsmVatWqVevTooTlz5igvL0/f/va3bccGAAAuEZa3CCWpa9euev7550/5WM%2BePbV27dpmTgQAAFqKsLyCBQAAcD5RsAAAAAwL21uEANBSDXrmLdsRHNs08TrbEYDzgitYAAAAhlGwAAAADKNgAQAAGEbBAgAAMIyCBQAAYBgFCwAAwDAKFgAAgGEULAAAAMMoWAAAAIZRsAAAAAyjYAEAABhGwQIAADCMggUAAGAYBQsAAMAwChYAAIBhFCwAAADDKFgAAACGUbAAAAAMo2ABAAAYRsECAAAwjIIFAABgGAULAADAMAoWAACAYRQsAAAAwzy2AwBAqBv0zFu2IwBwGa5gAQAAGEbBAgAAMIyCBQAAYFjYvgarrKxMc%2BbM0bZt2xQVFaXvfe97ysnJUVVVlW688UZFR0cHbT9x4kSNGTPGUloAAOAmYVuwxo0bp%2BTkZBUXF%2BvQoUPKzMzUvHnzNH78eEmS3%2B%2B3nBAAALhVWN4irKqqUnJysiZNmqS4uDh17NhRd9xxh7Zt22Y7GgAAaAHC8gqW1%2BtVbm5u0Nq%2Bffvk8/kaf//oo4/q7bffVm1trYYNG6asrCy1atXK0f7Ly8sVCASC1jye2KD9mxAV5a5%2B7PHYyXtiTm6bV3NjTrDB1nkhVHDcOePGOYVlwTqZ3%2B/XqlWrtHTpUkVHR%2Bvqq69W//799dRTT2n79u2aMGGCPB6PHn74YUf7KygoUH5%2BftBaZmamsrKyzkd812jfPs7q5/d6W1v9/G7BnNCcbJ8XQgXHnTNumlPYF6x33nlH48eP16RJk5SWliZJevHFFxsf/%2B53v6uxY8dq2bJljgtWRkaG0tPTg9Y8nlhVVFSbCy53NXlJxp%2B/U1FRkfJ6W6uqqkZ1dfVWMrgBc4INts4LoYLjzplzmZOtEh/WBau4uFiPPPKIZsyYodtvv/202yUmJurTTz9VQ0ODIiIizrhfn8/X5HZgIHBItbXhffDYfv51dfXWM7gBc0Jz4mvtOI47Z9w0J3ddAjHo3Xff1ZQpU7Ro0aKgclVSUqKlS5cGbbtnzx4lJiY6KlcAAABhWbBqa2s1ffp0TZ48WX369Al6LD4%2BXkuWLNHatWt17Ngx%2Bf1%2B/eIXv9Bdd91lKS0AAHCbsLxF%2BP7772v37t2aPXu2Zs%2BeHfRYUVGRFi5cqPz8fD3%2B%2BOOKj4/Xj3/8Y40aNcpSWgAA4DZhWbBSUlK0c%2BfO0z6emJio/v37N2MiAADQkoTlLUIAAIDziYIFAABgGAULAADAMAoWAACAYRQsAAAAwyhYAAAAhrmqYKWnpys/P1/79u2zHQUAAOC0XFWwhgwZoo0bN%2Bqmm27Sfffdpy1btqi2ttZ2LAAAgCCuKliZmZnauHGjfve73%2Blb3/qW5syZo759%2ByovL0979%2B61HQ8AAECSywrWCVdccYWmTJmiP/3pT8rJydHvfvc73XLLLRozZow%2B%2BOAD2/EAAECYc2XBOnbsmDZu3Kj7779fU6ZMUYcOHfTYY4/pO9/5jkaPHq3169fbjggAAMKYq96LcPfu3Vq9erX%2B8Ic/qLq6WgMHDtSvfvUr9ejRo3Gbnj17atasWbr11lstJgUAAOHMVQVr8ODBuuyyyzR27FjdfvvtateuXZNt%2Bvbtq4MHD1pIBwAAcJyrCtavf/1r9erV64zb/e1vf2uGNAAAAKfmqtdgde3aVePGjdOrr77auPbLX/5S999/vyorKy0mAwAA%2BIKrClZubq4OHTqkLl26NK7169dP9fX1mjt3rsVkAAAAX3DVLcI333xT69evV/v27RvXkpKSNH/%2BfH3/%2B9%2B3mAwAAOALrrqCdeTIEcXExDRZj4yMVE1NjYVEAAAATbmqYPXs2VNz587VZ5991rj23//%2BV0888UTQj2oAAACwyVW3CHNycnTvvffq2muvVZs2bVRfX6/q6mp17txZzz//vO14AAAAklxWsDp37qwNGzbo9ddf17/%2B9S9FRkbqsssuU58%2BfRQVFWU7HgAAgCSXFSxJio6O1k033WQ7BgAAwGm5qmD9%2B9//1oIFC7Rr1y4dOXKkyeN//OMfLaQCAAAI5qqClZOTo/LycvXp00exsbG24wAAAJySqwpWaWmp/vjHPyohIcF2FAAAgNNy1Y9puOCCC7hyBQAAQp6rCtbYsWOVn5%2BvhoYG21EAAABOy1W3CF9//XW9%2B%2B67WrNmjTp16qTIyOB%2B%2BOKLL1pKBgAA8AVXFaw2bdroe9/7nu0YAAAAX8pVBSs3N9d2BAAAgDNy1WuwJGnPnj1avHixHnvssca1995776z3U1ZWpszMTKWmpiotLU1Tp05VVVWVJGn79u26%2B%2B671aNHDw0YMEArVqwwlh8AALR8ripYJSUluu2227RlyxYVFhZKOv7DR0eOHHnWP2R03Lhx8nq9Ki4u1po1a7Rr1y7NmzdPR44c0dixY9W7d2%2B98cYbWrhwoZYtW6YtW7acj6cEAABaIFcVrIULF%2BqRRx7R%2BvXrFRERIen4%2BxPOnTtXS5YscbyfqqoqJScna9KkSYqLi1PHjh11xx13aNu2bXrttdd07NgxjR8/XrGxsbriiis0bNgwFRQUnK%2BnBQAAWhhXvQbr73//u1atWiVJjQVLkm6%2B%2BWbl5OQ43o/X623yeq59%2B/bJ5/Ppww8/VNeuXYPePLpbt2566aWXHO%2B/vLxcgUAgaM3jiZXP53O8DyeiolzVj%2BXx2Ml7Yk5um1dzY06wwdZ5IVRw3Dnjxjm5qmDFx8fryJEjio6ODlovLy9vsnY2/H6/Vq1apaVLl2rTpk3yer1Bj7dr106VlZWqr69v8qMhTqWgoED5%2BflBa5mZmcrKyvrKGVuC9u3jrH5%2Br7e11c/vFswJzcn2eSFUcNw546Y5uapgXXPNNZozZ46mT5/euLZ3717NnDlT11577Vfa5zvvvKPx48dr0qRJSktL06ZNm0653f9eMTuTjIwMpaenB615PLGqqKj%2BShlPx01NXpLx5%2B9UVFSkvN7WqqqqUV1dvZUMbsCcYIOt80Ko4Lhz5lzmZKvEu6pgPfbYYxo1apRSU1NVV1ena665RjU1NfrWt76luXPnnvX%2BiouL9cgjj2jGjBm6/fbbJUkJCQn6%2BOOPg7arrKxUu3btHF29kiSfz9fkdmAgcEi1teF98Nh%2B/nV19dYzuAFzQnPia%2B04jjtn3DQnVxWsjh07qrCwUFu3btXevXv1ta99TZdddpmuu%2B66s7rCJEnvvvuupkyZokWLFqlPnz6N68nJyXrhhRdUW1srj%2Bf4ePx%2Bv6688kqjzwUAALRcripYktSqVSvddNNN57SP2tpaTZ8%2BXZMnTw4qV5LUt29ftWnTRkuXLtV9992nv//971q9erXy8vLO6XMCAIDw4aqClZ6e/qVXqpz%2BLKz3339fu3fv1uzZszV79uygx4qKivTss89q5syZWr58uS688EJlZ2erX79%2B5xIdAACEEVcVrFtuuSWoYNXV1Wnv3r3y%2B/0aNWqU4/2kpKRo586dX7rNCy%2B88JVzAgCA8OaqgjV58uRTrm/evFl//vOfmzkNAADAqbnr%2B/xP46abbtKGDRtsxwAAAJDUQgrWRx99pIaGBtsxAAAAJLnsFuGIESOarNXU1Gj37t0aMGCAhUQAAABNuapgJSUlNfkuwpiYGA0dOlTDhg2zlAoAACCYqwrWV/lp7QAAAM3NVQXrD3/4g%2BNtT7z1DQAAQHNzVcGaNm2a6uvrm7ygPSIiImgtIiKCggUAAKxxVcH6%2Bc9/rhUrVmjcuHHq2rWrGhoatHPnTj333HO6%2B%2B67lZqaajsiAACAuwrW3LlztXz5cnXo0KFxLSUlRZ07d9aYMWNUWFhoMR0AAMBxripYH3/8sdq2bdtk3ev1qqyszEIiAMC5GPTMW7YjnJVNE6%2BzHQEu4aofNJqYmKi5c%2BeqoqKica2qqkoLFizQJZdcYjEZAADAF1x1BSsnJ0eTJk1SQUGB4uLiFBkZqcOHD%2BtrX/ualixZYjseAACAJJcVrD59%2Bui1117T1q1btX//fjU0NKhDhw66/vrrFR8fbzseAACAJJcVLElq3bq1brzxRu3fv1%2BdO3e2HQcAAKAJV70G68iRI5oyZYquvvpqDRo0SNLx12Ddd999qqqqspwOAADgOFcVrLy8PG3fvl3z589XZOQX0evq6jR//nyLyQAAAL7gqoK1efNm/exnP9PNN9/c%2BKbPXq9Xubm52rJli%2BV0AAAAx7mqYFVXVyspKanJekJCgv7v//6v%2BQMBAACcgqsK1iWXXKI///nPkhT03oNFRUX6%2Bte/bisWAABAEFd9F%2BEPf/hDTZgwQUOGDFF9fb1Wrlyp0tJSbd68WdOmTbMdDwAAQJLLClZGRoY8Ho9WrVqlqKgoPfvss7rssss0f/583XzzzbbjAQAASHJZwTp48KCGDBmiIUOG2I4CAABwWq56DdaNN94Y9NorAACAUOSqgpWamqpNmzbZjgEAAPClXHWL8OKLL9ZTTz2l5cuX65JLLlGrVq2CHl%2BwYIGlZAAAAF9wVcH6xz/%2BoW984xuSpIqKCstpAAAATs0VBSs7O1sLFy7U888/37i2ZMkSZWZmWkwFAABwaq54DVZxcXGTteXLl1tIAgAAcGauKFin%2Bs5BvpsQAACEKlcUrBNv7HymtbPxxhtvKC0tTdnZ2UHra9as0be//W1179496OODDz44p88HAADChyteg2Xac889p9WrV%2BvSSy895eM9e/YMer0XAADA2XDFFSzTYmJivrRgAQAAnAtXXME6duyYJk2adMY1pz8Ha%2BTIkV/6%2BL59%2B3TPPfeotLRUXq9XWVlZ%2BsEPfuA4b3l5uQKBQNCaxxMrn8/neB9OREW5qx97PHbynpiT2%2BbV3JgTcGamz2Mcd864cU6uKFg9evRQeXn5GddMSEhIUFJSkn7yk5%2BoS5cueuWVV/Too4/K5/Pp2muvdbSPgoIC5efnB61lZmYqKyvLeF43ad8%2Bzurn93pbW/38bsGcgNM7X%2Bcxjjtn3DQnVxSs5nw9VL9%2B/dSvX7/G3w8ePFivvPKK1qxZ47hgZWRkKD09PWjN44lVRUW1yaiuavKSjD9/p6KiIuX1tlZVVY3q6uqtZHAD5gSc2fk4j3Pcndm5zMnWf%2B5dUbBsS0xMVGlpqePtfT5fk9uBgcAh1daG98Fj%2B/nX1dVbz%2BAGzAk4vfN1bHDcOeOmObnrEkgzeOGFF7Rx48agtd27d6tz586WEgEAALehYJ3k6NGjevLJJ%2BX3%2B3Xs2DEVFhbq9ddf14gRI2xHAwAALhGWtwi7d%2B8uSaqtrZUkvfrqq5Ikv9%2BvkSNHqrq6Wg8//LACgYA6deqkJUuWKDk52VpeAADgLmFZsPx%2B/2kfi4iI0IMPPqgHH3ywGRMBAICWhFuEAAAAhlGwAAAADKNgAQAAGEbBAgAAMIyCBQAAYBgFCwAAwDAKFgAAgGEULAAAAMMoWAAAAIZRsAAAAAwLy7fKgR2DnnnLdoSzsmnidbYjAABciitYAAAAhlGwAAAADKNgAQAAGEbBAgAAMIyCBQAAYBgFCwAAwDAKFgAAgGEULAAAAMMoWAAAAIZRsAAAAAyjYAEAABhGwQIAADCMggUAAGAYBQsAAMAwChYAAIBhHtsBAABwi0HPvGU7wlnZNPE62xHCFlewAAAADKNgAQAAGEbBAgAAMCxsC9Ybb7yhtLQ0ZWdnN3ls48aNuvXWW3X11Vfrzjvv1JtvvmkhIQAAcKuwfJH7c889p9WrV%2BvSSy9t8tj27ds1ZcoU5efnq3fv3tq8ebMeeughFRUVqWPHjhbSAgAAtwnLK1gxMTGnLVgvvfSS%2Bvbtq759%2ByomJka33XabLr/8cq1bt85CUgAA4EZhWbBGjhyp%2BPj4Uz724Ycfqlu3bkFr3bp1k9/vb45oAACgBQjLW4RfprKyUm3btg1aa9u2rf7xj3843kd5ebkCgUDQmscTK5/PZyTjCVFRYdmPm43HE17zPfH1xNcV0HK0lPOYG89PFKxTaGhoOKc/X1BQoPz8/KC1zMxMZWVlndN%2B0bzat4%2BzHcEKr7e17QgADGlp5zE3nZ8oWCdp3769Kisrg9YqKyuVkJDgeB8ZGRlKT08PWvN4YlVRUW0k4wluavJuZPrvK9RFRUXK622tqqoa1dXV244DwICWch47l/OTrZJJwTpJcnKySktLg9b8fr8GDx7seB8%2Bn6/J7cBA4JBqa/lHy03C9e%2Brrq4%2BbJ870NK0tGPZTecnLoGcZPjw4Xr77bf12muv6fPPP9fq1av18ccf67bbbrMdDQAAuERYXsHq3r27JKm2tlaS9Oqrr0o6fqXq8ssv1/z585Wbm6uysjJ16dJFy5Yt00UXXWQtLwAAcJewLFhn%2BpELAwYM0IABA5opDQAAaGm4RQgAAGAYBQsAAMAwChYAAIBhFCwAAADDKFgAAACGUbAAAAAMo2ABAAAYRsECAAAwjIIFAABgGAULAADAsLB8qxwAdg165i3bEQDgvOIKFgAAgGEULAAAAMMoWAAAAIZRsAAAAAyjYAEAABhGwQIAADCMggUAAGAYBQsAAMAwChYAAIBhFCwAAADDKFgAAACGUbAAAAAMo2ABAAAYRsECAAAwjIIFAABgGAULAADAMAoWAACAYRQsAAAAwyhYAAAAhnlsBwhFXbt2VatWrRQREdG4Nnz4cM2YMcNiKgAA4BYUrNMoKipSp06dbMcAAAAuxC1CAAAAwyhYp7FgwQL169dPKSkpmjFjhqqrq21HAgAALsEtwlO46qqrlJaWpnnz5unf//63Jk6cqCeeeEJPP/20oz9fXl6uQCAQtObxxMrn8xnNGRVFPz6fPJ7wmu%2BJrye%2BroCWo6Wcx9x4fopoaGhosB0i1G3dulXjx4/X%2B%2B%2B/r%2Bjo6DNuv3jxYuXn5wetZWZmKisry3i2lGlFxveJ47Y9dbPtCC0WX7cATtbSzrlcwXKgU6dOqqur04EDB3TxxRefcfuMjAylp6cHrXk8saqoMHub0U1N3o1M/32FuqioSHm9rVVVVaO6unrbcQCEmS87557L%2Bal9%2B7hzjfaVULBO8tFHH2ndunWaOnVq49ru3bsVHR3t%2BBafz%2Bdrsm0gcEi1tfyj5Sbh%2BvdVV1cfts8dgD1OzjtuOj9xCeQkF1xwgQoKCrR8%2BXIdPXpUe/fu1aJFi5SRkaGoqCjb8QAAgAtQsE7SoUMHLV%2B%2BXMXFxUpNTdWIESN0/fXX65FHHrEdDQAAuAS3CE%2BhZ8%2BeevHFF23HAAAALsUVLAAAAMMoWAAAAIZRsAAAAAyjYAEAABhGwQIAADCMggUAAGAYBQsAAMAwChYAAIBhFCwAAADDKFgAAACG8VY5QAsx6Jm3bEcAAPx/XMECAAAwjIIFAABgGAULAADAMAoWAACAYRQsAAAAwyhYAAAAhlGwAAAADKNgAQAAGEbBAgAAMIyCBQAAYBgFCwAAwDAKFgAAgGEULAAAAMMoWAAAAIZRsAAAAAyjYAEAABhGwQIAADCMggUAAGAYBQsAAMAwChYAAIBhFKxTKCsr0wMPPKDU1FTdcMMNysvLU319ve1YAADAJTy2A4SiCRMm6IorrtCrr76qAwcOaOzYsbrwwgt1zz332I4GAABcgCtYJ/H7/dqxY4cmT56s%2BPh4JSUlafTo0SooKLAdDQAAuARXsE7y4YcfKjExUW3btm1cu%2BKKK7R3714dPnxYbdq0OeM%2BysvLFQgEgtY8nlj5fD6jWaOi6Mfnk8fDfAGguXzZOffEv3du%2BnePgnWSyspKeb3eoLUTZauiosJRwSooKFB%2Bfn7Q2kMPPaQJEyaYC6rjRW5Ux13KyMgwXt5akvLychUUFLT4OW176uZz%2BvPhMqdzxZycYU7OMCdnysvL9atf/dxVc3JPFWxGDQ0N5/TnMzIytGbNmqCPjIwMQ%2Bm%2BEAgElJ%2Bf3%2BRqGYIxJ2eYkzPMyRnm5AxzcsaNc%2BIK1kkSEhJUWVkZtFZZWamIiAglJCQ42ofP53NNwwYAAOZxBeskycnJ2rdvnw4ePNi45vf71aVLF8XFxVlMBgAA3IKCdZJu3bqpe/fuWp%2Br7FoAAAZNSURBVLBggQ4fPqzdu3dr5cqVuuuuu2xHAwAALhE1a9asWbZDhJrrr79ehYWFevLJJ7VhwwYNHTpUY8aMUUREhO1oTcTFxalXr15cXTsD5uQMc3KGOTnDnJxhTs64bU4RDef6im4AAAAE4RYhAACAYRQsAAAAwyhYAAAAhlGwAAAADKNgAQAAGEbBAgAAMIyCBQAAYBgFCwAAwDAKFgAAgGEULJd64403lJaWpuzsbNtRQlpZWZkyMzOVmpqqtLQ0TZ06VVVVVbZjhZQdO3Zo1KhR6tGjh9LS0jRx4kQFAgHbsULanDlz1LVrV9sxQlLXrl2VnJys7t27N348%2BeSTtmOFpKVLl6pPnz666qqrNHr0aH3yySe2I4WUv/71r0FfR927d1dycrJrjj0Klgs999xzmj17ti699FLbUULeuHHj5PV6VVxcrDVr1mjXrl2aN2%2Be7Vgh4%2BjRo7r33nvVq1cvlZSUqLCwUAcOHBBvUXp627dv19q1a23HCGlFRUXy%2B/2NHzNmzLAdKeT85je/0bp16/TrX/9ab775prp06aJf/vKXtmOFlJ49ewZ9Hfn9fj300EMaNGiQ7WiOULBcKCYmRqtXr6ZgnUFVVZWSk5M1adIkxcXFqWPHjrrjjju0bds229FCRk1NjbKzszV27FhFR0crISFB/fv3165du2xHC0n19fWaOXOmRo8ebTsKXG7FihXKzs7WN77xDbVp00bTp0/X9OnTbccKaf/5z3%2B0cuVKPfroo7ajOELBcqGRI0cqPj7edoyQ5/V6lZubqwsvvLBxbd%2B%2BffL5fBZThZa2bdtq2LBh8ng8kqQ9e/bo5Zdfds3/EJvbiy%2B%2BqJiYGN166622o4S0BQsWqF%2B/fkpJSdGMGTNUXV1tO1JI%2Be9//6tPPvlEn332mW655RalpqYqKytLBw8etB0tpC1atEhDhgzR17/%2BddtRHKFgIWz4/X6tWrVK48ePtx0l5JSVlSk5OVm33HKLunfvrqysLNuRQs6nn36qxYsXa%2BbMmbajhLSrrrpKaWlp2rJliwoKCvT%2B%2B%2B/riSeesB0rpOzfv1/S8VupK1eu1Nq1a7V//36uYH2JTz75RFu2bNE999xjO4pjFCyEhXfeeUdjxozRpEmTlJaWZjtOyElMTJTf71dRUZE%2B/vhj11yCb065ubm688471aVLF9tRQlpBQYGGDRum6OhoffOb39TkyZNVWFioo0eP2o4WMhoaGiRJ9913nzp06KCOHTtqwoQJKi4u1ueff245XWj6zW9%2BowEDBuiiiy6yHcUxChZavOLiYj3wwAPKycnRyJEjbccJWREREUpKSlJ2drYKCwu5XfE/SkpK9N577ykzM9N2FNfp1KmT6urqdODAAdtRQsaJly14vd7GtcTERDU0NDCn09i8ebPS09NtxzgrFCy0aO%2B%2B%2B66mTJmiRYsW6fbbb7cdJ%2BSUlJRo4MCBqq%2Bvb1yLjDx%2BWmjVqpWtWCFn3bp1OnDggG644QalpqbqzjvvlCSlpqZqw4YNltOFjo8%2B%2Bkhz584NWtu9e7eio6N57eP/6Nixo9q0aaPt27c3rpWVlalVq1bM6RS2b9%2BusrIyXXfddbajnBWP7QDA%2BVJbW6vp06dr8uTJ6tOnj%2B04ISk5OVmHDx9WXl6esrKyVFNTo8WLFyslJYVvpPgfU6dO1cMPP9z4%2B/379ysjI0Nr165V27ZtLSYLLRdccIEKCgqUkJCg0aNHq6ysTIsWLVJGRoaioqJsxwsZHo9HQ4cO1bPPPquePXuqTZs2WrJkiW699dbGbzjBFz766CO1a9dObdq0sR3lrEQ0nLgZDNfo3r27pOMFQlLjAen3%2B61lCkXbtm3Tj370I0VHRzd5rKioSImJiRZShZ6dO3dq9uzZ%2BuCDDxQbG6vevXtr6tSp6tChg%2B1oIeuTTz7RjTfeqJ07d9qOEnL%2B%2Bte/asGCBdq5c6eio6N1xx13KDs7WzExMbajhZSjR48qNzdXGzZs0LFjxzRw4EDNmDFDcXFxtqOFnGXLlmn9%2BvUqLCy0HeWsULAAAAAM4zVYAAAAhlGwAAAADKNgAQAAGEbBAgAAMIyCBQAAYBgFCwAAwDAKFgAAgGEULAAAAMMoWAAAAIZRsAAAAAyjYAEAABhGwQIAADCMggUAAGDY/wPuy5313AA69QAAAABJRU5ErkJggg%3D%3D\"/>\n",
              "        </div>\n",
              "        <div role=\"tabpanel\" class=\"tab-pane col-md-12\" id=\"common-8714011591733250825\">\n",
              "            \n",
              "<table class=\"freq table table-hover\">\n",
              "    <thead>\n",
              "    <tr>\n",
              "        <td class=\"fillremaining\">Value</td>\n",
              "        <td class=\"number\">Count</td>\n",
              "        <td class=\"number\">Frequency (%)</td>\n",
              "        <td style=\"min-width:200px\">&nbsp;</td>\n",
              "    </tr>\n",
              "    </thead>\n",
              "    <tr class=\"\">\n",
              "        <td class=\"fillremaining\">1.5</td>\n",
              "        <td class=\"number\">13</td>\n",
              "        <td class=\"number\">8.7%</td>\n",
              "        <td>\n",
              "            <div class=\"bar\" style=\"width:18%\">&nbsp;</div>\n",
              "        </td>\n",
              "</tr><tr class=\"\">\n",
              "        <td class=\"fillremaining\">1.4</td>\n",
              "        <td class=\"number\">13</td>\n",
              "        <td class=\"number\">8.7%</td>\n",
              "        <td>\n",
              "            <div class=\"bar\" style=\"width:18%\">&nbsp;</div>\n",
              "        </td>\n",
              "</tr><tr class=\"\">\n",
              "        <td class=\"fillremaining\">5.1</td>\n",
              "        <td class=\"number\">8</td>\n",
              "        <td class=\"number\">5.3%</td>\n",
              "        <td>\n",
              "            <div class=\"bar\" style=\"width:11%\">&nbsp;</div>\n",
              "        </td>\n",
              "</tr><tr class=\"\">\n",
              "        <td class=\"fillremaining\">4.5</td>\n",
              "        <td class=\"number\">8</td>\n",
              "        <td class=\"number\">5.3%</td>\n",
              "        <td>\n",
              "            <div class=\"bar\" style=\"width:11%\">&nbsp;</div>\n",
              "        </td>\n",
              "</tr><tr class=\"\">\n",
              "        <td class=\"fillremaining\">1.3</td>\n",
              "        <td class=\"number\">7</td>\n",
              "        <td class=\"number\">4.7%</td>\n",
              "        <td>\n",
              "            <div class=\"bar\" style=\"width:10%\">&nbsp;</div>\n",
              "        </td>\n",
              "</tr><tr class=\"\">\n",
              "        <td class=\"fillremaining\">1.6</td>\n",
              "        <td class=\"number\">7</td>\n",
              "        <td class=\"number\">4.7%</td>\n",
              "        <td>\n",
              "            <div class=\"bar\" style=\"width:10%\">&nbsp;</div>\n",
              "        </td>\n",
              "</tr><tr class=\"\">\n",
              "        <td class=\"fillremaining\">5.6</td>\n",
              "        <td class=\"number\">6</td>\n",
              "        <td class=\"number\">4.0%</td>\n",
              "        <td>\n",
              "            <div class=\"bar\" style=\"width:9%\">&nbsp;</div>\n",
              "        </td>\n",
              "</tr><tr class=\"\">\n",
              "        <td class=\"fillremaining\">4.0</td>\n",
              "        <td class=\"number\">5</td>\n",
              "        <td class=\"number\">3.3%</td>\n",
              "        <td>\n",
              "            <div class=\"bar\" style=\"width:7%\">&nbsp;</div>\n",
              "        </td>\n",
              "</tr><tr class=\"\">\n",
              "        <td class=\"fillremaining\">4.9</td>\n",
              "        <td class=\"number\">5</td>\n",
              "        <td class=\"number\">3.3%</td>\n",
              "        <td>\n",
              "            <div class=\"bar\" style=\"width:7%\">&nbsp;</div>\n",
              "        </td>\n",
              "</tr><tr class=\"\">\n",
              "        <td class=\"fillremaining\">4.7</td>\n",
              "        <td class=\"number\">5</td>\n",
              "        <td class=\"number\">3.3%</td>\n",
              "        <td>\n",
              "            <div class=\"bar\" style=\"width:7%\">&nbsp;</div>\n",
              "        </td>\n",
              "</tr><tr class=\"other\">\n",
              "        <td class=\"fillremaining\">Other values (33)</td>\n",
              "        <td class=\"number\">73</td>\n",
              "        <td class=\"number\">48.7%</td>\n",
              "        <td>\n",
              "            <div class=\"bar\" style=\"width:100%\">&nbsp;</div>\n",
              "        </td>\n",
              "</tr>\n",
              "</table>\n",
              "        </div>\n",
              "        <div role=\"tabpanel\" class=\"tab-pane col-md-12\"  id=\"extreme-8714011591733250825\">\n",
              "            <p class=\"h4\">Minimum 5 values</p>\n",
              "            \n",
              "<table class=\"freq table table-hover\">\n",
              "    <thead>\n",
              "    <tr>\n",
              "        <td class=\"fillremaining\">Value</td>\n",
              "        <td class=\"number\">Count</td>\n",
              "        <td class=\"number\">Frequency (%)</td>\n",
              "        <td style=\"min-width:200px\">&nbsp;</td>\n",
              "    </tr>\n",
              "    </thead>\n",
              "    <tr class=\"\">\n",
              "        <td class=\"fillremaining\">1.0</td>\n",
              "        <td class=\"number\">1</td>\n",
              "        <td class=\"number\">0.7%</td>\n",
              "        <td>\n",
              "            <div class=\"bar\" style=\"width:8%\">&nbsp;</div>\n",
              "        </td>\n",
              "</tr><tr class=\"\">\n",
              "        <td class=\"fillremaining\">1.1</td>\n",
              "        <td class=\"number\">1</td>\n",
              "        <td class=\"number\">0.7%</td>\n",
              "        <td>\n",
              "            <div class=\"bar\" style=\"width:8%\">&nbsp;</div>\n",
              "        </td>\n",
              "</tr><tr class=\"\">\n",
              "        <td class=\"fillremaining\">1.2</td>\n",
              "        <td class=\"number\">2</td>\n",
              "        <td class=\"number\">1.3%</td>\n",
              "        <td>\n",
              "            <div class=\"bar\" style=\"width:16%\">&nbsp;</div>\n",
              "        </td>\n",
              "</tr><tr class=\"\">\n",
              "        <td class=\"fillremaining\">1.3</td>\n",
              "        <td class=\"number\">7</td>\n",
              "        <td class=\"number\">4.7%</td>\n",
              "        <td>\n",
              "            <div class=\"bar\" style=\"width:54%\">&nbsp;</div>\n",
              "        </td>\n",
              "</tr><tr class=\"\">\n",
              "        <td class=\"fillremaining\">1.4</td>\n",
              "        <td class=\"number\">13</td>\n",
              "        <td class=\"number\">8.7%</td>\n",
              "        <td>\n",
              "            <div class=\"bar\" style=\"width:100%\">&nbsp;</div>\n",
              "        </td>\n",
              "</tr>\n",
              "</table>\n",
              "            <p class=\"h4\">Maximum 5 values</p>\n",
              "            \n",
              "<table class=\"freq table table-hover\">\n",
              "    <thead>\n",
              "    <tr>\n",
              "        <td class=\"fillremaining\">Value</td>\n",
              "        <td class=\"number\">Count</td>\n",
              "        <td class=\"number\">Frequency (%)</td>\n",
              "        <td style=\"min-width:200px\">&nbsp;</td>\n",
              "    </tr>\n",
              "    </thead>\n",
              "    <tr class=\"\">\n",
              "        <td class=\"fillremaining\">6.3</td>\n",
              "        <td class=\"number\">1</td>\n",
              "        <td class=\"number\">0.7%</td>\n",
              "        <td>\n",
              "            <div class=\"bar\" style=\"width:50%\">&nbsp;</div>\n",
              "        </td>\n",
              "</tr><tr class=\"\">\n",
              "        <td class=\"fillremaining\">6.4</td>\n",
              "        <td class=\"number\">1</td>\n",
              "        <td class=\"number\">0.7%</td>\n",
              "        <td>\n",
              "            <div class=\"bar\" style=\"width:50%\">&nbsp;</div>\n",
              "        </td>\n",
              "</tr><tr class=\"\">\n",
              "        <td class=\"fillremaining\">6.6</td>\n",
              "        <td class=\"number\">1</td>\n",
              "        <td class=\"number\">0.7%</td>\n",
              "        <td>\n",
              "            <div class=\"bar\" style=\"width:50%\">&nbsp;</div>\n",
              "        </td>\n",
              "</tr><tr class=\"\">\n",
              "        <td class=\"fillremaining\">6.7</td>\n",
              "        <td class=\"number\">2</td>\n",
              "        <td class=\"number\">1.3%</td>\n",
              "        <td>\n",
              "            <div class=\"bar\" style=\"width:100%\">&nbsp;</div>\n",
              "        </td>\n",
              "</tr><tr class=\"\">\n",
              "        <td class=\"fillremaining\">6.9</td>\n",
              "        <td class=\"number\">1</td>\n",
              "        <td class=\"number\">0.7%</td>\n",
              "        <td>\n",
              "            <div class=\"bar\" style=\"width:50%\">&nbsp;</div>\n",
              "        </td>\n",
              "</tr>\n",
              "</table>\n",
              "        </div>\n",
              "    </div>\n",
              "</div>\n",
              "</div><div class=\"row variablerow ignore\">\n",
              "    <div class=\"col-md-3 namecol\">\n",
              "        <p class=\"h4 pp-anchor\" id=\"pp_var_petal_width\"><s>petal_width</s><br/>\n",
              "            <small>Highly correlated</small>\n",
              "        </p>\n",
              "    </div><div class=\"col-md-3\">\n",
              "    <p><em>This variable is highly correlated with <a href=\"#pp_var_petal_length\"><code>petal_length</code></a> and should be ignored for analysis</em></p>\n",
              "</div>\n",
              "<div class=\"col-md-6\">\n",
              "    <table class=\"stats \">\n",
              "        <tr>\n",
              "            <th>Correlation</th>\n",
              "            <td>0.96287</td>\n",
              "        </tr>\n",
              "    </table>\n",
              "</div>\n",
              "</div><div class=\"row variablerow\">\n",
              "    <div class=\"col-md-3 namecol\">\n",
              "        <p class=\"h4 pp-anchor\" id=\"pp_var_sepal_length\">sepal_length<br/>\n",
              "            <small>Numeric</small>\n",
              "        </p>\n",
              "    </div><div class=\"col-md-6\">\n",
              "    <div class=\"row\">\n",
              "        <div class=\"col-sm-6\">\n",
              "            <table class=\"stats \">\n",
              "                <tr>\n",
              "                    <th>Distinct count</th>\n",
              "                    <td>35</td>\n",
              "                </tr>\n",
              "                <tr>\n",
              "                    <th>Unique (%)</th>\n",
              "                    <td>23.3%</td>\n",
              "                </tr>\n",
              "                <tr class=\"ignore\">\n",
              "                    <th>Missing (%)</th>\n",
              "                    <td>0.0%</td>\n",
              "                </tr>\n",
              "                <tr class=\"ignore\">\n",
              "                    <th>Missing (n)</th>\n",
              "                    <td>0</td>\n",
              "                </tr>\n",
              "                <tr class=\"ignore\">\n",
              "                    <th>Infinite (%)</th>\n",
              "                    <td>0.0%</td>\n",
              "                </tr>\n",
              "                <tr class=\"ignore\">\n",
              "                    <th>Infinite (n)</th>\n",
              "                    <td>0</td>\n",
              "                </tr>\n",
              "            </table>\n",
              "\n",
              "        </div>\n",
              "        <div class=\"col-sm-6\">\n",
              "            <table class=\"stats \">\n",
              "\n",
              "                <tr>\n",
              "                    <th>Mean</th>\n",
              "                    <td>5.8433</td>\n",
              "                </tr>\n",
              "                <tr>\n",
              "                    <th>Minimum</th>\n",
              "                    <td>4.3</td>\n",
              "                </tr>\n",
              "                <tr>\n",
              "                    <th>Maximum</th>\n",
              "                    <td>7.9</td>\n",
              "                </tr>\n",
              "                <tr class=\"ignore\">\n",
              "                    <th>Zeros (%)</th>\n",
              "                    <td>0.0%</td>\n",
              "                </tr>\n",
              "            </table>\n",
              "        </div>\n",
              "    </div>\n",
              "</div>\n",
              "<div class=\"col-md-3 collapse in\" id=\"minihistogram147445561281072222\">\n",
              "    <img src=\"data:image/png;base64,iVBORw0KGgoAAAANSUhEUgAAAMgAAABLCAYAAAA1fMjoAAAABHNCSVQICAgIfAhkiAAAAAlwSFlzAAAPYQAAD2EBqD%2BnaQAAADh0RVh0U29mdHdhcmUAbWF0cGxvdGxpYiB2ZXJzaW9uMy4yLjIsIGh0dHA6Ly9tYXRwbG90bGliLm9yZy%2BWH4yJAAABNklEQVR4nO3cwW0CMQBFwQWlJIpIT5zTU4pIT6aB6AkimXV2Z84cfHn6mAUuY4yxAb%2B67n0AWNnH3gf4T27375de//P1OekkvIsFgWBBFvPqSm2bpZrJgkAQCASBQBAIhENc0l1smcWCQBAIBIFAEAgEgUAQCASBQBAIhEM8KDw7v1OZx4JAEAgEb7Em%2Bst3xFiLBYEgEAgCgXDaO4j7Ac%2BwIBAEAkEgEAQCQSAQBAJBIBCWew7i%2BQQrsSAQBAJBIBAEAmG5SzrzvevPvo/wp%2BIWBIIF4Sln/fjdgkAQCASBQBAIBIFAEAgEgUAQCITLGGPsfQhYlQWBIBAIAoEgEAgCgSAQCAKBIBAIAoEgEAgCgSAQCAKBIBAIAoEgEAgCgSAQCAKBIBAIAoEgEAgCgSAQCAKB8ACkSSA7s1/sAQAAAABJRU5ErkJggg%3D%3D\">\n",
              "\n",
              "</div>\n",
              "<div class=\"col-md-12 text-right\">\n",
              "    <a role=\"button\" data-toggle=\"collapse\" data-target=\"#descriptives147445561281072222,#minihistogram147445561281072222\"\n",
              "       aria-expanded=\"false\" aria-controls=\"collapseExample\">\n",
              "        Toggle details\n",
              "    </a>\n",
              "</div>\n",
              "<div class=\"row collapse col-md-12\" id=\"descriptives147445561281072222\">\n",
              "    <ul class=\"nav nav-tabs\" role=\"tablist\">\n",
              "        <li role=\"presentation\" class=\"active\"><a href=\"#quantiles147445561281072222\"\n",
              "                                                  aria-controls=\"quantiles147445561281072222\" role=\"tab\"\n",
              "                                                  data-toggle=\"tab\">Statistics</a></li>\n",
              "        <li role=\"presentation\"><a href=\"#histogram147445561281072222\" aria-controls=\"histogram147445561281072222\"\n",
              "                                   role=\"tab\" data-toggle=\"tab\">Histogram</a></li>\n",
              "        <li role=\"presentation\"><a href=\"#common147445561281072222\" aria-controls=\"common147445561281072222\"\n",
              "                                   role=\"tab\" data-toggle=\"tab\">Common Values</a></li>\n",
              "        <li role=\"presentation\"><a href=\"#extreme147445561281072222\" aria-controls=\"extreme147445561281072222\"\n",
              "                                   role=\"tab\" data-toggle=\"tab\">Extreme Values</a></li>\n",
              "\n",
              "    </ul>\n",
              "\n",
              "    <div class=\"tab-content\">\n",
              "        <div role=\"tabpanel\" class=\"tab-pane active row\" id=\"quantiles147445561281072222\">\n",
              "            <div class=\"col-md-4 col-md-offset-1\">\n",
              "                <p class=\"h4\">Quantile statistics</p>\n",
              "                <table class=\"stats indent\">\n",
              "                    <tr>\n",
              "                        <th>Minimum</th>\n",
              "                        <td>4.3</td>\n",
              "                    </tr>\n",
              "                    <tr>\n",
              "                        <th>5-th percentile</th>\n",
              "                        <td>4.6</td>\n",
              "                    </tr>\n",
              "                    <tr>\n",
              "                        <th>Q1</th>\n",
              "                        <td>5.1</td>\n",
              "                    </tr>\n",
              "                    <tr>\n",
              "                        <th>Median</th>\n",
              "                        <td>5.8</td>\n",
              "                    </tr>\n",
              "                    <tr>\n",
              "                        <th>Q3</th>\n",
              "                        <td>6.4</td>\n",
              "                    </tr>\n",
              "                    <tr>\n",
              "                        <th>95-th percentile</th>\n",
              "                        <td>7.255</td>\n",
              "                    </tr>\n",
              "                    <tr>\n",
              "                        <th>Maximum</th>\n",
              "                        <td>7.9</td>\n",
              "                    </tr>\n",
              "                    <tr>\n",
              "                        <th>Range</th>\n",
              "                        <td>3.6</td>\n",
              "                    </tr>\n",
              "                    <tr>\n",
              "                        <th>Interquartile range</th>\n",
              "                        <td>1.3</td>\n",
              "                    </tr>\n",
              "                </table>\n",
              "            </div>\n",
              "            <div class=\"col-md-4 col-md-offset-2\">\n",
              "                <p class=\"h4\">Descriptive statistics</p>\n",
              "                <table class=\"stats indent\">\n",
              "                    <tr>\n",
              "                        <th>Standard deviation</th>\n",
              "                        <td>0.82807</td>\n",
              "                    </tr>\n",
              "                    <tr>\n",
              "                        <th>Coef of variation</th>\n",
              "                        <td>0.14171</td>\n",
              "                    </tr>\n",
              "                    <tr>\n",
              "                        <th>Kurtosis</th>\n",
              "                        <td>-0.55206</td>\n",
              "                    </tr>\n",
              "                    <tr>\n",
              "                        <th>Mean</th>\n",
              "                        <td>5.8433</td>\n",
              "                    </tr>\n",
              "                    <tr>\n",
              "                        <th>MAD</th>\n",
              "                        <td>0.68756</td>\n",
              "                    </tr>\n",
              "                    <tr class=\"\">\n",
              "                        <th>Skewness</th>\n",
              "                        <td>0.31491</td>\n",
              "                    </tr>\n",
              "                    <tr>\n",
              "                        <th>Sum</th>\n",
              "                        <td>876.5</td>\n",
              "                    </tr>\n",
              "                    <tr>\n",
              "                        <th>Variance</th>\n",
              "                        <td>0.68569</td>\n",
              "                    </tr>\n",
              "                    <tr>\n",
              "                        <th>Memory size</th>\n",
              "                        <td>1.2 KiB</td>\n",
              "                    </tr>\n",
              "                </table>\n",
              "            </div>\n",
              "        </div>\n",
              "        <div role=\"tabpanel\" class=\"tab-pane col-md-8 col-md-offset-2\" id=\"histogram147445561281072222\">\n",
              "            <img src=\"data:image/png;base64,iVBORw0KGgoAAAANSUhEUgAAAlgAAAGQCAYAAAByNR6YAAAABHNCSVQICAgIfAhkiAAAAAlwSFlzAAAPYQAAD2EBqD%2BnaQAAADh0RVh0U29mdHdhcmUAbWF0cGxvdGxpYiB2ZXJzaW9uMy4yLjIsIGh0dHA6Ly9tYXRwbG90bGliLm9yZy%2BWH4yJAAAgAElEQVR4nO3de1RVdf7/8RdwxCsgVGChpY3pqJhpKoWmhmZmY3nJyFmNl7RRI0lDs0y/1dJEJ1lmYiZN2sVWUi5XmvfUyi6u1lhZeBmnECczjZPCoITK5fz%2B8Cd5BBTyA/vss5%2BPtVwuP2d7fL3PB44v9j4cAjwej0cAAAAwJtDqAAAAAP6GggUAAGAYBQsAAMAwChYAAIBhFCwAAADDKFgAAACGUbAAAAAMo2ABAAAYRsECAAAwjIIFAABgGAULAADAMAoWAACAYRQsAAAAwyhYAAAAhlGwAAAADKNgAQAAGEbBAgAAMIyCBQAAYBgFCwAAwDAKFgAAgGEULAAAAMMoWAAAAIZRsAAAAAyjYAEAABhGwQIAADCMggUAAGAYBQsAAMAwChYAAIBhFCwAAADDKFgAAACGUbAAAAAMo2ABAAAYRsECAAAwjIIFAABgGAULAADAMAoWAACAYRQsAAAAwyhYAAAAhlGwAAAADHNZHcAp3O4TVkeotsDAAEVENNTx4wUqLfVYHadWOG1mp80rOW9mp80rMbMTZq7OvFddFVJLqbxxBguVCgwMUEBAgAIDA6yOUmucNrPT5pWcN7PT5pWY2QnsMC8FCwAAwDAKFgAAgGEULAAAAMMoWAAAAIZRsAAAAAyjYAEAABhGwQIAADCMggUAAGAYBQsAAMAwChYAAIBhFCwAAADDKFgAAACGUbAAAAAMc1kdAIAZd734udURqmzDxG5WRwCAGsUZLAAAAMMoWAAAAIZRsAAAAAyjYAEAABhGwQIAADCMggUAAGAYBQsAAMAwChYAAIBhFCwAAADDKFgAAACGUbAAAAAM42cRAsAl2OnnPEr8rEfAF3AGCwAAwDAKFgAAgGEULAAAAMMoWAAAAIZRsAAAAAxz7HcRHj58WLNnz9bOnTsVFBSkHj16aNq0acrPz1fv3r0VHBzsdfzEiRM1evRoi9ICAAA7cWzBGjdunGJiYrRt2zadOHFCiYmJmjt3rsaPHy9JyszMtDghAACwK0deIszPz1dMTIySk5PVsGFDNWnSRIMGDdLOnTutjgYAAPyAIwtWaGioUlJSdOWVV5atHTlyRJGRkWV/fuKJJ9S9e3fdcsstSk1NVVFRkRVRAQCADTn2EuH5MjMztXz5ci1evFjBwcHq2LGj7rjjDj3//PPat2%2BfJkyYIJfLpccee6xK95eTkyO32%2B215nI18CpwdhAUFOj1uxM4cWYruFzWPb5O2OPzH18nzHshZvZ/dpjX8QXrq6%2B%2B0vjx45WcnKy4uDhJ0ooVK8puv/HGGzV27FgtWbKkygUrIyNDaWlpXmuJiYlKSkoyF7wWhYbWtzpCrXPizLUpPLyh1RH8eo8renz9ed7KMLP/8%2BV5HV2wtm3bpilTpmjGjBkaOHBgpcdFR0fr119/lcfjUUBAwCXvNyEhQfHx8V5rLlcD5eYWXHbm2hQUFKjQ0PrKzy9USUmp1XFqhRNntoKVnwtO2OPzH18nzHshZvb/maszr1Vf0Dm2YH399deaOnWqFixYoO7du5et79ixQ7t27Sr7bkJJOnDggKKjo6tUriQpMjKy3OVAt/uEiovt%2BUFfUlJq2%2Bx/lBNnrk2%2B8Nj68x5XNJc/z1sZZvZ/vjyv7168rEHFxcWaPn26Jk%2Be7FWuJCkkJESLFi3S6tWrVVRUpMzMTL322msaNmyYRWkBAIDdOPIM1q5du5SVlaVZs2Zp1qxZXrdt3LhR8%2BfPV1pamv7v//5PISEh%2Btvf/qYRI0ZYlBYAANiNIwtW586dtX///kpvj46O1h133FGLiQAAgD9x5CVCAACAmkTBAgAAMIyCBQAAYBgFCwAAwDAKFgAAgGEULAAAAMMoWAAAAIZRsAAAAAyjYAEAABhGwQIAADCMggUAAGAYBQsAAMAwChYAAIBhFCwAAADDKFgAAACGUbAAAAAMc1kdAM5x14ufWx2hWjZM7GZ1BACATXEGCwAAwDAKFgAAgGEULAAAAMMoWAAAAIZRsAAAAAyjYAEAABhGwQIAADCMggUAAGAYBQsAAMAwChYAAIBhFCwAAADDKFgAAACGUbAAAAAMo2ABAAAYRsECAAAwjIIFAABgGAULAADAMAoWAACAYRQsAAAAwyhYAAAAhlGwAAAADKNgAQAAGEbBAgAAMIyCBQAAYBgFCwAAwDAKFgAAgGEULAAAAMMoWAAAAIZRsAAAAAxzbME6fPiwEhMTFRsbq7i4OD355JPKz8%2BXJO3bt08PPvigbr75ZvXt21dLly61OC0AALATxxascePGKTQ0VNu2bdOqVav0/fffa%2B7cuTp16pTGjh2rW265RZ9%2B%2Bqnmz5%2BvJUuWaPPmzVZHBgAANuHIgpWfn6%2BYmBglJyerYcOGatKkiQYNGqSdO3fq448/VlFRkcaPH68GDRqoXbt2Gjp0qDIyMqyODQAAbMJldQArhIaGKiUlxWvtyJEjioyM1J49e9S6dWsFBQWV3da2bVu99957Vb7/nJwcud1urzWXq4EiIyMvL3gtCwoK9PrdaVwuZ85dG6x8bJ3wcX3%2B4%2BuEeS/EzP7PDvM6smBdKDMzU8uXL9fixYu1YcMGhYaGet3euHFj5eXlqbS0VIGBl97MjIwMpaWlea0lJiYqKSnJaO7aEhpa3%2BoIlggPb2h1BL/lC4%2BtP39cV/T4%2BvO8lWFm/%2BfL8zq%2BYH311VcaP368kpOTFRcXpw0bNlR4XEBAQJXvMyEhQfHx8V5rLlcD5eYWXFbW2hYUFKjQ0PrKzy9USUmp1XFqnd32y06sfGyd8HF9/uPrhHkvxMz%2BP3N15rXqCzpHF6xt27ZpypQpmjFjhgYOHChJioiI0MGDB72Oy8vLU%2BPGjat09kqSIiMjy10OdLtPqLjYnh/0JSWlts1%2BOZw4c23xhcfWnz%2BuK5rLn%2BetDDP7P1%2Be13cvXtawr7/%2BWlOnTtWCBQvKypUkxcTEaP/%2B/SouLi5by8zMVIcOHayICQAAbMiRBau4uFjTp0/X5MmT1b17d6/bevbsqUaNGmnx4sUqLCzUt99%2Bq5UrV2rYsGEWpQUAAHbjyIK1a9cuZWVladasWWrfvr3XL7fbrVdeeUVffPGFunbtqokTJ2rSpEnq1auX1bEBAIBNOPI1WJ07d9b%2B/fsvesw777xTS2kAAIC/ceQZLAAAgJpEwQIAADCMggUAAGAYBQsAAMAwChYAAIBhFCwAAADDKFgAAACGUbAAAAAMo2ABAAAYRsECAAAwjIIFAABgGAULAADAMAoWAACAYRQsAAAAwyhYAAAAhlGwAAAADHNZHQAAYNZdL35udYQq2zCxm9URgBrBGSwAAADDKFgAAACGUbAAAAAMo2ABAAAYRsECAAAwjIIFAABgGAULAADAMAoWAACAYRQsAAAAw2xVsOLj45WWlqYjR45YHQUAAKBStipYQ4YM0fr169WnTx%2BNGTNGmzdvVnFxsdWxAAAAvNiqYCUmJmr9%2BvV69913dcMNN2j27Nnq2bOnXnjhBWVnZ1sdDwAAQJLNCtY57dq109SpU/XRRx9p2rRpevfdd9W/f3%2BNHj1a3333ndXxAACAw9myYBUVFWn9%2BvV6%2BOGHNXXqVEVFRempp55SmzZtNHLkSH3wwQdWRwQAAA7msjpAdWRlZWnlypV6//33VVBQoDvvvFNvvPGGbr755rJjunTpomeffVYDBgywMCkAAHAyWxWsu%2B%2B%2BWy1atNDYsWM1cOBANW7cuNwxPXv21PHjxy1IBwAAcJatCtabb76prl27XvK4b7/9thbSAAAAVMxWr8Fq3bq1xo0bpy1btpStvf7663r44YeVl5dnYTIAAIDf2apgpaSk6MSJE2rZsmXZWq9evVRaWqo5c%2BZYmAwAAOB3trpE%2BNlnn%2BmDDz5QeHh42Vrz5s01b948/eUvf7EwGQAAwO9sdQbr1KlTqlu3brn1wMBAFRYWWpAIAACgPFudwerSpYvmzJmj5ORkhYWFSZJ%2B%2BeUXzZ071%2ButGgD4trte/NzqCABQo2xVsKZNm6aHHnpIt956qxo1aqTS0lIVFBSoWbNmeuutt6yOBwAAIMlmBatZs2Zat26dtm/frh9//FGBgYFq0aKFunfvrqCgIKvjAQAASLJZwZKk4OBg9enTx%2BoYAAAAlbJVwTp06JBSU1P1/fff69SpU%2BVu37p1qwWpAAAAvNmqYE2bNk05OTnq3r27GjRoYHUcAACACtmqYO3evVtbt25VRESE1VEAAAAqZav3wbriiiuMnbn69NNPFRcXp0mTJnmtr1q1Sn/%2B85/Vvn17r1/fffedkX8XAAD4P1udwRo7dqzS0tKUnJysgICAP3w/r776qlauXKnrrruuwtu7dOnC2z4AAIA/zFYFa/v27fr666%2B1atUqNW3aVIGB3ifgVqxYUaX7qVu3rlauXKnnn39ep0%2BfromoAADAwWxVsBo1aqQePXpc9v0MHz78orcfOXJEo0aN0u7duxUaGqqkpCTde%2B%2B9l/3vAgAAZ7BVwUpJSanxfyMiIkLNmzfX448/rpYtW%2BrDDz/UE088ocjISN16661Vuo%2BcnBy53W6vNZergSIjI2sico0JCgr0%2Bt1pXC5nzg3Uppr4PHPic5fTZrbDvLYqWJJ04MABrVu3Tj///HNZ4frmm2/UsWNHI/ffq1cv9erVq%2BzPd999tz788EOtWrWqygUrIyNDaWlpXmuJiYlKSkoykrG2hYbWtzqCJcLDG1odAfB7Nfl55sTnLqfN7Mvz2qpg7dixQw8//LBatGihgwcPKiUlRYcOHdLw4cP14osvqnfv3jXy70ZHR2v37t1VPj4hIUHx8fFeay5XA%2BXmFpiOVqOCggIVGlpf%2BfmFKikptTpOrbPbfgF2VBOfZ0587nLazNWZ16ovlm1VsObPn68pU6ZoxIgRuvHGGyWd/fmEc%2BbM0aJFi4wUrHfeeUdhYWHq379/2VpWVpaaNWtW5fuIjIwsdznQ7T6h4mJ7ftCXlJTaNvvlcOLMQG2ryc8zJz53OW1mX57Xdy9eVuA///mPhg0bJkleb9PQr18/ZWVlGfk3zpw5o5kzZyozM1NFRUVau3attm/frgceeMDI/QMAAP9nqzNYISEhOnXqlIKDg73Wc3Jyyq1dTPv27SVJxcXFkqQtW7ZIkjIzMzV8%2BHAVFBTosccek9vtVtOmTbVo0SLFxMQYmgIAAPg7WxWsTp06afbs2Zo%2BfXrZWnZ2tp555pkqvwBdOlukKhMQEKBHHnlEjzzyyGVlBQAAzmWrgvXUU09pxIgRio2NVUlJiTp16qTCwkLdcMMNmjNnjtXxAAAAJNmsYDVp0kRr167VJ598ouzsbNWrV08tWrRQt27dLutH5wAAAJhkq4IlSXXq1FGfPn2sjgEAAFApWxWs%2BPj4i56p2rp1ay2mAQAAqJitClb//v29ClZJSYmys7OVmZmpESNGWJgMAADgd7YqWJMnT65wfdOmTfryyy9rOQ383V0vfm51BACATdnqjUYr06dPH61bt87qGAAAAJL8pGDt3btXHo/H6hgAAACSbHaJsKIfV1NYWKisrCz17dvXgkQAAADl2apgNW/evNx3EdatW1f33Xefhg4dalEqAAAAb7YqWLxbOwAAsANbFaz333%2B/yscOHDiwBpMAAABUzlYF6%2Bmnn1ZpaWm5F7QHBAR4rQUEBFCwAACAZWxVsP75z39q6dKlGjdunFq3bi2Px6P9%2B/fr1Vdf1YMPPqjY2FirIwIAANirYM2ZM0fp6emKiooqW%2BvcubOaNWum0aNHa%2B3atRamAwAAOMtW74N18OBBhYWFlVsPDQ3V4cOHLUgEAABQnq0KVnR0tObMmaPc3Nyytfz8fKWmpuraa6%2B1MBkAAMDvbHWJcNq0aUpOTlZGRoYaNmyowMBAnTx5UvXq1dOiRYusjgcAACDJZgWre/fu%2Bvjjj/XJJ5/o6NGj8ng8ioqK0m233aaQkBCr4wEAAEiyWcGSpPr166t37946evSomjVrZnUcAACAcmz1GqxTp05p6tSp6tixo%2B666y5JZ1%2BDNWbMGOXn51ucDgAA4CxbFawXXnhB%2B/bt07x58xQY%2BHv0kpISzZs3z8JkAAAAv7NVwdq0aZNeeukl9evXr%2ByHPoeGhiolJUWbN2%2B2OB0AAMBZtipYBQUFat68ebn1iIgI/fbbb7UfCAAAoAK2KljXXnutvvzyS0ny%2BtmDGzdu1DXXXGNVLAAAAC%2B2%2Bi7Cv/71r5owYYKGDBmi0tJSLVu2TLt379amTZv09NNPWx0PAABAks0KVkJCglwul5YvX66goCC98soratGihebNm6d%2B/fpZHQ8AAECSzQrW8ePHNWTIEA0ZMsTqKAAAAJWy1Wuwevfu7fXaKwAAAF9kq4IVGxurDRs2WB0DAADgomx1ifDqq6/W888/r/T0dF177bWqU6eO1%2B2pqakWJQMAAPidrQrWDz/8oOuvv16SlJuba3EaAACAitmiYE2aNEnz58/XW2%2B9Vba2aNEiJSYmWpgKAACgYrZ4Dda2bdvKraWnp1uQBAAA4NJsUbAq%2Bs5BvpsQAAD4KlsUrHM/2PlSawAAAL7AFgULAADATihYAAAAhtniuwiLioqUnJx8yTXeBwsAAPgCWxSsm2%2B%2BWTk5OZdcAwAA8AW2KFjnv/8VAACAr%2BM1WAAAAIZRsAAAAAyjYAEAABhGwQIAADCMggUAAGCYYwvWp59%2Bqri4OE2aNKncbevXr9eAAQPUsWNHDR48WJ999pkFCQEAgF3Z4m0aTHv11Ve1cuVKXXfddeVu27dvn6ZOnaq0tDTdcsst2rRpkx599FFt3LhRTZo0sSAtAACwG0eewapbt26lBeu9995Tz5491bNnT9WtW1f33HOPWrVqpTVr1liQFAAA2JEjz2ANHz680tv27Nmjnj17eq21bdtWmZmZVb7/nJwcud1urzWXq4EiIyOrF9RiQUGBXr8DgGkul/nnFyc%2BdzltZjvM68iCdTF5eXkKCwvzWgsLC9MPP/xQ5fvIyMhQWlqa11piYqKSkpKMZKxtoaH1rY4AwE%2BFhzessft24nOX02b25XkpWBXweDyX9fcTEhIUHx/vteZyNVBubsFl3W9tCwoKVGhofeXnF6qkpNTqOAD8UE08LzrxuctpM1dn3pos8RdDwbpAeHi48vLyvNby8vIUERFR5fuIjIwsdznQ7T6h4mJ7ftCXlJTaNjsA31aTzy1OfO5y2sy%2BPK/vXry0SExMjHbv3u21lpmZqQ4dOliUCAAA2A0F6wL333%2B/vvjiC3388cc6ffq0Vq5cqYMHD%2Bqee%2B6xOhoAALAJR14ibN%2B%2BvSSpuLhYkrRlyxZJZ89UtWrVSvPmzVNKSooOHz6sli1basmSJbrqqqssywsAAOzFkQXrUm%2B50LdvX/Xt27eW0gAAAH/DJUIAAADDKFgAAACGUbAAAAAMo2ABAAAY5sgXufuTu1783OoIAADgApzBAgAAMIyCBQAAYBgFCwAAwDAKFgAAgGEULAAAAMMoWAAAAIZRsAAAAAyjYAEAABhGwQIAADCMggUAAGAYBQsAAMAwChYAAIBhFCwAAADDKFgAAACGUbAAAAAMo2ABAAAYRsECAAAwjIIFAABgGAULAADAMAoWAACAYRQsAAAAwyhYAAAAhlGwAAAADKNgAQAAGEbBAgAAMIyCBQAAYBgFCwAAwDAKFgAAgGEULAAAAMMoWAAAAIZRsAAAAAyjYAEAABhGwQIAADDMZXUAAIBz3fXi51ZHqJYNE7tZHaFa7PT42u2xvRTOYAEAABhGwQIAADCMggUAAGAYBQsAAMAwChYAAIBhFCwAAADDeJuGCrRu3Vp16tRRQEBA2dr999%2BvGTNmWJgKAADYBQWrEhs3blTTpk2tjgEAAGyIS4QAAACGUbAqkZqaql69eqlz586aMWOGCgoKrI4EAABsgkuEFbjpppsUFxenuXPn6tChQ5o4caKee%2B45/eMf/6jS38/JyZHb7fZac7kaKDIysibiAgBqicvlm%2BclgoICvX63o%2Bo8tnaYN8Dj8XisDuHrPvnkE40fP167du1ScHDwJY9fuHCh0tLSvNYSExOVlJRkPFvnpzcav08AAGrbzuf7WR3BKM5gVUHTpk1VUlKiY8eO6eqrr77k8QkJCYqPj/dac7kaKDeXy4wAAFSkOv9HBgUFKjS0vvLzC1VSUnrRY8PDG15utD%2BEgnWBvXv3as2aNXryySfL1rKyshQcHFzlS3yRkZHljnW7T6i4%2BOIfBAAAONUf%2BT%2BypKTUZ/9v9d2Llxa54oorlJGRofT0dJ05c0bZ2dlasGCBEhISFBQUZHU8AABgAxSsC0RFRSk9PV3btm1TbGysHnjgAd12222aMmWK1dEAAIBNcImwAl26dNGKFSusjgEAAGyKM1gAAACGUbAAAAAMo2ABAAAYRsECAAAwjIIFAABgGAULAADAMAoWAACAYRQsAAAAwyhYAAAAhlGwAAAADKNgAQAAGEbBAgAAMIyCBQAAYBgFCwAAwDAKFgAAgGEULAAAAMMoWAAAAIZRsAAAAAyjYAEAABhGwQIAADCMggUAAGAYBQsAAMAwChYAAIBhFCwAAADDKFgAAACGUbAAAAAMo2ABAAAYRsECAAAwjIIFAABgGAULAADAMAoWAACAYRQsAAAAwyhYAAAAhlGwAAAADKNgAQAAGEbBAgAAMIyCBQAAYBgFCwAAwDAKFgAAgGEULAAAAMMoWAAAAIZRsAAAAAyjYAEAABhGwQIAADCMggUAAGAYBQsAAMAwClYFDh8%2BrL///e%2BKjY3V7bffrhdeeEGlpaVWxwIAADbhsjqAL5owYYLatWunLVu26NixYxo7dqyuvPJKjRo1yupoAADABjiDdYHMzEz9%2B9//1uTJkxUSEqLmzZtr5MiRysjIsDoaAACwCc5gXWDPnj2Kjo5WWFhY2Vq7du2UnZ2tkydPqlGjRpe8j5ycHLndbq81l6uBIiMjjecFAMAfuFxVP%2BcTFBTo9bsvomBdIC8vT6GhoV5r58pWbm5ulQpWRkaG0tLSvNYeffRRTZgwwVzQ/2/n8/2M3%2Bc5OTk5ysjIUEJCgmPKodNmdtq8kvNmdtq8EjM7YeacnBy98cY/fXpe361%2BFvJ4PJf19xMSErRq1SqvXwkJCYbS1R632620tLRyZ%2BP8mdNmdtq8kvNmdtq8EjM7gR3m5QzWBSIiIpSXl%2Be1lpeXp4CAAEVERFTpPiIjI322UQMAgJrHGawLxMTE6MiRIzp%2B/HjZWmZmplq2bKmGDRtamAwAANgFBesCbdu2Vfv27ZWamqqTJ08qKytLy5Yt07Bhw6yOBgAAbCLo2WeffdbqEL7mtttu09q1azVz5kytW7dO9913n0aPHq2AgACro9W6hg0bqmvXro46e%2Be0mZ02r%2BS8mZ02r8TMTuDr8wZ4LvcV3QAAAPDCJUIAAADDKFgAAACGUbAAAAAMo2ABAAAYRsECAAAwjIIFAABgGAULAADAMAoWAACAYRQsAAAAw1xWB4DvmD17tt544w3t37%2B/3G0LFy7Uyy%2B/LJfL%2B0Pmo48%2B0pVXXllbEY1o3bq16tSp4/Wjj%2B6//37NmDGj3LFvvvmm3n77bbndbrVu3VpPP/20YmJiajPuZavqvP60x5K0ePFivf322zp58qRuuukmzZo1S02bNi13nD/s8TlVmdkf9vlf//qXHnroIa81j8ejoqKiCp%2B//GGPqzOzP%2ByxJO3du1dz5szR3r17VbduXd16662aNm2aIiIiyh3rk3vsATwez969ez1du3b1tGrVqsLbX3rpJc/UqVNrOVXNaNWqlefQoUOXPG7r1q2ezp07e3bt2uUpLCz0LFmyxNOtWzdPQUFBLaQ0p6rz%2BtMeL1%2B%2B3NOvXz9PVlaW58SJE56ZM2d6Zs6cWe44f9ljj6fqM/vTPp9v8eLFnscee6zcuj/t8YUqm9kf9rioqMjTrVs3T2pqquf06dOe48ePe0aNGuWZMGFCuWN9dY%2B5RAiVlpbqmWee0ciRI62O4lMyMjI0ePBgdejQQfXq1dOYMWMknf0qEL5t6dKlmjRpkq6//no1atRI06dP1/Tp08sd5097XNWZ/dHPP/%2BsZcuW6Yknnih3mz/t8fkuNrM/cLvdcrvduvfeexUcHKzw8HDdcccd2rdvX7ljfXWPKVjQihUrVLduXQ0YMOCix%2B3fv18PPPCAOnXqpLvvvlufffZZLSU0LzU1Vb169VLnzp01Y8YMFRQUlDtmz549atu2bdmfAwMD1aZNG2VmZtZmVCOqMq/kH3v8yy%2B/6KefftL//vc/9e/fX7GxsUpKStLx48fLHesve1ydmSX/2OfzLViwQEOGDNE111xT7jZ/2eMLXWxmyf57HBUVpTZt2igjI0MFBQU6duyYNm/erF69epU71lf3mILlcL/%2B%2BqsWLlyoZ5555qLHNWnSRM2aNdPcuXP1%2Beefa%2BjQoRo3bpwOHDhQS0nNuemmmxQXF6fNmzcrIyNDu3bt0nPPPVfuuLy8PIWFhXmthYWFKTc3t7aiGlHVef1lj48ePSpJ2rhxo5YtW6bVq1fr6NGjFZ7N8Zc9rs7M/rLP5/z000/avHmzRo0aVeHt/rLH57vUzP6wx4GBgVq4cKG2bt2qTp06KS4uTsXFxUpOTi53rK/uMQXL4VJSUjR48GC1bNnyoscNHTpUL730kq677jrVr19fI0eOVJs2bbRmzZpaSmpORkaGhg4dquDgYP3pT3/S5MmTtXbtWp05c6bcsR6Px4KEZlV1Xn/Z43N7NmbMGEVFRalJkyaaMGGCtm3bptOnT1d6vJ1VZ2Z/2edz3n77bfXt21dXXXVVpcf4wx6f71Iz%2B8MenzlzRuPGjVO/fv20c%2BdObd%2B%2BXSEhIZo8eXKFx/viHlOwHGzHjh365ptvlJiY%2BIf%2BfnR0tHJycgynqn1NmzZVSUmJjh075rUeHh6uvLw8r7W8vLwKv9GNneAAAAL3SURBVIPFTiqbtyJ23ONz3yUVGhpathYdHS2Px%2BO3e1ydmStix30%2BZ9OmTYqPj6/0dn/Z4/NdauaK2G2Pd%2BzYoZ9%2B%2BkmPP/64QkJCFBUVpaSkJH344Yfl9tNX95iC5WBr1qzRsWPHdPvttys2NlaDBw%2BWJMXGxmrdunVex7788svasWOH11pWVpaaNWtWa3lNOPdtv%2BfLyspScHCwIiMjvdZjYmK0Z8%2Besj%2BXlJRo79696tChQ61kNaE68/rLHjdp0kSNGjXyejHs4cOHVadOHb/cY6l6M/vLPkvSvn37dPjwYXXr1q3SY/xlj8%2Bpysz%2BsMclJSUqLS31OjNV0VUGyXf3mILlYE8%2B%2BaQ2bdqk1atXa/Xq1UpPT5ckrV69WvHx8WWnZqWzXw0899xzOnDggE6fPq2lS5fqxx9/1KBBg6wcodquuOIKZWRkKD09XWfOnFF2drYWLFighIQEBQUFec08bNgwvf/%2B%2B9q1a5cKCwu1ePFiBQcHV/giS19VnXn9ZY9dLpfuu%2B8%2BvfLKK/rvf/%2BrY8eOadGiRRowYIBcLpff7bFUvZn9ZZ%2Bls19ANG7cWI0aNfJa98c9PqcqM/vDHnfs2FENGjTQwoULVVhYqNzcXC1evFhdunRR48aNbbHHvNGog4WFhXm9MLC4uFjS2a%2BGJSk7O1u//fabJJW9sHDkyJHKy8tTy5Yt9frrr5cdaxdRUVFKT09Xampq2SfhoEGDNGnSJEneM/fo0UOPP/64Jk6cqGPHjql9%2B/ZKT09XvXr1rByhWqozr7/ssXR2ljNnzmjo0KEqKirSnXfeWfaCb3/b43OqOrM/7fOvv/5a4euQ/HWPparN7A97HB4ertdee01z585Vjx49FBwcrK5du%2BrZZ5%2BVZI89DvD44ivDAAAAbIxLhAAAAIZRsAAAAAyjYAEAABhGwQIAADCMggUAAGAYBQsAAMAwChYAAIBhFCwAAADDKFgAAACGUbAAAAAMo2ABAAAYRsECAAAwjIIFAABg2P8DOOKLs44r/uQAAAAASUVORK5CYII%3D\"/>\n",
              "        </div>\n",
              "        <div role=\"tabpanel\" class=\"tab-pane col-md-12\" id=\"common147445561281072222\">\n",
              "            \n",
              "<table class=\"freq table table-hover\">\n",
              "    <thead>\n",
              "    <tr>\n",
              "        <td class=\"fillremaining\">Value</td>\n",
              "        <td class=\"number\">Count</td>\n",
              "        <td class=\"number\">Frequency (%)</td>\n",
              "        <td style=\"min-width:200px\">&nbsp;</td>\n",
              "    </tr>\n",
              "    </thead>\n",
              "    <tr class=\"\">\n",
              "        <td class=\"fillremaining\">5.0</td>\n",
              "        <td class=\"number\">10</td>\n",
              "        <td class=\"number\">6.7%</td>\n",
              "        <td>\n",
              "            <div class=\"bar\" style=\"width:14%\">&nbsp;</div>\n",
              "        </td>\n",
              "</tr><tr class=\"\">\n",
              "        <td class=\"fillremaining\">6.3</td>\n",
              "        <td class=\"number\">9</td>\n",
              "        <td class=\"number\">6.0%</td>\n",
              "        <td>\n",
              "            <div class=\"bar\" style=\"width:13%\">&nbsp;</div>\n",
              "        </td>\n",
              "</tr><tr class=\"\">\n",
              "        <td class=\"fillremaining\">5.1</td>\n",
              "        <td class=\"number\">9</td>\n",
              "        <td class=\"number\">6.0%</td>\n",
              "        <td>\n",
              "            <div class=\"bar\" style=\"width:13%\">&nbsp;</div>\n",
              "        </td>\n",
              "</tr><tr class=\"\">\n",
              "        <td class=\"fillremaining\">6.7</td>\n",
              "        <td class=\"number\">8</td>\n",
              "        <td class=\"number\">5.3%</td>\n",
              "        <td>\n",
              "            <div class=\"bar\" style=\"width:11%\">&nbsp;</div>\n",
              "        </td>\n",
              "</tr><tr class=\"\">\n",
              "        <td class=\"fillremaining\">5.7</td>\n",
              "        <td class=\"number\">8</td>\n",
              "        <td class=\"number\">5.3%</td>\n",
              "        <td>\n",
              "            <div class=\"bar\" style=\"width:11%\">&nbsp;</div>\n",
              "        </td>\n",
              "</tr><tr class=\"\">\n",
              "        <td class=\"fillremaining\">5.5</td>\n",
              "        <td class=\"number\">7</td>\n",
              "        <td class=\"number\">4.7%</td>\n",
              "        <td>\n",
              "            <div class=\"bar\" style=\"width:10%\">&nbsp;</div>\n",
              "        </td>\n",
              "</tr><tr class=\"\">\n",
              "        <td class=\"fillremaining\">5.8</td>\n",
              "        <td class=\"number\">7</td>\n",
              "        <td class=\"number\">4.7%</td>\n",
              "        <td>\n",
              "            <div class=\"bar\" style=\"width:10%\">&nbsp;</div>\n",
              "        </td>\n",
              "</tr><tr class=\"\">\n",
              "        <td class=\"fillremaining\">6.4</td>\n",
              "        <td class=\"number\">7</td>\n",
              "        <td class=\"number\">4.7%</td>\n",
              "        <td>\n",
              "            <div class=\"bar\" style=\"width:10%\">&nbsp;</div>\n",
              "        </td>\n",
              "</tr><tr class=\"\">\n",
              "        <td class=\"fillremaining\">6.0</td>\n",
              "        <td class=\"number\">6</td>\n",
              "        <td class=\"number\">4.0%</td>\n",
              "        <td>\n",
              "            <div class=\"bar\" style=\"width:9%\">&nbsp;</div>\n",
              "        </td>\n",
              "</tr><tr class=\"\">\n",
              "        <td class=\"fillremaining\">4.9</td>\n",
              "        <td class=\"number\">6</td>\n",
              "        <td class=\"number\">4.0%</td>\n",
              "        <td>\n",
              "            <div class=\"bar\" style=\"width:9%\">&nbsp;</div>\n",
              "        </td>\n",
              "</tr><tr class=\"other\">\n",
              "        <td class=\"fillremaining\">Other values (25)</td>\n",
              "        <td class=\"number\">73</td>\n",
              "        <td class=\"number\">48.7%</td>\n",
              "        <td>\n",
              "            <div class=\"bar\" style=\"width:100%\">&nbsp;</div>\n",
              "        </td>\n",
              "</tr>\n",
              "</table>\n",
              "        </div>\n",
              "        <div role=\"tabpanel\" class=\"tab-pane col-md-12\"  id=\"extreme147445561281072222\">\n",
              "            <p class=\"h4\">Minimum 5 values</p>\n",
              "            \n",
              "<table class=\"freq table table-hover\">\n",
              "    <thead>\n",
              "    <tr>\n",
              "        <td class=\"fillremaining\">Value</td>\n",
              "        <td class=\"number\">Count</td>\n",
              "        <td class=\"number\">Frequency (%)</td>\n",
              "        <td style=\"min-width:200px\">&nbsp;</td>\n",
              "    </tr>\n",
              "    </thead>\n",
              "    <tr class=\"\">\n",
              "        <td class=\"fillremaining\">4.3</td>\n",
              "        <td class=\"number\">1</td>\n",
              "        <td class=\"number\">0.7%</td>\n",
              "        <td>\n",
              "            <div class=\"bar\" style=\"width:25%\">&nbsp;</div>\n",
              "        </td>\n",
              "</tr><tr class=\"\">\n",
              "        <td class=\"fillremaining\">4.4</td>\n",
              "        <td class=\"number\">3</td>\n",
              "        <td class=\"number\">2.0%</td>\n",
              "        <td>\n",
              "            <div class=\"bar\" style=\"width:75%\">&nbsp;</div>\n",
              "        </td>\n",
              "</tr><tr class=\"\">\n",
              "        <td class=\"fillremaining\">4.5</td>\n",
              "        <td class=\"number\">1</td>\n",
              "        <td class=\"number\">0.7%</td>\n",
              "        <td>\n",
              "            <div class=\"bar\" style=\"width:25%\">&nbsp;</div>\n",
              "        </td>\n",
              "</tr><tr class=\"\">\n",
              "        <td class=\"fillremaining\">4.6</td>\n",
              "        <td class=\"number\">4</td>\n",
              "        <td class=\"number\">2.7%</td>\n",
              "        <td>\n",
              "            <div class=\"bar\" style=\"width:100%\">&nbsp;</div>\n",
              "        </td>\n",
              "</tr><tr class=\"\">\n",
              "        <td class=\"fillremaining\">4.7</td>\n",
              "        <td class=\"number\">2</td>\n",
              "        <td class=\"number\">1.3%</td>\n",
              "        <td>\n",
              "            <div class=\"bar\" style=\"width:50%\">&nbsp;</div>\n",
              "        </td>\n",
              "</tr>\n",
              "</table>\n",
              "            <p class=\"h4\">Maximum 5 values</p>\n",
              "            \n",
              "<table class=\"freq table table-hover\">\n",
              "    <thead>\n",
              "    <tr>\n",
              "        <td class=\"fillremaining\">Value</td>\n",
              "        <td class=\"number\">Count</td>\n",
              "        <td class=\"number\">Frequency (%)</td>\n",
              "        <td style=\"min-width:200px\">&nbsp;</td>\n",
              "    </tr>\n",
              "    </thead>\n",
              "    <tr class=\"\">\n",
              "        <td class=\"fillremaining\">7.3</td>\n",
              "        <td class=\"number\">1</td>\n",
              "        <td class=\"number\">0.7%</td>\n",
              "        <td>\n",
              "            <div class=\"bar\" style=\"width:25%\">&nbsp;</div>\n",
              "        </td>\n",
              "</tr><tr class=\"\">\n",
              "        <td class=\"fillremaining\">7.4</td>\n",
              "        <td class=\"number\">1</td>\n",
              "        <td class=\"number\">0.7%</td>\n",
              "        <td>\n",
              "            <div class=\"bar\" style=\"width:25%\">&nbsp;</div>\n",
              "        </td>\n",
              "</tr><tr class=\"\">\n",
              "        <td class=\"fillremaining\">7.6</td>\n",
              "        <td class=\"number\">1</td>\n",
              "        <td class=\"number\">0.7%</td>\n",
              "        <td>\n",
              "            <div class=\"bar\" style=\"width:25%\">&nbsp;</div>\n",
              "        </td>\n",
              "</tr><tr class=\"\">\n",
              "        <td class=\"fillremaining\">7.7</td>\n",
              "        <td class=\"number\">4</td>\n",
              "        <td class=\"number\">2.7%</td>\n",
              "        <td>\n",
              "            <div class=\"bar\" style=\"width:100%\">&nbsp;</div>\n",
              "        </td>\n",
              "</tr><tr class=\"\">\n",
              "        <td class=\"fillremaining\">7.9</td>\n",
              "        <td class=\"number\">1</td>\n",
              "        <td class=\"number\">0.7%</td>\n",
              "        <td>\n",
              "            <div class=\"bar\" style=\"width:25%\">&nbsp;</div>\n",
              "        </td>\n",
              "</tr>\n",
              "</table>\n",
              "        </div>\n",
              "    </div>\n",
              "</div>\n",
              "</div><div class=\"row variablerow\">\n",
              "    <div class=\"col-md-3 namecol\">\n",
              "        <p class=\"h4 pp-anchor\" id=\"pp_var_sepal_width\">sepal_width<br/>\n",
              "            <small>Numeric</small>\n",
              "        </p>\n",
              "    </div><div class=\"col-md-6\">\n",
              "    <div class=\"row\">\n",
              "        <div class=\"col-sm-6\">\n",
              "            <table class=\"stats \">\n",
              "                <tr>\n",
              "                    <th>Distinct count</th>\n",
              "                    <td>23</td>\n",
              "                </tr>\n",
              "                <tr>\n",
              "                    <th>Unique (%)</th>\n",
              "                    <td>15.3%</td>\n",
              "                </tr>\n",
              "                <tr class=\"ignore\">\n",
              "                    <th>Missing (%)</th>\n",
              "                    <td>0.0%</td>\n",
              "                </tr>\n",
              "                <tr class=\"ignore\">\n",
              "                    <th>Missing (n)</th>\n",
              "                    <td>0</td>\n",
              "                </tr>\n",
              "                <tr class=\"ignore\">\n",
              "                    <th>Infinite (%)</th>\n",
              "                    <td>0.0%</td>\n",
              "                </tr>\n",
              "                <tr class=\"ignore\">\n",
              "                    <th>Infinite (n)</th>\n",
              "                    <td>0</td>\n",
              "                </tr>\n",
              "            </table>\n",
              "\n",
              "        </div>\n",
              "        <div class=\"col-sm-6\">\n",
              "            <table class=\"stats \">\n",
              "\n",
              "                <tr>\n",
              "                    <th>Mean</th>\n",
              "                    <td>3.0573</td>\n",
              "                </tr>\n",
              "                <tr>\n",
              "                    <th>Minimum</th>\n",
              "                    <td>2</td>\n",
              "                </tr>\n",
              "                <tr>\n",
              "                    <th>Maximum</th>\n",
              "                    <td>4.4</td>\n",
              "                </tr>\n",
              "                <tr class=\"ignore\">\n",
              "                    <th>Zeros (%)</th>\n",
              "                    <td>0.0%</td>\n",
              "                </tr>\n",
              "            </table>\n",
              "        </div>\n",
              "    </div>\n",
              "</div>\n",
              "<div class=\"col-md-3 collapse in\" id=\"minihistogram-7785814154303145557\">\n",
              "    <img src=\"data:image/png;base64,iVBORw0KGgoAAAANSUhEUgAAAMgAAABLCAYAAAA1fMjoAAAABHNCSVQICAgIfAhkiAAAAAlwSFlzAAAPYQAAD2EBqD%2BnaQAAADh0RVh0U29mdHdhcmUAbWF0cGxvdGxpYiB2ZXJzaW9uMy4yLjIsIGh0dHA6Ly9tYXRwbG90bGliLm9yZy%2BWH4yJAAABMElEQVR4nO3cwU3DQBRFUYJSEkXQE%2Bv0RBHpaWgAXSWRjD/2OftIs7l6tsbKZa213oBfve99AJjsuvcBjuzj6/vp39xvnxuchFdZEAgCgSAQCAKBIBAIAoEgEAjuQYZxdzKLBYEgEAgCgSAQCAKBIBAIAoEgEAguCp/wyiUe/5sFgXDaBbEGPMKCQBAIBIFAEAgEgUAQCASBQBAIBIFAEAgEgUAQCASBQDjt17xn5s/pHieQA/Dp/nY8YkEQCASBQDjEO4hncLZiQSAIBIJAIIx7B/E%2BwSQWBMK4BWGmv1r2aZ%2B0WBAIAoFwWWutvQ8BU1kQCAKBIBAIAoEgEAgCgSAQCAKBIBAIAoEgEAgCgSAQCAKBIBAIAoEgEAgCgSAQCAKBIBAIAoEgEAgCgSAQCD/mghuiFDoCUwAAAABJRU5ErkJggg%3D%3D\">\n",
              "\n",
              "</div>\n",
              "<div class=\"col-md-12 text-right\">\n",
              "    <a role=\"button\" data-toggle=\"collapse\" data-target=\"#descriptives-7785814154303145557,#minihistogram-7785814154303145557\"\n",
              "       aria-expanded=\"false\" aria-controls=\"collapseExample\">\n",
              "        Toggle details\n",
              "    </a>\n",
              "</div>\n",
              "<div class=\"row collapse col-md-12\" id=\"descriptives-7785814154303145557\">\n",
              "    <ul class=\"nav nav-tabs\" role=\"tablist\">\n",
              "        <li role=\"presentation\" class=\"active\"><a href=\"#quantiles-7785814154303145557\"\n",
              "                                                  aria-controls=\"quantiles-7785814154303145557\" role=\"tab\"\n",
              "                                                  data-toggle=\"tab\">Statistics</a></li>\n",
              "        <li role=\"presentation\"><a href=\"#histogram-7785814154303145557\" aria-controls=\"histogram-7785814154303145557\"\n",
              "                                   role=\"tab\" data-toggle=\"tab\">Histogram</a></li>\n",
              "        <li role=\"presentation\"><a href=\"#common-7785814154303145557\" aria-controls=\"common-7785814154303145557\"\n",
              "                                   role=\"tab\" data-toggle=\"tab\">Common Values</a></li>\n",
              "        <li role=\"presentation\"><a href=\"#extreme-7785814154303145557\" aria-controls=\"extreme-7785814154303145557\"\n",
              "                                   role=\"tab\" data-toggle=\"tab\">Extreme Values</a></li>\n",
              "\n",
              "    </ul>\n",
              "\n",
              "    <div class=\"tab-content\">\n",
              "        <div role=\"tabpanel\" class=\"tab-pane active row\" id=\"quantiles-7785814154303145557\">\n",
              "            <div class=\"col-md-4 col-md-offset-1\">\n",
              "                <p class=\"h4\">Quantile statistics</p>\n",
              "                <table class=\"stats indent\">\n",
              "                    <tr>\n",
              "                        <th>Minimum</th>\n",
              "                        <td>2</td>\n",
              "                    </tr>\n",
              "                    <tr>\n",
              "                        <th>5-th percentile</th>\n",
              "                        <td>2.345</td>\n",
              "                    </tr>\n",
              "                    <tr>\n",
              "                        <th>Q1</th>\n",
              "                        <td>2.8</td>\n",
              "                    </tr>\n",
              "                    <tr>\n",
              "                        <th>Median</th>\n",
              "                        <td>3</td>\n",
              "                    </tr>\n",
              "                    <tr>\n",
              "                        <th>Q3</th>\n",
              "                        <td>3.3</td>\n",
              "                    </tr>\n",
              "                    <tr>\n",
              "                        <th>95-th percentile</th>\n",
              "                        <td>3.8</td>\n",
              "                    </tr>\n",
              "                    <tr>\n",
              "                        <th>Maximum</th>\n",
              "                        <td>4.4</td>\n",
              "                    </tr>\n",
              "                    <tr>\n",
              "                        <th>Range</th>\n",
              "                        <td>2.4</td>\n",
              "                    </tr>\n",
              "                    <tr>\n",
              "                        <th>Interquartile range</th>\n",
              "                        <td>0.5</td>\n",
              "                    </tr>\n",
              "                </table>\n",
              "            </div>\n",
              "            <div class=\"col-md-4 col-md-offset-2\">\n",
              "                <p class=\"h4\">Descriptive statistics</p>\n",
              "                <table class=\"stats indent\">\n",
              "                    <tr>\n",
              "                        <th>Standard deviation</th>\n",
              "                        <td>0.43587</td>\n",
              "                    </tr>\n",
              "                    <tr>\n",
              "                        <th>Coef of variation</th>\n",
              "                        <td>0.14256</td>\n",
              "                    </tr>\n",
              "                    <tr>\n",
              "                        <th>Kurtosis</th>\n",
              "                        <td>0.22825</td>\n",
              "                    </tr>\n",
              "                    <tr>\n",
              "                        <th>Mean</th>\n",
              "                        <td>3.0573</td>\n",
              "                    </tr>\n",
              "                    <tr>\n",
              "                        <th>MAD</th>\n",
              "                        <td>0.33678</td>\n",
              "                    </tr>\n",
              "                    <tr class=\"\">\n",
              "                        <th>Skewness</th>\n",
              "                        <td>0.31897</td>\n",
              "                    </tr>\n",
              "                    <tr>\n",
              "                        <th>Sum</th>\n",
              "                        <td>458.6</td>\n",
              "                    </tr>\n",
              "                    <tr>\n",
              "                        <th>Variance</th>\n",
              "                        <td>0.18998</td>\n",
              "                    </tr>\n",
              "                    <tr>\n",
              "                        <th>Memory size</th>\n",
              "                        <td>1.2 KiB</td>\n",
              "                    </tr>\n",
              "                </table>\n",
              "            </div>\n",
              "        </div>\n",
              "        <div role=\"tabpanel\" class=\"tab-pane col-md-8 col-md-offset-2\" id=\"histogram-7785814154303145557\">\n",
              "            <img src=\"data:image/png;base64,iVBORw0KGgoAAAANSUhEUgAAAlgAAAGQCAYAAAByNR6YAAAABHNCSVQICAgIfAhkiAAAAAlwSFlzAAAPYQAAD2EBqD%2BnaQAAADh0RVh0U29mdHdhcmUAbWF0cGxvdGxpYiB2ZXJzaW9uMy4yLjIsIGh0dHA6Ly9tYXRwbG90bGliLm9yZy%2BWH4yJAAAgAElEQVR4nO3df1RVdb7/8RdwhIQ4JNXRuWjRLEeTcBx/oqThUGqOU1Omoq0GLWvUKJIwLcxyVio66rUSr6M11oyuKUbHJn/bD8t%2BDGvmWno7aDqGNrfFYi4nhYsipsD%2B/uFXukcwD/nhbDbn%2BViLxfKzP3588/bD9uXem3PCLMuyBAAAAGPC7S4AAACgrSFgAQAAGEbAAgAAMIyABQAAYBgBCwAAwDACFgAAgGEELAAAAMMIWAAAAIYRsAAAAAwjYAEAABhGwAIAADCMgAUAAGAYAQsAAMAwAhYAAIBhBCwAAADDCFgAAACGEbAAAAAMI2ABAAAYRsACAAAwjIAFAABgGAELAADAMAIWAACAYQQsAAAAwwhYAAAAhhGwAAAADCNgAQAAGEbAAgAAMIyABQAAYBgBCwAAwDACFgAAgGEELAAAAMMIWAAAAIYRsAAAAAwjYAEAABhGwAIAADCMgAUAAGAYAQsAAMAwAhYAAIBhBCwAAADDXHYXECp8vhPG1wwPD1N8fIyOH69Wfb1lfH18i14HD70OHnodHPQ5eJrq9bXXxtpTiy1/KowIDw9TWFiYwsPD7C6lzaPXwUOvg4deBwd9Dp7W1GsCFgAAgGEELAAAAMMIWAAAAIYRsAAAAAwjYAEAABhGwAIAADCMgAUAAGAYAQsAAMAwAhYAAIBhBCwAAADDCFgAAACGEbAAAAAMI2ABAAAY5rK7AAChZ%2BTzH9tdQrNsn36z3SUAcBiuYAEAABhGwAIAADCMgAUAAGAYAQsAAMAwAhYAAIBhBCwAAADDCFgAAACGEbAAAAAMI2ABAAAYRsACAAAwjIAFAABgWMi%2BF%2BHBgweVn5%2Bv4uJiRUVFacCAAZo9e7aOHDmizMxMRUZG%2Bs3/zW9%2Bo5EjR9pULQAAcJKQvIJ15swZPfDAAxowYICKioq0ZcsWHTt2THPnzpUkJSQkyOv1%2Bn0QrgAAQKBCMmDV1NQoJydHU6ZMUWRkpOLj4zVs2DAdPnzY7tIAAEAbEJIBKy4uTmPHjpXLde4O6ZEjR/TGG280XKWqrq5WVlaWUlJSNGTIEL3yyiuyLMvOkgEAgIOE7DNYklRaWqoRI0aotrZW48aNU3Z2tg4ePKhu3bpp4sSJWrZsmf7%2B97/rscceU2xsrMaMGRPQuuXl5fL5fH5jLle0PB6P0fojIsL9PqPl0OvQ5nK1zb939nVw0OfgaU29DrNC/NKMZVn65z//qWeeeUbXXnutli5d2mjO4sWLtXfvXv3xj38MaM3ly5eroKDAbywrK0vZ2dlGagacrt/sHXaX0Cx75t9udwkAHCakr2BJUlhYmBITE5WTk6Px48dr9uzZio%2BP95uTkJCgnTt3BrxmRkaG0tPT/cZcrmhVVFQbqfm8iIhwud3tVVVVo7q6eqNrwx%2B9Dm2mv3dbC/Z1cNDn4Gmq1x06xNhSS0gGrKKiIs2dO1fbt29XePi5y4jnP%2B/evVs1NTW69957G%2BYfOXJEXbp0CXh9j8fT6Hagz3dCtbUt841VV1ffYmvDH70OTW3975x9HRz0OXhaQ6/tv0lpg%2BTkZJ08eVKLFy9WTU2Njh8/ruXLl6tfv36KjY3VokWL9NFHH%2Bns2bP6%2BOOP9ec//1kTJkywu2wAAOAQIXkFKzY2VmvWrNG8efM0cOBARUdHa%2BDAgZo/f746duyovLw8PffccyorK9M111yjvLw8DR8%2B3O6yAQCAQ4RkwJKk7t27a%2B3atU0ey8jIUEZGRpArAgAAbUVI3iIEAABoSQQsAAAAwwhYAAAAhhGwAAAADCNgAQAAGEbAAgAAMIyABQAAYBgBCwAAwDACFgAAgGEELAAAAMMIWAAAAIYRsAAAAAwjYAEAABhGwAIAADCMgAUAAGAYAQsAAMAwAhYAAIBhBCwAAADDCFgAAACGEbAAAAAMI2ABAAAYRsACAAAwjIAFAABgGAELAADAMAIWAACAYQQsAAAAwwhYAAAAhrnsLgAAWruRz39sdwnNsn36zXaXAIQ8rmABAAAYRsACAAAwLGQD1sGDBzVx4kT17dtXqampmj59unw%2BnySpqKhIY8aMUZ8%2BfTRq1Cht2rTJ5moBAICThGTAOnPmjB544AENGDBARUVF2rJli44dO6a5c%2BeqvLxcDz/8sMaPH6%2BioiLNnj1bc%2BbMkdfrtbtsAADgECEZsGpqapSTk6MpU6YoMjJS8fHxGjZsmA4fPqzNmzcrMTFRY8aMUVRUlFJTU5Wenq7169fbXTYAAHCIkAxYcXFxGjt2rFyucz9EeeTIEb3xxhsaOXKk9u/fr6SkJL/5SUlJKi4utqNUAADgQCH9Mg2lpaUaMWKEamtrNW7cOGVnZ%2Buhhx5Sx44d/eZdddVVqqioCHjd8vLyhue5znO5ouXxeIzUfV5ERLjfZ7Qceg0ncbkC26fs6%2BCgz8HTmnod0gErISFBXq9X//znP/XMM89o5syZRtYtLCxUQUGB31hWVpays7ONrH8ht7t9i6yLxug1nKBDh5hmzWdfBwd9Dp7W0OuQDliSFBYWpsTEROXk5Gj8%2BPFKS0tTZWWl35yKigrFx8cHvGZGRobS09P9xlyuaFVUVBup%2BbyIiHC53e1VVVWjurp6o2vDH72GkwR6rmFfBwd9Dp6met3c/3CYEpIBq6ioSHPnztX27dsVHn7uMuL5zz/%2B8Y%2B1c%2BdOv/nFxcXq1atXwOt7PJ5GtwN9vhOqrW2Zb6y6uvoWWxv%2B6DWcoLl7lH0dHPQ5eFpDr%2B2/SWmD5ORknTx5UosXL1ZNTY2OHz%2Bu5cuXq1%2B/fpowYYJKS0u1fv16ffPNN9q9e7d2796tcePG2V02AABwiJAMWLGxsVqzZo2Ki4s1cOBAjRo1SrGxsfr3f/93XX311Vq1apXWrVunvn37asGCBVq8eLFuvPFGu8sGAAAOEZK3CCWpe/fuWrt2bZPH%2BvfvrzfffDPIFQEAgLYiJK9gAQAAtCQCFgAAgGEELAAAAMMIWAAAAIYRsAAAAAwjYAEAABhGwAIAADCMgAUAAGAYAQsAAMAwAhYAAIBhBCwAAADDCFgAAACGEbAAAAAMI2ABAAAYRsACAAAwjIAFAABgGAELAADAMAIWAACAYQQsAAAAwwhYAAAAhhGwAAAADCNgAQAAGEbAAgAAMIyABQAAYBgBCwAAwDACFgAAgGEELAAAAMMIWAAAAIYRsAAAAAwjYAEAABhGwAIAADDMZXcBdiktLdWCBQu0Z88eRURE6JZbblFeXp6qqqp06623KjIy0m/%2B9OnTNXnyZJuqBQAAThKyAWvq1KlKTk7Wrl27dOLECWVlZWnRokWaNm2aJMnr9dpcIQAAcKqQvEVYVVWl5ORk5ebmKiYmRp06ddLdd9%2BtPXv22F0aAABoA0LyCpbb7VZ%2Bfr7fWFlZmTweT8OvZ86cqb/%2B9a%2Bqra3V2LFjlZ2drXbt2gW0fnl5uXw%2Bn9%2BYyxXtt74JERHhfp/Rcug1nMTlCmyfsq%2BDgz4HT2vqdUgGrAt5vV6tW7dOK1euVGRkpHr37q1hw4Zp/vz5%2Bvzzz/Xoo4/K5XLpscceC2i9wsJCFRQU%2BI1lZWUpOzu7JcqX292%2BRdZFY/QaTtChQ0yz5rOvg4M%2BB09r6HWYZVmW3UXY6ZNPPtG0adP0yCOPKDMzs8k5f/zjH7Vq1Srt3r07oDWDeQXL7W6vqqoa1dXVG10b/ui1WcOWfGh3CW3a2zOGBDSPfR0c9Dl4mup1c//DYUpIX8HatWuXnnjiCc2ZM0d33XXXReclJCTo66%2B/lmVZCgsLu%2BS6Ho%2BnUZjy%2BU6otrZlvrHq6upbbG34o9dwgubuUfZ1cNDn4GkNvbb/JqVNPv30U82aNUsvvPCCX7gqKirSypUr/eYeOXJECQkJAYUrAACAkAxYtbW1evrppzVjxgwNHjzY71hsbKxWrFihN998U2fPnpXX69Xvfvc7TZgwwaZqAQCA04TkLcJ9%2B/appKRE8%2BbN07x58/yO7dixQ8uWLVNBQYGeeeYZxcbG6pe//KUmTpxoU7UAAMBpQjJg9evXT4cOHbro8YSEBA0bNiyIFQEAgLYkJG8RAgAAtKSQvIIFtEUjn//Y7hIAAP8fV7AAAAAMI2ABAAAYRsACAAAwjIAFAABgmKMCVnp6ugoKClRWVmZ3KQAAABflqIB1zz33aNu2bbrtttv04IMP6q233lJtba3dZQEAAPhxVMDKysrStm3b9Kc//Uk/%2BtGPtGDBAqWlpWnx4sU6evSo3eUBAABIcljAOu%2Bmm27SrFmz9N577ykvL09/%2BtOf9LOf/UyTJ0/WZ599Znd5AAAgxDkyYJ09e1bbtm3TQw89pFmzZqljx4566qmn1KNHD02aNEmbN2%2B2u0QAABDCHPVK7iUlJdqwYYP%2B8pe/qLq6WiNGjNDvf/979e3bt2FO//79NXfuXN1xxx02VgoAAEKZowLWqFGjdMMNN2jKlCm66667dNVVVzWak5aWpuPHj9tQHQAAwDmOClh/%2BMMfNGDAgEvO%2B6//%2Bq8gVAMAANA0Rz2D1b17d02dOlXvvPNOw9irr76qhx56SJWVlTZWBgAA8C1HBaz8/HydOHFCXbt2bRgbOnSo6uvrtXDhQhsrAwAA%2BJajbhF%2B9NFH2rx5szp06NAwlpiYqCVLlujnP/%2B5jZUBAAB8y1FXsE6fPq2oqKhG4%2BHh4aqpqbGhIgAAgMYcdQWrf//%2BWrhwoXJzcxUXFydJ%2Bp//%2BR8tWrTI76UaABNGPv%2Bx3SUAABzKUQErLy9PDzzwgAYNGqQrr7xS9fX1qq6uVpcuXbR27Vq7ywMAAJDksIDVpUsXbd26VR988IH%2B%2B7//W%2BHh4brhhhs0ePBgRURE2F0eAACAJIcFLEmKjIzUbbfdZncZAAAAF%2BWogPXVV19p6dKlOnz4sE6fPt3o%2BLvvvmtDVQAAAP4cFbDy8vJUXl6uwYMHKzo62u5yAAAAmuSogFVcXKx3331X8fHxdpcCAABwUY56Hayrr76aK1cAAKDVc1TAmjJligoKCmRZlt2lAAAAXJSjbhF%2B8MEH%2BvTTT7Vx40Z17txZ4eH%2B%2BfD111%2B3qTIAAIBvOSpgXXnllbrlllvsLgMAAOA7OSpg5efn210CAADAJTnqGSxJOnLkiJYvX66nnnqqYWzv3r3NXqe0tFRZWVlKSUlRamqqnnzySVVVVUmSPv/8c913333q27evhg8frjVr1hirHwAAtH2OClhFRUW688479dZbb2nLli2Szr34aGZmZrNfZHTq1Klyu93atWuXNm7cqMOHD2vRokU6ffq0pkyZooEDB%2BrDDz/UsmXLtGrVKr311lst8SUBAIA2yFEBa9myZXriiSe0efNmhYWFSTr3/oQLFy7UihUrAl6nqqpKycnJys3NVUxMjDp16qS7775be/bs0fvvv6%2BzZ89q2rRpio6O1k033aSxY8eqsLCwpb4sAADQxjjqGax//OMfWrdunSQ1BCxJuv3225WXlxfwOm63u9HzXGVlZfJ4PNq/f7%2B6d%2B/u9%2BbRSUlJWr9%2BfcDrl5eXy%2Bfz%2BY25XNHyeDwBrxGIiIhwv88AIEkuV2DnBM4hwUGfg6c19dpRASs2NlanT59WZGSk33h5eXmjsebwer1at26dVq5cqe3bt8vtdvsdv%2Bqqq1RZWan6%2BvpGLw3RlMLCQhUUFPiNZWVlKTs7%2B3vX%2BF3c7vYtsi4AZ%2BrQIaZZ8zmHBAd9Dp7W0GtHBaw%2BffpowYIFevrppxvGjh49qmeffVaDBg36Xmt%2B8sknmjZtmnJzc5Wamqrt27c3Oe//XjG7lIyMDKWnp/uNuVzRqqio/l41XkxERLjc7vaqqqpRXV290bUBOFeg5xrOIcFBn4OnqV439z8cpjgqYD311FOaOHGiUlJSVFdXpz59%2BqimpkY/%2BtGPtHDhwmavt2vXLj3xxBOaM2eO7rrrLklSfHy8vvzyS795lZWVuuqqqwK6eiVJHo%2Bn0e1An%2B%2BEamtb5hurrq6%2BxdYG4DzNPR9wDgkO%2Bhw8raHXjgpYnTp10pYtW7R7924dPXpUV1xxhW644QbdfPPNzbrCJEmffvqpZs2apRdeeEGDBw9uGE9OTtZrr72m2tpauVzn2uP1etWrVy%2BjXwsAAGi7HBWwJKldu3a67bbbLmuN2tpaPf3005oxY4ZfuJKktLQ0XXnllVq5cqUefPBB/eMf/9CGDRu0ePHiy/ozAQBA6HBUwEpPT//OK1WBvhbWvn37VFJSonnz5mnevHl%2Bx3bs2KHf/va3evbZZ7V69Wpdc801ysnJ0dChQy%2BndAAAEEIcFbB%2B9rOf%2BQWsuro6HT16VF6vVxMnTgx4nX79%2BunQoUPfOee111773nUCAIDQ5qiANWPGjCbHd%2B7cqb/97W9BrgYAAKBp9r8SlwG33Xabtm7dancZAAAAktpIwDpw4IAsy7K7DAAAAEkOu0U4fvz4RmM1NTUqKSnR8OHDbagIAACgMUcFrMTExEY/RRgVFaUxY8Zo7NixNlUFAADgz1EB6/u8WjsAAECwOSpg/eUvfwl47vm3vgEAAAg2RwWs2bNnq76%2BvtED7WFhYX5jYWFhBCwAAGAbRwWsl19%2BWWvWrNHUqVPVvXt3WZalQ4cO6aWXXtJ9992nlJQUu0sEAABwVsBauHChVq9erY4dOzaM9evXT126dNHkyZO1ZcsWG6sDAAA4x1Gvg/Xll18qLi6u0bjb7VZpaakNFQEAADTmqICVkJCghQsXqqKiomGsqqpKS5cu1XXXXWdjZQAAAN9y1C3CvLw85ebmqrCwUDExMQoPD9fJkyd1xRVXaMWKFXaXBwAAIMlhAWvw4MF6//33tXv3bv3rX/%2BSZVnq2LGjhgwZotjYWLvLAwAAkOSwgCVJ7du316233qp//etf6tKli93lAAAANOKoZ7BOnz6tWbNmqXfv3ho5cqSkc89gPfjgg6qqqrK5OgAAgHMcFbAWL16szz//XEuWLFF4%2BLel19XVacmSJTZWBgAA8C1HBaydO3fqxRdf1O23397wps9ut1v5%2Bfl66623bK4OAADgHEcFrOrqaiUmJjYaj4%2BP16lTp4JfEAAAQBMcFbCuu%2B46/e1vf5Mkv/ce3LFjh/7t3/7NrrIAAAD8OOqnCO%2B99149%2Buijuueee1RfX69XXnlFxcXF2rlzp2bPnm13eQAAAJIcFrAyMjLkcrm0bt06RURE6Le//a1uuOEGLVmyRLfffrvd5QEAAEhyWMA6fvy47rnnHt1zzz12lwIAAHBRjnoG69Zbb/V79goAAKA1clTASklJ0fbt2%2B0uAwAA4Ds56hbhD37wA82fP1%2BrV6/Wddddp3bt2vkdX7p0qU2VAQAAfMtRAeuLL77QD3/4Q0lSRUWFzdUAAAA0zREBKycnR8uWLdPatWsbxlasWKGsrCwbqwIAAGiaI57B2rVrV6Ox1atX21AJAADApTkiYDX1k4P8NCEAAGitHBGwzr%2Bx86XGmuPDDz9UamqqcnJy/MY3btyoG2%2B8UT179vT7%2BOyzzy7rzwMAAKHDEc9gmfbSSy9pw4YNuv7665s83r9/f7/nvQAAAJrDEVewTIuKivrOgAUAAHA5HHEF6%2BzZs8rNzb3kWKCvg5WZmfmdx8vKynT//feruLhYbrdb2dnZ%2BsUvfhFwveXl5fL5fH5jLle0PB5PwGsEIiIi3O8zAEiSyxXYOYFzSHDQ5%2BBpTb12RMDq27evysvLLzlmQnx8vBITE/X444%2Bra9euevvttzVz5kx5PB4NGjQooDUKCwtVUFDgN5aVlaXs7Gzj9UqS292%2BRdYF4EwdOsQ0az7nkOCgz8HTGnrtiIAVzOehhg4dqqFDhzb8etSoUXr77be1cePGgANWRkaG0tPT/cZcrmhVVFSbLFUREeFyu9urqqpGdXX1RtcG4FyBnms4hwQHfQ6epnrd3P9wmOKIgGW3hIQEFRcXBzzf4/E0uh3o851QbW3LfGPV1dW32NoAnKe55wPOIcFBn4OnNfTa/puUrcxrr72mbdu2%2BY2VlJSoS5cuNlUEAACchoB1gTNnzui5556T1%2BvV2bNntWXLFn3wwQcaP3683aUBAACHCMlbhD179pQk1dbWSpLeeecdSZLX61VmZqaqq6v12GOPyefzqXPnzlqxYoWSk5NtqxcAADhLSAYsr9d70WNhYWF6%2BOGH9fDDDwexIgAA0JZwixAAAMAwAhYAAIBhBCwAAADDCFgAAACGEbAAAAAMI2ABAAAYRsACAAAwjIAFAABgGAELAADAMAIWAACAYQQsAAAAwwhYAAAAhhGwAAAADCNgAQAAGEbAAgAAMIyABQAAYBgBCwAAwDACFgAAgGEELAAAAMMIWAAAAIYRsAAAAAwjYAEAABhGwAIAADCMgAUAAGAYAQsAAMAwAhYAAIBhLrsLAACErpHPf2x3Cc2yffrNdpcAh%2BAKFgAAgGEELAAAAMMIWAAAAIaFbMD68MMPlZqaqpycnEbHtm3bpjvuuEO9e/fW6NGj9dFHH9lQIQAAcKqQfMj9pZde0oYNG3T99dc3Ovb5559r1qxZKigo0MCBA7Vz50498sgj2rFjhzp16mRDtQAAwGlC8gpWVFTURQPW%2BvXrlZaWprS0NEVFRenOO%2B9Ut27dtGnTJhsqBQAAThSSASszM1OxsbFNHtu/f7%2BSkpL8xpKSkuT1eoNRGgAAaANC8hbhd6msrFRcXJzfWFxcnL744ouA1ygvL5fP5/Mbc7mi5fF4jNR4XkREuN9nAJAklyuwcwLnkOYLtLf/F30OntbUawJWEyzLuqzfX1hYqIKCAr%2BxrKwsZWdnX9a6F%2BN2t2%2BRdQE407AlH9pdQpvVoUPM9/69nKuDpzX0moB1gQ4dOqiystJvrLKyUvHx8QGvkZGRofT0dL8xlytaFRXVRmo8LyIiXG53e1VV1aiurt7o2gCAxr7PeZxzdfA01evLCcWXg4B1geTkZBUXF/uNeb1ejRo1KuA1PB5Po9uBPt8J1da2zDdWXV19i60NAPjW5ZxrOVcHT2votf03KVuZcePG6a9//avef/99ffPNN9qwYYO%2B/PJL3XnnnXaXBgAAHCIkr2D17NlTklRbWytJeueddySdu1LVrVs3LVmyRPn5%2BSotLVXXrl21atUqXXvttbbVCwAAnCUkA9alXnJh%2BPDhGj58eJCqAQAAbQ23CAEAAAwjYAEAABhGwAIAADCMgAUAAGAYAQsAAMAwAhYAAIBhBCwAAADDCFgAAACGEbAAAAAMI2ABAAAYRsACAAAwjIAFAABgGAELAADAMAIWAACAYQQsAAAAwwhYAAAAhhGwAAAADCNgAQAAGOayuwCEjpHPf2x3CQAABAVXsAAAAAwjYAEAABhGwAIAADCMgAUAAGAYAQsAAMAwAhYAAIBhBCwAAADDCFgAAACGEbAAAAAMI2ABAAAYRsACAAAwjPcibEL37t3Vrl07hYWFNYyNGzdOc%2BbMsbEqAADgFASsi9ixY4c6d%2B5sdxkAAMCBuEUIAABgGAHrIpYuXaqhQ4eqX79%2BmjNnjqqrq%2B0uCQAAOAS3CJvwk5/8RKmpqVq0aJG%2B%2BuorTZ8%2BXb/%2B9a/1m9/8JqDfX15eLp/P5zfmckXL4/EYrTMiItzvMwCgZblczT/fcq4OntbU6zDLsiy7i2jtdu/erWnTpmnfvn2KjIy85Pzly5eroKDAbywrK0vZ2dktVaIj9Ju9w%2B4SAOCy7Jl/u90lwCG4ghWAzp07q66uTseOHdMPfvCDS87PyMhQenq635jLFa2KCrO3GSMiwuV2t1dVVY3q6uqNrg0AaOz7nMc5VwdPU73u0CHGlloIWBc4cOCANm3apCeffLJhrKSkRJGRkQHf4vN4PI3m%2BnwnVFvbMt9YdXX1LbY2AOBbl3Ou5VwdPK2h1/bfpGxlrr76ahUWFmr16tU6c%2BaMjh49qhdeeEEZGRmKiIiwuzwAAOAABKwLdOzYUatXr9auXbuUkpKi8ePHa8iQIXriiSfsLg0AADgEtwib0L9/f73%2B%2But2lwEAAByKK1gAAACGEbAAAAAM4xahw/HaUgAAtD5cwQIAADCMgAUAAGAYAQsAAMAwAhYAAIBhBCwAAADDCFgAAACGEbAAAAAMI2ABAAAYRsACAAAwjIAFAABgGAELAADAMAIWAACAYQQsAAAAwwhYAAAAhhGwAAAADCNgAQAAGOayuwAAAJxi5PMf211Cm7V9%2Bs12l2AUV7AAAAAMI2ABAAAYRsACAAAwjIAFAABgGAELAADAMAIWAACAYQQsAAAAwwhYAAAAhhGwAAAADCNgAQAAGEbAAgAAMIyA1YTS0lL96le/UkpKin76059q8eLFqq%2Bvt7ssAADgELzZcxMeffRR3XTTTXrnnXd07NgxTZkyRddcc43uv/9%2Bu0sDAAAOwBWsC3i9Xh08eFAzZsxQbGysEhMTNWnSJBUWFtpdGgAAcAiuYF1g//79SkhIUFxcXMPYTTfdpKNHj%2BrkyZO68sorL7lGeXm5fD6f35jLFS2Px2O01ogI8jEAoG1wuS7/37Tz/y62hn8fCVgXqKyslNvt9hs7H7YqKioCCliFhYUqKCjwG3vkkUf06KOPmitU54LcxE6HlZGRYTy8wV95ebkKCwvpdRDQ6%2BCh18FBn4OnvLxcv//9y62i1/ZHvFbIsqzL%2Bv0ZGRnauHGj30dGRoah6r7l8/lUUFDQ6GoZzKPXwUOvg4deBwd9Dp7W1GuuYF0gPj5elZWVfmOVlZUKCwtTfHx8QGt4PB7bkzMAALAPV7AukJycrLKyMh0/frxhzOv1qmvXroqJibGxMgAA4BQErAskJSWpZ8%2BeWrp0qU6ePKmSkhK98sormjBhgt2lAQAAh4iYO3fuXLuLaG2GDBmiLVu26LnnntPWrVs1ZswYTZ48WWFhYXaX1khMTIwGDBjA1bUgoNfBQ6%2BDh14HB30OntbS6zDrcp/oBgAAgB9uEQIAABhGwAIAAJIpu60AAAb/SURBVDCMgAUAAGAYAQsAAMAwAhYAAIBhBCwAAADDCFgAAACGEbAAAAAMI2ABAAAYRsBq5UpLS5WVlaWUlBSlpqbqySefVFVVVZNzt23bpjvuuEO9e/fW6NGj9dFHHwW5WmcLtNcbN27UjTfeqJ49e/p9fPbZZzZU7UwHDx7UxIkT1bdvX6Wmpmr69Ony%2BXxNzv3DH/6gESNGqE%2BfPpowYYKKi4uDXK2zBdrr5cuXq0ePHo329ddff21D1c62YMECde/e/aLH2dPmfFevbd/TFlq1n//859aTTz5pnTx50iorK7NGjx5t5eXlNZp34MABKzk52Xr//fet06dPW2%2B%2B%2BabVq1cvq6yszIaqnSnQXv/5z3%2B27rvvPhsqbBu%2B%2BeYba9CgQVZBQYH1zTffWMeOHbPuu%2B8%2B6%2BGHH240991337X69etn7du3z6qpqbFWrVpl3XzzzVZ1dbUNlTtPc3r94osvWrNmzbKhyrblwIED1oABA6xu3bo1eZw9bc6lem33nuYKVitWVVWl5ORk5ebmKiYmRp06ddLdd9%2BtPXv2NJq7fv16paWlKS0tTVFRUbrzzjvVrVs3bdq0yYbKnac5vcblqampUU5OjqZMmaLIyEjFx8dr2LBhOnz4cKO5hYWFGj16tHr16qUrrrhCDz74oCTpvffeC3bZjtScXuPy1dfX69lnn9WkSZMuOoc9bUYgvbYbAasVc7vdys/P1zXXXNMwVlZWJo/H02ju/v37lZSU5DeWlJQkr9fb4nW2Bc3p9flj999/v/r3769bb71Vb775ZrBKdby4uDiNHTtWLpdLknTkyBG98cYbGjlyZKO5F%2B7r8PBw9ejRg30doOb0WpIOHTqk8ePHq0%2BfPho1ahSPGTTT66%2B/rqioKN1xxx0XncOeNiOQXkv27mlX0P4kXDav16t169Zp5cqVjY5VVlYqLi7ObywuLk5ffPFFsMprU76r1/Hx8UpMTNTjjz%2Burl276u2339bMmTPl8Xg0aNAgG6p1ptLSUo0YMUK1tbUaN26csrOzG8252L6uqKgIVpltQiC97tSpk7p06aLc3Fx5PB4VFhZq6tSp2rRpk374wx/aULWzfP3111q%2BfLnWrl37nfPY05cv0F7bvae5guUQn3zyiSZPnqzc3FylpqY2OceyrCBX1TZdqtdDhw7Vyy%2B/rKSkJEVGRmrUqFEaNmyYNm7caEO1zpWQkCCv16sdO3boyy%2B/1MyZM5ucx76%2BfIH0euzYsXrxxRd1/fXXq3379po0aZJ69OjBYwYBys/P1%2BjRo9W1a9dLzmVPX55Ae233niZgOcCuXbv0q1/9Snl5ecrMzGxyTocOHVRZWek3VllZqfj4%2BGCU2GYE0uumJCQkqLy8vAUra5vCwsKUmJionJwcbdmyRcePH/c7zr4251K9bgr7OjBFRUXau3evsrKyLjmXPX15mtPrpgRzTxOwWrlPP/1Us2bN0gsvvKC77rrrovOSk5Mb/aiv1%2BtVr169WrrENiPQXr/22mvatm2b31hJSYm6dOnS0iW2CUVFRRoxYoTq6%2BsbxsLDz52K2rVr5zc3OTlZ%2B/fvb/h1XV2dDhw4wL4OUHN6/R//8R8qKiryG2NfB2bTpk06duyYfvrTnyolJUWjR4%2BWJKWkpGjr1q1%2Bc9nTl6c5vbZ9T9v284u4pLNnz1ojR460Xn/99SaPZ2ZmWlu3brUsy7IOHTpk9ezZ03rvvfes06dPW%2BvXr7d69%2B5tlZeXB7Nkx2pOr1999VVr4MCB1meffWadOXPG2rx5s9WjRw/L6/UGs2THqqqqslJTU62FCxdap06dso4dO2ZNnjzZuvfeey3LsqwRI0ZY//mf/2lZlmXt3r3b6tu3r7V3717r1KlT1vLly620tDSrpqbGzi/BMZrT6/nz51sjRoywSkpKrNOnT1u/%2B93vrB//%2BMe81EsAKisrrbKysoaPvXv3Wt26dbPKysqsU6dOsacNak6v7d7TPOTeiu3bt08lJSWaN2%2Be5s2b53dsx44d%2Buqrr/S///u/kqRu3bppyZIlys/PV2lpqbp27apVq1bp2muvtaN0x2lOrzMzM1VdXa3HHntMPp9PnTt31ooVK5ScnGxH6Y4TGxurNWvWaN68eRo4cKCio6M1cOBAzZ8/X5J09OhRnTp1SpJ0yy236PHHH9f06dN17Ngx9ezZU6tXr9YVV1xh55fgGM3pdW5uriRp0qRJqqysVNeuXfXqq6%2BqU6dOttXvFHFxcX4PrtfW1kpSQ%2B/Y0%2BY0p9d27%2Bkwy%2BJpOwAAAJN4BgsAAMAwAhYAAIBhBCwAAADDCFgAAACGEbAAAAAMI2ABAAAYRsACAAAwjIAFAABgGAELAADAMAIWAACAYQQsAAAAwwhYAAAAhhGwAAAADPt/C0VEKONI3P0AAAAASUVORK5CYII%3D\"/>\n",
              "        </div>\n",
              "        <div role=\"tabpanel\" class=\"tab-pane col-md-12\" id=\"common-7785814154303145557\">\n",
              "            \n",
              "<table class=\"freq table table-hover\">\n",
              "    <thead>\n",
              "    <tr>\n",
              "        <td class=\"fillremaining\">Value</td>\n",
              "        <td class=\"number\">Count</td>\n",
              "        <td class=\"number\">Frequency (%)</td>\n",
              "        <td style=\"min-width:200px\">&nbsp;</td>\n",
              "    </tr>\n",
              "    </thead>\n",
              "    <tr class=\"\">\n",
              "        <td class=\"fillremaining\">3.0</td>\n",
              "        <td class=\"number\">26</td>\n",
              "        <td class=\"number\">17.3%</td>\n",
              "        <td>\n",
              "            <div class=\"bar\" style=\"width:74%\">&nbsp;</div>\n",
              "        </td>\n",
              "</tr><tr class=\"\">\n",
              "        <td class=\"fillremaining\">2.8</td>\n",
              "        <td class=\"number\">14</td>\n",
              "        <td class=\"number\">9.3%</td>\n",
              "        <td>\n",
              "            <div class=\"bar\" style=\"width:40%\">&nbsp;</div>\n",
              "        </td>\n",
              "</tr><tr class=\"\">\n",
              "        <td class=\"fillremaining\">3.2</td>\n",
              "        <td class=\"number\">13</td>\n",
              "        <td class=\"number\">8.7%</td>\n",
              "        <td>\n",
              "            <div class=\"bar\" style=\"width:37%\">&nbsp;</div>\n",
              "        </td>\n",
              "</tr><tr class=\"\">\n",
              "        <td class=\"fillremaining\">3.4</td>\n",
              "        <td class=\"number\">12</td>\n",
              "        <td class=\"number\">8.0%</td>\n",
              "        <td>\n",
              "            <div class=\"bar\" style=\"width:34%\">&nbsp;</div>\n",
              "        </td>\n",
              "</tr><tr class=\"\">\n",
              "        <td class=\"fillremaining\">3.1</td>\n",
              "        <td class=\"number\">11</td>\n",
              "        <td class=\"number\">7.3%</td>\n",
              "        <td>\n",
              "            <div class=\"bar\" style=\"width:32%\">&nbsp;</div>\n",
              "        </td>\n",
              "</tr><tr class=\"\">\n",
              "        <td class=\"fillremaining\">2.9</td>\n",
              "        <td class=\"number\">10</td>\n",
              "        <td class=\"number\">6.7%</td>\n",
              "        <td>\n",
              "            <div class=\"bar\" style=\"width:29%\">&nbsp;</div>\n",
              "        </td>\n",
              "</tr><tr class=\"\">\n",
              "        <td class=\"fillremaining\">2.7</td>\n",
              "        <td class=\"number\">9</td>\n",
              "        <td class=\"number\">6.0%</td>\n",
              "        <td>\n",
              "            <div class=\"bar\" style=\"width:26%\">&nbsp;</div>\n",
              "        </td>\n",
              "</tr><tr class=\"\">\n",
              "        <td class=\"fillremaining\">2.5</td>\n",
              "        <td class=\"number\">8</td>\n",
              "        <td class=\"number\">5.3%</td>\n",
              "        <td>\n",
              "            <div class=\"bar\" style=\"width:23%\">&nbsp;</div>\n",
              "        </td>\n",
              "</tr><tr class=\"\">\n",
              "        <td class=\"fillremaining\">3.5</td>\n",
              "        <td class=\"number\">6</td>\n",
              "        <td class=\"number\">4.0%</td>\n",
              "        <td>\n",
              "            <div class=\"bar\" style=\"width:17%\">&nbsp;</div>\n",
              "        </td>\n",
              "</tr><tr class=\"\">\n",
              "        <td class=\"fillremaining\">3.8</td>\n",
              "        <td class=\"number\">6</td>\n",
              "        <td class=\"number\">4.0%</td>\n",
              "        <td>\n",
              "            <div class=\"bar\" style=\"width:17%\">&nbsp;</div>\n",
              "        </td>\n",
              "</tr><tr class=\"other\">\n",
              "        <td class=\"fillremaining\">Other values (13)</td>\n",
              "        <td class=\"number\">35</td>\n",
              "        <td class=\"number\">23.3%</td>\n",
              "        <td>\n",
              "            <div class=\"bar\" style=\"width:100%\">&nbsp;</div>\n",
              "        </td>\n",
              "</tr>\n",
              "</table>\n",
              "        </div>\n",
              "        <div role=\"tabpanel\" class=\"tab-pane col-md-12\"  id=\"extreme-7785814154303145557\">\n",
              "            <p class=\"h4\">Minimum 5 values</p>\n",
              "            \n",
              "<table class=\"freq table table-hover\">\n",
              "    <thead>\n",
              "    <tr>\n",
              "        <td class=\"fillremaining\">Value</td>\n",
              "        <td class=\"number\">Count</td>\n",
              "        <td class=\"number\">Frequency (%)</td>\n",
              "        <td style=\"min-width:200px\">&nbsp;</td>\n",
              "    </tr>\n",
              "    </thead>\n",
              "    <tr class=\"\">\n",
              "        <td class=\"fillremaining\">2.0</td>\n",
              "        <td class=\"number\">1</td>\n",
              "        <td class=\"number\">0.7%</td>\n",
              "        <td>\n",
              "            <div class=\"bar\" style=\"width:13%\">&nbsp;</div>\n",
              "        </td>\n",
              "</tr><tr class=\"\">\n",
              "        <td class=\"fillremaining\">2.2</td>\n",
              "        <td class=\"number\">3</td>\n",
              "        <td class=\"number\">2.0%</td>\n",
              "        <td>\n",
              "            <div class=\"bar\" style=\"width:38%\">&nbsp;</div>\n",
              "        </td>\n",
              "</tr><tr class=\"\">\n",
              "        <td class=\"fillremaining\">2.3</td>\n",
              "        <td class=\"number\">4</td>\n",
              "        <td class=\"number\">2.7%</td>\n",
              "        <td>\n",
              "            <div class=\"bar\" style=\"width:50%\">&nbsp;</div>\n",
              "        </td>\n",
              "</tr><tr class=\"\">\n",
              "        <td class=\"fillremaining\">2.4</td>\n",
              "        <td class=\"number\">3</td>\n",
              "        <td class=\"number\">2.0%</td>\n",
              "        <td>\n",
              "            <div class=\"bar\" style=\"width:38%\">&nbsp;</div>\n",
              "        </td>\n",
              "</tr><tr class=\"\">\n",
              "        <td class=\"fillremaining\">2.5</td>\n",
              "        <td class=\"number\">8</td>\n",
              "        <td class=\"number\">5.3%</td>\n",
              "        <td>\n",
              "            <div class=\"bar\" style=\"width:100%\">&nbsp;</div>\n",
              "        </td>\n",
              "</tr>\n",
              "</table>\n",
              "            <p class=\"h4\">Maximum 5 values</p>\n",
              "            \n",
              "<table class=\"freq table table-hover\">\n",
              "    <thead>\n",
              "    <tr>\n",
              "        <td class=\"fillremaining\">Value</td>\n",
              "        <td class=\"number\">Count</td>\n",
              "        <td class=\"number\">Frequency (%)</td>\n",
              "        <td style=\"min-width:200px\">&nbsp;</td>\n",
              "    </tr>\n",
              "    </thead>\n",
              "    <tr class=\"\">\n",
              "        <td class=\"fillremaining\">3.9</td>\n",
              "        <td class=\"number\">2</td>\n",
              "        <td class=\"number\">1.3%</td>\n",
              "        <td>\n",
              "            <div class=\"bar\" style=\"width:100%\">&nbsp;</div>\n",
              "        </td>\n",
              "</tr><tr class=\"\">\n",
              "        <td class=\"fillremaining\">4.0</td>\n",
              "        <td class=\"number\">1</td>\n",
              "        <td class=\"number\">0.7%</td>\n",
              "        <td>\n",
              "            <div class=\"bar\" style=\"width:50%\">&nbsp;</div>\n",
              "        </td>\n",
              "</tr><tr class=\"\">\n",
              "        <td class=\"fillremaining\">4.1</td>\n",
              "        <td class=\"number\">1</td>\n",
              "        <td class=\"number\">0.7%</td>\n",
              "        <td>\n",
              "            <div class=\"bar\" style=\"width:50%\">&nbsp;</div>\n",
              "        </td>\n",
              "</tr><tr class=\"\">\n",
              "        <td class=\"fillremaining\">4.2</td>\n",
              "        <td class=\"number\">1</td>\n",
              "        <td class=\"number\">0.7%</td>\n",
              "        <td>\n",
              "            <div class=\"bar\" style=\"width:50%\">&nbsp;</div>\n",
              "        </td>\n",
              "</tr><tr class=\"\">\n",
              "        <td class=\"fillremaining\">4.4</td>\n",
              "        <td class=\"number\">1</td>\n",
              "        <td class=\"number\">0.7%</td>\n",
              "        <td>\n",
              "            <div class=\"bar\" style=\"width:50%\">&nbsp;</div>\n",
              "        </td>\n",
              "</tr>\n",
              "</table>\n",
              "        </div>\n",
              "    </div>\n",
              "</div>\n",
              "</div><div class=\"row variablerow\">\n",
              "    <div class=\"col-md-3 namecol\">\n",
              "        <p class=\"h4 pp-anchor\" id=\"pp_var_species\">species<br/>\n",
              "            <small>Categorical</small>\n",
              "        </p>\n",
              "    </div><div class=\"col-md-3\">\n",
              "    <table class=\"stats \">\n",
              "        <tr class=\"\">\n",
              "            <th>Distinct count</th>\n",
              "            <td>3</td>\n",
              "        </tr>\n",
              "        <tr>\n",
              "            <th>Unique (%)</th>\n",
              "            <td>2.0%</td>\n",
              "        </tr>\n",
              "        <tr class=\"ignore\">\n",
              "            <th>Missing (%)</th>\n",
              "            <td>0.0%</td>\n",
              "        </tr>\n",
              "        <tr class=\"ignore\">\n",
              "            <th>Missing (n)</th>\n",
              "            <td>0</td>\n",
              "        </tr>\n",
              "    </table>\n",
              "</div>\n",
              "<div class=\"col-md-6 collapse in\" id=\"minifreqtable6682928999538473029\">\n",
              "    <table class=\"mini freq\">\n",
              "        <tr class=\"\">\n",
              "    <th>versicolor</th>\n",
              "    <td>\n",
              "        <div class=\"bar\" style=\"width:100%\" data-toggle=\"tooltip\" data-placement=\"right\" data-html=\"true\"\n",
              "             data-delay=500 title=\"Percentage: 33.3%\">\n",
              "            50\n",
              "        </div>\n",
              "        \n",
              "    </td>\n",
              "</tr><tr class=\"\">\n",
              "    <th>virginica</th>\n",
              "    <td>\n",
              "        <div class=\"bar\" style=\"width:100%\" data-toggle=\"tooltip\" data-placement=\"right\" data-html=\"true\"\n",
              "             data-delay=500 title=\"Percentage: 33.3%\">\n",
              "            50\n",
              "        </div>\n",
              "        \n",
              "    </td>\n",
              "</tr><tr class=\"\">\n",
              "    <th>setosa</th>\n",
              "    <td>\n",
              "        <div class=\"bar\" style=\"width:100%\" data-toggle=\"tooltip\" data-placement=\"right\" data-html=\"true\"\n",
              "             data-delay=500 title=\"Percentage: 33.3%\">\n",
              "            50\n",
              "        </div>\n",
              "        \n",
              "    </td>\n",
              "</tr>\n",
              "    </table>\n",
              "</div>\n",
              "<div class=\"col-md-12 text-right\">\n",
              "    <a role=\"button\" data-toggle=\"collapse\" data-target=\"#freqtable6682928999538473029, #minifreqtable6682928999538473029\"\n",
              "       aria-expanded=\"true\" aria-controls=\"collapseExample\">\n",
              "        Toggle details\n",
              "    </a>\n",
              "</div>\n",
              "<div class=\"col-md-12 extrapadding collapse\" id=\"freqtable6682928999538473029\">\n",
              "    \n",
              "<table class=\"freq table table-hover\">\n",
              "    <thead>\n",
              "    <tr>\n",
              "        <td class=\"fillremaining\">Value</td>\n",
              "        <td class=\"number\">Count</td>\n",
              "        <td class=\"number\">Frequency (%)</td>\n",
              "        <td style=\"min-width:200px\">&nbsp;</td>\n",
              "    </tr>\n",
              "    </thead>\n",
              "    <tr class=\"\">\n",
              "        <td class=\"fillremaining\">versicolor</td>\n",
              "        <td class=\"number\">50</td>\n",
              "        <td class=\"number\">33.3%</td>\n",
              "        <td>\n",
              "            <div class=\"bar\" style=\"width:100%\">&nbsp;</div>\n",
              "        </td>\n",
              "</tr><tr class=\"\">\n",
              "        <td class=\"fillremaining\">virginica</td>\n",
              "        <td class=\"number\">50</td>\n",
              "        <td class=\"number\">33.3%</td>\n",
              "        <td>\n",
              "            <div class=\"bar\" style=\"width:100%\">&nbsp;</div>\n",
              "        </td>\n",
              "</tr><tr class=\"\">\n",
              "        <td class=\"fillremaining\">setosa</td>\n",
              "        <td class=\"number\">50</td>\n",
              "        <td class=\"number\">33.3%</td>\n",
              "        <td>\n",
              "            <div class=\"bar\" style=\"width:100%\">&nbsp;</div>\n",
              "        </td>\n",
              "</tr>\n",
              "</table>\n",
              "</div>\n",
              "</div>\n",
              "    <div class=\"row headerrow highlight\">\n",
              "        <h1>Correlations</h1>\n",
              "    </div>\n",
              "    <div class=\"row variablerow\">\n",
              "    <img src=\"data:image/png;base64,iVBORw0KGgoAAAANSUhEUgAAAn8AAAI0CAYAAABs0U9UAAAABHNCSVQICAgIfAhkiAAAAAlwSFlzAAAPYQAAD2EBqD%2BnaQAAADh0RVh0U29mdHdhcmUAbWF0cGxvdGxpYiB2ZXJzaW9uMy4yLjIsIGh0dHA6Ly9tYXRwbG90bGliLm9yZy%2BWH4yJAAAgAElEQVR4nOzdf3zP9f7/8ft%2BMGmGseEsItkwo40ZNTLUnCiODmaXsKgUhpVTKiI51amFkx%2BF8utzOp11cFLrh9APvo5zSmRvy8hMhmFsb0zsl/f3D2fvvJlsXu95e%2B19u14uu8yerx/vx/uZ7LH78/V6zcNms9kEAAAAt%2BDp6gIAAABw/dD8AQAAuBGaPwAAADdC8wcAAOBGaP4AAADcCM0fAACAG6H5AwAAcCM0fwAAAG6E5g8AAMCN0PwBAAC4EW9XFwDAnEJCQq64rUaNGqpXr57atWunAQMGKDY2Vh4eHtexOgDAlXjwu30BXIuy5q99%2B/YKCAhw2FZYWKh9%2B/bp8OHDkqSYmBi9%2Beabqlmz5nWvEwDgiOYPwDUpa/7mz5%2Bv3r17l7vP%2BvXr9ac//Um//PKLRo4cqWeeeeZ6lggAKAfX/AGoMr1799ZTTz0lSXr//fdVWFjo4ooAAFzzB6BK3XvvvXrppZd09uxZ/fjjjwoPD3fYvmXLFr333nv64YcfZLVa5evrq9atW%2BvBBx/U/fffX%2B45rVarli5dqm%2B%2B%2BUY///yzioqKVLduXbVv314PP/ywoqKiLjumZ8%2BeOnTokBYvXqzCwkLNnj1b2dnZWrZsmTp27ChJ2rNnj5YsWaKtW7fq6NGj8vb2VmBgoDp37qyHHnqo3OscT58%2BreXLl2vDhg36%2BeefVVxcrIYNGyoiIkIJCQkKCwtz2P/gwYPq1auXJCktLU2ZmZl66623tH37dlmtVgUGBqpXr15KSkpS7dq1r2nOAeC3kPwBqFL16tWz//nUqVMO22bPnq2EhAStW7dOvr6%2BioqKkr%2B/v7Zs2aJJkyZp4sSJKi0tdTgmNzdXAwcO1Ntvv619%2B/apbdu26tKli2rWrKmvvvpKI0aM0KpVq65Yz759%2B5SUlKQaNWqoS5cuqlWrliTp22%2B/1YMPPqh//etfKiwsVMeOHRUeHq6CggJ98MEHGjx4sLZs2eJwrkOHDukPf/iD5s6dq71796p169bq0qWLbDabUlNTNXjwYK1cufKKtWzbtk3x8fFKT09X69at1aJFCx06dEgrVqxQYmJihecYACrFBgDXIDg42BYcHGxbt27db%2B6XmZlp3zctLc0%2B/sUXX9iCg4NtkZGRtv/%2B978Ox3z77be2O%2B%2B80xYcHGxbunSpw7aZM2fagoODbbGxsbbjx4/bx0tKSmx//vOfbcHBwbaOHTvaCgoKHI6LiYmxBQcH23r27Gl76623Lqtz0KBBtuDgYNurr75qKy0tdTjv7NmzbcHBwbZ%2B/fo5HBMfH28LDg62DRw40Hb06FH7eGlpqW3u3Lm24OBgW7t27Wz79u2zb8vOzrbPR48ePWyLFi2ynT9/3r79X//6l337rl27fmtqAeCakPwBqFJffPGFJKlu3bpq06aNffytt96SJD3zzDPq3LmzwzGRkZF6%2BumnJUnLly932BYYGKi%2Bfftq3LhxatCggX3cy8tLSUlJ8vT01OnTp/XDDz%2BUW8/58%2Bf12GOPXTa%2Ba9cuSdLAgQPl6fnrP41eXl4aP368xo8fr2HDhqmoqEiStGPHDm3dulWS9NprrykwMNB%2BjKenp8aNG6fQ0FAVFRXpH//4R7m1tGrVSo8%2B%2BqjDY3D69%2B8vf39/%2B2sAgLNxzR%2BAKvPNN99o4cKFkqRHHnlE3t4X/sk5evSo0tPTJUn33HNPucf27t1bHh4eOnz4sLKystSiRQtJ0qOPPnrF17vpppvUoEED5ebmKjc3t9x9unTp4tDclfHz89Px48f16aefasKECQ7bPD09NXbsWIexTZs2Sbpw13PLli2v%2BB7S09MvWy4uU941jR4eHmratKny8vKUn59f7nEAYATNHwBDFi5cqNWrVzuMFRUVaf/%2B/crOzpZ0IU175JFH7Nv37Nlj//PkyZOveG5vb28VFxdr//799uav7PzffPONdu7cqWPHjunUqVOy/e%2BpVadPn5Z0IeErT6NGjcodHzFihN544w0tWLBAmzZtUr9%2B/dS1a9crPsx67969ki6kd1dy2223SbpwnWF5mjVrVu64j4%2BPJKm4uPiK5waAa0XzB8CQtLS0y8a8vLxUv3599erVS0OGDNHdd9/tsP3kyZP2P2/YsOGqr1HW0ElSRkaGxo4dq4MHD15TvXXr1i13vGwpeOHChbJYLLJYLJKkgIAA9enTRyNGjFDTpk0vq8nPz%2B%2BKr1WnTh1JF5q4c%2BfO2W8uKcNDrwG4As0fAEN%2B6yHPV1J2jVuNGjVksVgq/Kvfzp07pyeeeEKHDx9W8%2BbNNWbMGHXt2lX169dXjRo1JP36SJervXZ5HnvsMcXFxWn9%2BvX65ptv9O9//1u5ubn6v//7P6WkpOi1117T73//%2Bwq/T9tFz9Avb6kZAFyB5g/AdVf2%2BJfi4mLl5%2Bfbb3C4mo0bN%2Brw4cPy8PDQokWLdOutt162z7lz5wzV5ufnp4EDB2rgwIEqLS3Vv//9b82fP1/bt2/X888/ry5duqh%2B/fr2BPHSx9dcrGxbrVq1SPkA3DD4URTAdRccHGz/808//VTh4/bv3y/pwrVy5TV%2BBw4c0IkTJwzXV8bLy0vdunXTihUr1KhRI505c8a%2BzF12rd/F1y9eqmzbb10XCADXG80fgOsuICBAoaGhkqQPPvig3H2ysrLUv39/%2ByNhpF%2BvobvSr4mbP3%2B%2B/c%2BXPhz6t%2BzYsUPPPfeclixZUu72mjVrqmHDhpJ%2BTRbLrmPcs2dPuQ3g%2BfPn7Y%2B56datW4VrAYCqRvMHwCUef/xxSVJqaqqWLVvmcH3czz//rPHjxysjI0M5OTn28datW0uSjhw5ovXr19vHz549q5kzZ8pisdh/fdyV7rAtj5eXl1atWqU333xTX3/99WXb161bp127dqlGjRqKiIiQJLVt21bR0dGSpOeee055eXn2/UtKSvT6668rMzNTderUUVxcXIVrAYCqxjV/AFzi3nvv1WOPPaZFixbplVde0YoVK3TbbbcpPz9fu3btUmlpqdq2batJkybZjwkPD1d0dLT%2B3//7f0pMTFSHDh3k4%2BOjnTt3ytvbW0uXLtUnn3yi7du3a8WKFdq9e7eeeOIJRUZG/mYt7dq108iRI7VkyRKNHj1aQUFBuvXWW%2BXp6amDBw/al5uff/55BQQE2I97%2BeWXNWLECFksFvXs2VPBwcHy8fHRTz/9pPz8fNWqVUtvvPHGFR8vAwCuQPMHwGWeeuop3Xnnnfrb3/6mH374QVu2bJGPj4/atWun%2B%2B67T/Hx8ZfdKDFnzhwlJydrw4YN2rlzpwIDAxUbG6vHH39czZo1U%2BPGjfXjjz9q27Zt%2Bumnnyp8J/EzzzyjyMhIffjhh9q5c6e2b9%2BukpISBQQEqF%2B/fnrooYfsqWKZRo0aaeXKlVq2bJnWrVunn376SSUlJWrUqJHuvfdejRo1qtxrEwHAlTxsF6%2B1AAAAoFrjmj8AAAA3QvMHAADgRmj%2BAAAA3AjNHwAAgEGbNm3SnXfeqaSkpN/c7/z585o9e7Z69eqlyMhIjRo1StnZ2fbtVqtVEydO1J133qno6Gg9//zzhn9z0aVo/gAAAAxYvHixZs6cWaG7%2B9977z19/PHHWrRokb766is1b95cY8eOtT/rdOrUqTp79qxSU1O1atUqZWZmKjk52an10vwBAAAY4OPjo5UrV1ao%2BUtJSVFCQoJatmwpX19fJSUlKTMzUzt27NDx48e1fv16JSUlyd/fX40aNdKYMWO0atUqFRcXO61envMHAADc2rFjx5Sbm%2BswFhAQoMDAwAodP3z48Artd%2B7cOe3du1dt27a1j/n6%2BurWW2%2BVxWLR6dOn5eXlpZCQEPv20NBQ/fLLL9q3b5/DuBE0fze6Cj6g1jRatJB%2B%2Bklq1UrKynJ1NU7z8/7q87hMb2/pd7%2BTDh%2BWSkpcXY1z3dqjhatLcJ6mTaWvvpJiYqSLrheqFvz8XF2B8wQFSR9/LN1/v3TokKurca4dO1zzulXwfTHlzTc1b948h7Fx48YpMTHRqa9z8uRJ2Ww21a1b12G8bt26ys/PV7169eTr6%2BvwcPqyffPz851WB80frq969SQvrwufcUPy9Lzwb6snF4Xc2Pz8Lvy/VJ0apeqoTp0L/53q1HF1JfgNQ4YMUc%2BePR3GLv5Vjs72W79f43r87g2aPwAAYB5V8JNpYGBghZd4jahXr548PT1ltVodxq1Wqxo0aCB/f38VFBSotLRUXl5e9m2S1KBBA6fVwc/2AAAA14GPj49atWql9PR0%2B9ipU6d04MABtW/fXm3atJHNZlNGRoZ9u8VikZ%2Bfn1q0cN5lKzR/AADAPDw9nf9RhY4ePao%2BffrYn%2BU3dOhQrVixQpmZmSooKFBycrLatGmjsLAw%2Bfv7KzY2VnPmzFFeXp6OHDmi%2BfPn649//KO8vZ23WMuyLwAAMI8b8ILksLAwSVLJ/%2B6SW79%2BvaQLqV1xcbGysrJUVFQkSYqLi1Nubq6GDRumM2fOKCoqyuFmkxkzZmjatGnq1auXatSooX79%2Bl31wdGVRfMHAABggMViueK2W265Rbt377Z/7eHhofHjx2v8%2BPHl7l%2BnTh3NmjXL6TVejOYPAACYxw2Y/JkNMwgAAOBGSP4AAIB5kPwZRvMHAADMg%2BbPMGYQAADAjZD8AQAA8yD5M4wZBAAAcCMkfwAAwDxI/gyj%2BQMAAOZB82cYMwgAAOBGSP4AAIB5kPwZxgwCAAC4EZI/AABgHiR/htH8AQAA86D5M4wZBAAAcCMkfwAAwDxI/gxjBgEAANwIyR8AADAPkj/DaP4AAIB50PwZxgwCAAC4EZI/AABgHiR/hjGDAAAAboTkDwAAmAfJn2E0fwAAwDxo/gxjBgEAANwIyR8AADAPkj/DmEEAAAA3QvIHAADMg%2BTPMJo/AABgHjR/hjGDAAAAboTkDwAAmAfJn2E0fwAAwDxo/gxjBgEAANwIyR8AADAPkj/DmEEAAAA3QvIHAADMg%2BTPMJo/AABgHjR/hjGDAAAAboTkDwAAmAfJn2HMIAAAgBsh%2BQMAAOZB8mfYDT%2BDISEh2rhx41X3O3jwoEJCQpSZmXkdqnI0bNgwJScnX/fXBQDA7Xh6Ov/DzZD8XYPs7Gylp6erT58%2Bri4FAAC42KFDh/Tiiy9qx44dql27tu677z499dRT8ryksRw5cqS%2B%2B%2B47h7GSkhKNHTtW48aN07Bhw7Rt2zaH41q0aKGPPvrIqfXS/F2DL774Qjt37qT5AwDgersBk7rExESFhoZq/fr1OnHihEaPHq2GDRvq4YcfdthvyZIlDl%2BfOnVK9913n%2B655x772EsvvaSBAwdWab2VmsFFixYpJiZGHTp0UGxsrNasWSNJysjI0IgRI9SpUyd16dJFM2fOVHFxsSRp7ty5SkhI0IIFCxQVFaWOHTvqr3/9q/2chYWFmjJliqKjoxUREaH4%2BHjt2bPH8BuzWq2aNGmSoqOjFR4erieeeEJHjx6V9OsS8ebNmzVgwADdcccdiouL08GDB%2B3HL1iwQJGRkeratauWLVumhx9%2BWHPnztW7776r5ORkff755woLC1NpaakkqbS0VC%2B88IIiIiLUtWtXffrpp4bfAwAAuLFZLBZlZGRo0qRJqlOnjpo3b66EhASlpKRc9dg5c%2BbonnvuUUhIyHWo9FcVTv62bdumFStW6IMPPlCTJk20efNmJSYmKjIyUo888oiGDRumxYsX6%2BjRoxozZozeffddPf7445KkHTt2KDw8XJs2bZLFYtGoUaMUGhqq3r17a/HixdqxY4dSU1NVu3ZtzZgxQ5MnT9bq1asNvbHJkyfL29tbn3zyiby8vDRt2jQ9%2B%2ByzDl33ihUrtHDhQvn4%2BGj48OF65513NH36dK1bt05vv/22lixZorZt2%2BqVV15Renq6IiIiNGrUKP30008qLCzU7Nmz7edKTU3Vyy%2B/rClTpmjevHmaPn267r33Xnl7VzxcPXbsmHJzcx3GAlq0UGC9eobm4obSurXj52qiZk1XV%2BA8ZX9lK/FX1zxCQ11dgfO0bOn4uTq5%2BWZXV%2BA8LVo4fq4uMjJc99pVkPyV%2B/03IECBgYFXPTY9PV1BQUGqW7eufSw0NFRZWVkqKCiQr69vucf9/PPP%2BvDDD7V%2B/XqH8U8//VTvvPOOcnJy1KFDB82YMUPNmjW7hnd1ZRX%2B5/306dPy9PRUrVq15OHhoejoaH3//fdau3atbDabRo8eLUlq2rSpRo0apYULF9qbP09PT40dO1be3t7q2LGjoqOj9fXXX6t3794aPXq0EhIS7JPTp08frV69WiUlJZVqnC524sQJffXVV/r000/t/zEmTZqkHj16OPzHHTp0qBo1aiRJio6OlsVikSR98803io6OVqdOnSRJTz/9tD3lvJKIiAh169bN/h4WLlyovLy8Cv3FKZOSkqJ58%2BY5jI2bMEGJEyZU%2BBym8fe/u7oCp2ri6gKqQECAqyuoAqmprq7A%2BS5aScEN7NVXXV2Bc3Xo4LrXroLmr9zvv%2BPGKTEx8arHWq1W%2Bfn5OYyV9R75%2BflXbP4WLVqkBx98UP7%2B/vaxli1b6qabblJycrLOnz%2BvmTNn6pFHHlFqaqpqOjFlqHB31bVrV7Vt21Y9e/ZU165d1b17d/Xv31/Z2dk6ceKEwsLC7PvabDaHIps1a%2BbQyP3ud7/T/v37JUl5eXmaOXOmvv32W505c0bShSXU0tLSa27%2BsrOzJUkDBgxwGPfy8lJOTo59om%2B55Rb7tptuukmFhYWSpNzcXIcuuyzG/S0Xn8vHx0eSVFRUVKm6hwwZop49ezqMBdx/v7R8eaXOc0Nr3fpC4xcf79qfHJ0s55Ntri7Baby9LzR%2BublSSYmrq3GuJo/2c3UJztOy5YXGb8IEyQVPOahS1S35e/VVafJkKSvL1dXgCsr9/luJn4BtNlulXs9qtWrNmjX67LPPHManT5/u8PWMGTMUFRWl77//Xl27dq3Ua/yWCndXNWvW1Ntvv62MjAxt2LBB7733npYsWaKHHnpIrVq10scff3zFY8uuiytjs9nk4eEhSUpKSpKPj4/WrFmjxo0ba8uWLUpISLi2d/M/tWrVkiRt3LhR9evXv2x72bV9ZTVc6vz585c1npfesXOpK52rMgIDAy9PCqvrPxYZGdL27a6uwmkq2eebQklJNXxf6emursD5MjOr3/u6JEWpFrKyqtUPvC5VBclfud9/K8jf319Wq9VhzGq1ysPDwyHVu9iGDRvUokULNW3a9DfP7evrq7p169rvWXCWCs9gcXGxCgoK1Lp1a40dO1YffvihPDw85Ofnp%2BzsbHtqJ12IOQsKCuxf5%2BTkqOSiCOHw4cP25da0tDQNHjxYjRs3lnRh7dyooKAgeXp6avfu3Q71V3TyGjRooMOHD9u/LigoUFZ1bcIAAMA1a9eunXJycpSXl2cfs1gsuv3223XzFVLsDRs26K677nIYKygo0PTp0x16lby8POXl5V21SaysCjd/S5Ys0aOPPqojR45IkjIzM3Xy5Em1bNlS/v7%2B%2Bstf/qKCggLl5uZqwoQJDg89Likp0TvvvKOioiJt3bpVmzdvtserQUFBSktLU3FxsTZu3KjNmzdLkqEut06dOrrvvvuUnJysI0eO6Ny5c5o1a5ZGjhxZoWi2S5cu2rhxo9LS0nTu3Dm99tpr9jRRurCsm5OTo1OnTjk0tQAAoIrdYA95btu2rcLCwvTGG2%2BooKBAmZmZWrp0qYYOHSrpwn0AW7dudThm165dDpeLSRdSvh07dmjmzJmyWq06efKkXnzxRYWEhCg8PNxQjZeq8Dt%2B%2BOGHFRwcbH80ysSJEzVp0iS1b99eCxYs0L59%2B3TXXXdpwIABat68uZ555hn7sa1atVJJSYm6deum0aNHa9SoUerRo4ck6YUXXtAXX3yhzp07a%2BXKlZo1a5Y6dOiggQMH6vjx49f8xqZOnapbb71Vffv2Vbdu3bR3714tWLCgQsuzDzzwgB588EENHz5csbGx6tChg5o1a2Y/9v7771dWVpZiYmJ07Nixa64RAABU0g3W/EnSm2%2B%2BqWPHjumuu%2B7S8OHDNWDAAMXHx0uSsrKy9Msvvzjsn5ubq4YNG152nvnz58tmsyk2NlY9evRQcXGxFi1adNVLzyrLw1bZqxQrae7cudq0aZM%2B%2BOCDqnwZpysqKnK4aSUmJkZjxozRoEGDrm8hTriW8IYSHi5t2yZFRFSra/5%2B3l%2Bl/xtdVzVrSk2aSDk51e%2Bav1t7VKPHbYSGXrh7uV8/rvm7kbVuLaWkSEOGVL9r/nbscM3rxsY6/5xr1zr/nDewG%2B8x2TeA7777TpGRkUpLS1NpaalWr16t3Nxcp95pAwAArsENmPyZjWke49qpUyf7o1jK8/nnnysoKMgprxUZGamkpCRNnDjRfqHlnDlzLlufBwAAMJsqb/4SExMr9JDEq7n0YsmqlpCQYPiRMwAAwMncMKlzNtMkfwAAADR/xjGDAAAAboTkDwAAmAfJn2HMIAAAgBsh%2BQMAAOZB8mcYzR8AADAPmj/DmEEAAAA3QvIHAADMg%2BTPMGYQAADAjZD8AQAA8yD5M4zmDwAAmAfNn2HMIAAAgBsh%2BQMAAOZB8mcYMwgAAOBGSP4AAIB5kPwZRvMHAADMg%2BbPMGYQAADAjZD8AQAA8yD5M4zmDwAAmAfNn2HMIAAAgBsh%2BQMAAOZB8mcYMwgAAOBGSP4AAIB5kPwZRvMHAADMg%2BbPMGYQAADAjZD8AQAA8yD5M4wZBAAAcCMkfwAAwDxI/gyj%2BQMAAOZB82cYMwgAAOBGSP4AAIB5kPwZxgwCAAC4EZI/AABgHiR/htH8AQAA86D5M4wZBAAAcCMkfwAAwDxI/gxjBgEAANwIyR8AADAPkj/DaP4AAIB50PwZxgwCAAAYcOjQIT322GOKiopSTEyMXn/9dZ0/f/6y/ebOnas2bdooLCzM4eP48eOSpMLCQr3wwgvq3r27oqKiNH78eOXn5zu9Xpo/AABgHp6ezv8wKDExUY0aNdL69eu1dOlSrV%2B/XsuXLy933/79%2B8tisTh8NGzYUJI0e/ZspaenKyUlRWvXrpXNZtOzzz5ruL5L0fwBAABcI4vFooyMDE2aNEl16tRR8%2BbNlZCQoJSUlEqdp6SkRCtXrtSYMWPUpEkT1atXTxMnTtTXX3%2Bto0ePOrVmrvm7wf283%2BbqEpyqZk2piaScT7apqMjV1TjPrc09XF2C84SHS9u2qUnfCGn7dldX41Rz36w%2B/z8FBEhxkv7xUKpyc11djXPVq%2BfqCpzH31/qK%2BmT4SnKy3N1Nc41zFUvXAXX/B07dky5l/yPFBAQoMDAwKsem56erqCgINWtW9c%2BFhoaqqysLBUUFMjX19dh/927dysuLk579uxRkyZN9Oyzzyo6OloHDhzQ6dOnFRoaat%2B3ZcuWqlWrltLT09WoUSOD7/JXNH8AAMA8qqD5S0lJ0bx58xzGxo0bp8TExKsea7Va5efn5zBW1gjm5%2Bc7NH%2BNGzdW06ZN9dRTTykwMFApKSl6/PHH9dFHH8lqtUrSZefy8/Nz%2BnV/NH8AAMCtDRkyRD179nQYCwgIqPDxNlvFVhUGDRqkQYMG2b9OSEjQJ598oo8%2B%2Bkjdu3ev1LmMoPkDAADmUQXJX2BgYIWWeMvj7%2B9vT%2B3KWK1WeXh4yN/f/6rHBwUF6dixY/Z9rVarbr75Zvv2kydPqkGDBtdU25VwwwcAAMA1ateunXJycpR30UWdFotFt99%2Bu0MTJ0kLFizQli1bHMYyMzPVtGlTNW3aVHXr1lV6erp92549e1RUVKR27do5tWaaPwAAYB432KNe2rZtq7CwML3xxhsqKChQZmamli5dqqFDh0qS%2BvTpo61bt0q6kOq9%2BOKL2rdvnwoLC7VkyRIdOHBAf/jDH%2BTl5aXBgwfr7bffVk5OjvLz8zVr1izdc8899kfBOAvLvgAAwDxuwN/w8eabb2rq1Km666675Ovrq7i4OMXHx0uSsrKy9Msvv0iSnnrqKUkXrvWzWq26/fbbtWzZMjVu3FiSNH78eJ05c0b9%2B/dXSUmJYmJiNH36dKfXS/MHAABgQOPGjbV48eJyt%2B3evdv%2BZx8fHz333HN67rnnyt23Zs2amjZtmqZNm1YldZah%2BQMAAOZxAyZ/ZsMMAgAAuBGSPwAAYB4kf4bR/AEAAPOg%2BTOMGQQAAHAjJH8AAMA8SP4MYwYBAADcCMkfAAAwD5I/w2j%2BAACAedD8GcYMAgAAuBGSPwAAYB4kf4bR/AEAAPOg%2BTOMGQQAAHAjJH8AAMA8SP4MYwYBAADcCMkfAAAwD5I/w2j%2BAACAedD8GcYMAgAAuBGSPwAAYB4kf4YxgwAAAG6E5A8AAJgHyZ9hNH8AAMA8aP4MYwYBAADcCMkfAAAwD5I/w5hBAAAAN0LyBwAAzIPkzzCaPwAAYB40f4YxgwAAAG6E5A8AAJgHyZ9hzCAAAIAbIfkDAADmQfJnGM0fAAAwD5o/w5hBAAAAN0LyBwAAzIPkzzBmEAAAwI2Q/AEAAPMg%2BTOM5g8AAJgHzZ9hzCAAAIAbIfkDAADmQfJnGDMIAADgRkj%2BAACAeZD8GWbaGQwJCdHGjRuddr5Dhw4pLCxMWVlZ5W7fuHGjQkJCyt323//%2BVyEhISosLHRaPQAAoByens7/cDPu946vICgoSBaLRS1atKjQ/itXrlReXl4VVwUAAG50hw4d0mOPPaaoqCjFxMTo9ddf1/nz58vd9/3331dsbKzCw8PVv39/rV%2B/3r5t8uTJatu2rcLCwuwfnTp1cnq9LPteg9LSUr366qsKDw%2BXv7%2B/q8sBAMB93IBJXWJiokJDQ7V%2B/XqdOHFCo0ePVsOGDfXwww877Ld27Vq98cYbWrhwodq3b68PP/xQEydO1GeffaamTZtKkp544gklJiZWab1OmcFFixYpJiZGHTp0UGxsrNasWSNJysjI0IgRIwQhwhMAACAASURBVNSpUyd16dJFM2fOVHFxsSRp7ty5SkhI0IIFCxQVFaWOHTvqr3/9q/2chYWFmjJliqKjoxUREaH4%2BHjt2bOn0rXdfffd%2BvLLL%2B1fx8fHa9CgQfavt2zZoqioKGVnZyskJESZmZmSpP379ysuLk7h4eEaNGiQfv75Z/sxnTt31unTp9W/f3/NmzfPPv7999%2Brb9%2B%2BateunR599FGdPn260vUCAADzsFgsysjI0KRJk1SnTh01b95cCQkJSklJuWzfc%2BfO6cknn1THjh1Vo0YNDRo0SDfffLN%2B%2BOGH61qz4eRv27ZtWrFihT744AM1adJEmzdvVmJioiIjI/XII49o2LBhWrx4sY4ePaoxY8bo3Xff1eOPPy5J2rFjh8LDw7Vp0yZZLBaNGjVKoaGh6t27txYvXqwdO3YoNTVVtWvX1owZMzR58mStXr26UvVFRUVp%2B/bt6tmzpwoLC3XgwAF5eXnp7Nmzuummm7R161Z16dJFHh4eDsdNnjxZQUFBWrJkiXJycjRhwgT7tjVr1qhXr15as2aNWrZsqf/%2B97%2BSpNTUVL3//vs6efKkBg8erJUrV17W9f%2BWY8eOKTc312GstDRAAQGBlXrPNzJvb8fP1UZ4uKsrcJ7WrR0/VyMBAa6uwHnq13f8XJ3UqePqCpzHz8/xc3Xh0queqiD5K%2B/7b0BAgAIDr/79Nz09XUFBQapbt659LDQ0VFlZWSooKJCvr699vH///g7Hnjp1SmfOnFGjRo3sY//5z3%2B0YcMG/fzzz2rZsqWmT5%2Budu3aXetbK5fhb8GnT5%2BWp6enatWqJQ8PD0VHR%2Bv777/X2rVrZbPZNHr0aElS06ZNNWrUKC1cuNDe/Hl6emrs2LHy9vZWx44dFR0dra%2B//lq9e/fW6NGjlZCQYJ%2B0Pn36aPXq1SopKZF3JTqHLl262BvGHTt2qFWrVvL29taOHTvUpUsXbd26Vb///e8djsnNzdX27dv14osvqnbt2mrZsqUGDhyov/zlL7/5WiNHjpSfn5/8/Px0xx13XPHmkStJSUlxSBIlaezYcRo/vmrjX1eoTt%2BEJUnbtrm6Auf7%2B99dXYHTxbm6gCoQG%2BvqClAR3bq5ugLn%2Br//c%2BGLV0HzV97333HjxlVo%2BdVqtcrvku6%2BrBHMz893aP4uZrPZNGXKFHXo0EGdO3eWdKFX8vT01IQJE3TzzTdr3rx5GjlypNauXav6TvxJz3Dz17VrV7Vt21Y9e/ZU165d1b17d/Xv31/Z2dk6ceKEwsLC7PvabDbVrFnT/nWzZs0cGrnf/e532r9/vyQpLy9PM2fO1LfffqszZ85IunCtXWlpaaWav6ioKM2YMUMlJSX67rvvFBERIQ8PD33//ffq2LGjduzYoZdeesnhmKNHj0qSbrnlFvtY8%2BbNr/paF%2B9fq1YtFRUVVbhOSRoyZIh69uzpMFZaGqCcnEqd5obm7X2h8cvNlUpKXF2N8zTpG%2BHqEpyndesLjV98vJSR4epqnOofT1efJr1%2B/QuN39q1Un6%2Bq6txruqW/HXrJm3aJJ065epqcCXlff8NqERKYbPZKvV6xcXFmjx5svbu3asVK1bYx8eOHeuw35/%2B9CelpqZq/fr1DpesGWW4%2BatZs6befvttZWRkaMOGDXrvvfe0ZMkSPfTQQ2rVqpU%2B/vjjKx5bWlrq8LXNZrMvvyYlJcnHx0dr1qxR48aNtWXLFiUkJFS6vqCgIDVs2FA//vijtm7dqkcffVSS9O677%2BrHH3%2BUv7%2B/mjVrpoMHD9qPKWvaLq7vSnftXOzSpePKCgwMvCxi/vlnqZI9pCmUlFSz97V9u6srcL6MjGr3vi5Z1akW8vOr3/v636Xh1cqpUy5eKq1OqiD5K%2B/7b0X5%2B/vLarU6jFmtVnl4eJR7U%2Bi5c%2Bc0ZswYnT17Vu%2B9995vJnpeXl5q0qSJjh07dk21XYnhGSwuLlZBQYFat26tsWPH6sMPP5SHh4f8/PyUnZ1tT%2B2kC/FnQUGB/eucnByVXBT/HD582L7unZaWpsGDB6tx48aSLqypX6uoqCh99913slgsuuOOO9S%2BfXtZLBZ999136tq162X7l/0FyLkociu7EQQAAKBMu3btlJOT4/D4N4vFottvv10333yzw742m01JSUny9vbWsmXLHBo/m82mV155RRkXrbgUFRXpwIED9juBncVw87dkyRI9%2BuijOnLkiKQLTdLJkyfVsmVL%2Bfv76y9/%2BYsKCgqUm5urCRMmKDk52X5sSUmJ3nnnHRUVFWnr1q3avHmzPXYNCgpSWlqaiouLtXHjRm3evFnSr0uyldGlSxf985//VPPmzVW7dm35%2BvqqSZMm%2Bte//lVu83fLLbeoZcuWWrJkic6ePas9e/bY72CWLizpShfuCL64mQUAAFXsBnvIc9lz%2Bd544w0VFBQoMzNTS5cu1dChQyVduGdh69atkqSPP/5Ye/fu1V//%2Blf5%2BPg4nMfDw0MHDx7Uiy%2B%2BqKNHj%2BrMmTNKTk5WjRo11Lt3b0M1Xspw8/fwww8rODhYAwYM0B133KGJEydq0qRJat%2B%2BvRYsWKB9%2B/bprrvu0oABA9S8eXM988wz9mNbtWqlkpISdevWTaNHj9aoUaPUo0cPSdILL7ygL774Qp07d9bKlSs1a9YsdejQQQMHDtTx48crVWNUVJSysrLUsWNH%2B1hERIQyMzPLbf4k6c0339S%2BffvUtWtXPfvssxo1apR9W8OGDRUbG6sJEyZozpw5laoFAAAYcIM1f9KFnuHYsWO66667NHz4cA0YMEDx8fGSpKysLP3yyy%2BSpFWrVunQoUPq3Lmzw4Ocp0yZIkn685//rObNm2vgwIG68847tWvXLi1fvly1a9c2XOPFPGyVvUrRSebOnatNmzbpgw8%2BcMXLm8ZFjxesFmrWlJo0kXJyqtc1f7c2N3a95w0lPPzC3csREdXumr%2B5b7rkn7sqERAgxcVJ//hH9bvmr149V1fgPP7%2BUt%2B%2B0iefVL9r/oYNc9ELb9ni/HNeIQiqrqrb09YAAEB1dgP%2Bhg%2BzMX3z16lTJxUWFl5x%2B%2Beff66goKDrWBEAAKgyNH%2BGuaz5S0xMdMrvriu7iBIAAABXZ/rkDwAAuBGSP8OYQQAAADdC8gcAAMyD5M8wmj8AAGAeNH%2BGMYMAAABuhOQPAACYB8mfYcwgAACAGyH5AwAA5kHyZxjNHwAAMA%2BaP8OYQQAAADdC8gcAAMyD5M8wZhAAAMCNkPwBAADzIPkzjOYPAACYB82fYcwgAACAGyH5AwAA5kHyZxgzCAAA4EZI/gAAgHmQ/BlG8wcAAMyD5s8wZhAAAMCNkPwBAADzIPkzjBkEAABwIyR/AADAPEj%2BDKP5AwAA5kHzZxgzCAAA4EZI/gAAgHmQ/BnGDAIAALgRkj8AAGAeJH%2BG0fwBAADzoPkzjBkEAABwIyR/AADAPEj%2BDGMGAQAA3AjJHwAAMA%2BSP8No/gAAgHnQ/BnGDAIAALgRkj8AAGAeJH%2BGMYMAAABuhOQPAACYB8mfYTR/AADAPGj%2BDGMGAQAADDh06JAee%2BwxRUVFKSYmRq%2B//rrOnz9f7r4rVqxQbGysIiIiNHToUO3cudO%2BrbCwUC%2B88IK6d%2B%2BuqKgojR8/Xvn5%2BU6vl%2BYPAACYh6en8z8MSkxMVKNGjbR%2B/XotXbpU69ev1/Llyy/b78svv9TcuXP12muv6d///rdiYmL0%2BOOP65dffpEkzZ49W%2Bnp6UpJSdHatWtls9n07LPPGq7vUjR/AAAA18hisSgjI0OTJk1SnTp11Lx5cyUkJCglJeWyfVNSUjRw4EB16NBBtWrV0iOPPCJJ%2Buqrr1RSUqKVK1dqzJgxatKkierVq6eJEyfq66%2B/1tGjR51aM9f83eBu7dHC1SU4V2iolJqqJo/2k9LTXV2N08x90%2BbqEpwmIECKk/SPp7cpN9fV1ThX4ngPV5fgPOHhUtw2xb0WIW3f7upqnKtWLVdX4Dx33CH13aK%2BM7tKP/zg6mqca9hZ17xuFVzzd%2BzYMeVe8g9eQECAAgMDr3psenq6goKCVLduXftYaGiosrKyVFBQIF9fX4d977vvPvvXnp6eatOmjSwWi9q0aaPTp08rNDTUvr1ly5aqVauW0tPT1ahRIyNv0QHNHwAAMA2bnP9DXEpKiubNm%2BcwNm7cOCUmJl71WKvVKj8/P4exskYwPz/fofmzWq0OTWLZvvn5%2BbJarZJ02bn8/Pycft0fzR8AAHBrQ4YMUc%2BePR3GAgICKny8zVbx1Z%2Br7VuZc10rmj8AAGAaV7iJ1pDAwMAKLfGWx9/f357albFarfLw8JC/v7/DeP369cvdt1WrVvZ9rVarbr75Zvv2kydPqkGDBtdU25VwwwcAADCN8%2Bed/2FEu3btlJOTo7y8PPuYxWLR7bff7tDEle2bftH17qWlpfrxxx/VoUMHNW3aVHXr1nXYvmfPHhUVFaldu3bGirwEzR8AAMA1atu2rcLCwvTGG2%2BooKBAmZmZWrp0qYYOHSpJ6tOnj7Zu3SpJGjp0qD788EP98MMPOnv2rN566y3VrFlTPXr0kJeXlwYPHqy3335bOTk5ys/P16xZs3TPPfeoYcOGTq2ZZV8AAGAaVbHsa9Sbb76pqVOn6q677pKvr6/i4uIUHx8vScrKyrI/x6979%2B568sknNXHiRJ04cUJhYWFatGiRav3vDvfx48frzJkz6t%2B/v0pKShQTE6Pp06c7vV6aPwAAAAMaN26sxYsXl7tt9%2B7dDl/Hx8fbG8NL1axZU9OmTdO0adOcXuPFaP4AAIBp3IjJn9nQ/AEAANOg%2BTOOGz4AAADcCMkfAAAwDZI/40j%2BAAAA3AjJHwAAMA2SP%2BNo/gAAgGnQ/BnHsi8AAIAbIfkDAACmQfJnHMkfAACAGyH5AwAApkHyZxzNHwAAMA2aP%2BNY9gUAAHAjJH8AAMA0SP6MI/kDAABwIyR/AADANEj%2BjKP5AwAApkHzZxzLvgAAAG6E5A8AAJgGyZ9xJH8AAABuhOQPAACYBsmfcTR/AADANGj%2BjGPZFwAAwI2Q/AEAANMg%2BTOO5A8AAMCNkPwBAADTIPkzjuYPAACYBs2fcSz7AgAAuBGSPwAAYBokf8aR/AEAALgRkj8AAGAaJH/G0fwBAADToPkzjmVfAAAAN0LyBwAATIPkzziSPwAAADdC8gcAAEyD5M84mj8AAGAaNH/GsewLAADgRkj%2BAACAaZD8GUfzBwAATIPmzziWfQEAANyIKZq/kJAQbdy48ar7HTx4UCEhIcrMzLwOVTkaNmyYkpOTr/vrAgDgTs6fd/6Hu3FJ82e1WvXPf/7TFS/tNNnZ2fr8889dXQYAALiBWa1WTZw4UXfeeaeio6P1/PPP69y5c1fc/4svvtADDzyg8PBwxcbG6oMPPrBvmzt3rtq0aaOwsDCHj%2BPHj1eqJpc0f//5z39M3/x98cUXWrt2ravLAADArZgt%2BZs6darOnj2r1NRUrVq1SpmZmVdcKUxLS9OkSZM0fvx4fffdd3ruuec0Y8YMbd261b5P//79ZbFYHD4aNmxYqZquufkrW2Jdu3at%2Bvbtq/bt2%2Buhhx5Sbm6uJGnLli0aMmSIwsPD1a1bN82fP1%2BS9Nlnn%2BnJJ59UWlqawsLClJ2drcLCQk2ZMkXR0dGKiIhQfHy89uzZc62l2VmtVk2aNEnR0dEKDw/XE088oaNHjzrUv3nzZg0YMEB33HGH4uLidPDgQfvxCxYsUGRkpLp27aply5bp4Ycf1ty5c/Xuu%2B8qOTlZn3/%2BucLCwlRaWipJKi0t1QsvvKCIiAh17dpVn376qeH3AAAAfmWm5u/48eNav369kpKS5O/vr0aNGmnMmDFatWqViouLL9vfarVq9OjR6t27t7y9vXX33XcrODjYoflzBsN3%2B/7tb3/TkiVLVKtWLY0bN07Tp0/X1KlTNWbMGE2bNk3333%2B/9u7dq0ceeUTNmjWzf71p0yZ7lDlv3jzt2LFDqampql27tmbMmKHJkydr9erVhmqbPHmyvL299cknn8jLy0vTpk3Ts88%2BqyVLltj3WbFihRYuXCgfHx8NHz5c77zzjqZPn65169bp7bff1pIlS9S2bVu98sorSk9PV0REhEaNGqWffvpJhYWFmj17tv1cqampevnllzVlyhTNmzdP06dP17333itv74pN87Fjx%2BzNc5mA3/1OgfXrG5qHG0rLlo6fq4mAAFdX4Dxlf92q0187u/BwV1fgPK1bO36uTnx8XF2B8wQHO36uLn74wdUVOFW5338DAhQYGGjovLt27ZKXl5dCQkLsY6Ghofrll1%2B0b98%2Bh3FJ6t69u7p3727/uqSkRLm5uWrUqJF9bPfu3YqLi9OePXvUpEkTPfvss4qOjq5UXYabv/j4eHtRCQkJmjhxoj766CO1atVKAwYMkHThho24uDitWbNG999//2XnGD16tBISEuTr6ytJ6tOnj1avXq2SkpIKN06XOnHihL766it9%2Bumnqlu3riRp0qRJ6tGjh8N/4KFDh9rrj46OlsVikSR98803io6OVqdOnSRJTz/9tNasWfObrxkREaFu3brZ38PChQuVl5dX4b88KSkpmjdvnsPYuDFjlDhhQoWON5W//tXVFThVnKsLqAKxsa6uoArEbXN1Bc7397%2B7ugJUxPLlrq7AuW66yWUvXRVJXbnff8eNU2JioqHzWq1W%2Bfr6ysPDwz5W1pPk5%2Bdf9fjk5GTVrl1b9913nySpcePGatq0qZ566ikFBgYqJSVFjz/%2BuD766CPddtttFa7LcPPXokUL%2B5%2BDgoJUVFSk/fv3y2KxKCwszL7NZrM57HuxvLw8zZw5U99%2B%2B63OnDkj6cISamlp6TU3f9nZ2ZJkb0DLeHl5KScnR/7%2B/pKkW265xb7tpptuUmFhoSQpNzdXzZo1s2%2BrU6eOmjdv/puvefG5fP73k2tRUVGFax4yZIh69uzpMBbw2GPSunUVPscNr2XLC43fhAmSC%2B7Krir/eCjV1SU4Tf36Fxq/tWulCvzbZCpxr0W4ugTnad36QuMXHy9lZLi6Gueqbsnf8uXSiBGSEy5nQtUo9/tvBZd01qxZo6effrrcbUlJSbLZbJWux2azKTk5WampqVqxYoW9pxg0aJAGDRpk3y8hIUGffPKJPvroI02cOLHC5zfc/J2/qAUve4M2m01333233n777QqdIykpST4%2BPlqzZo0aN26sLVu2KCEhwVBdtWrVkiRt3LhR9ctZvyq7tu/ibvxi58%2Bfv6zx9PT87Uskr3SuigoMDLw8JTx8%2BMJHdZOZKaWnu7oKp7lktaBayM%2Bvhu9r%2B3ZXV%2BB8GRnV733979/vamXPnmq3VOoqVZH8lfv9t4L69%2B%2Bv/v37l7tt8%2BbNKigoUGlpqby8vCRdSAMlqUGDBuUec/78eT377LNKS0vT%2B%2B%2B/r6ZNm/7m6wcFBenYsWOVqtnw3b4HDhyw//nQoUOqVauW2rZtqz179jh0u7m5uVdMwdLS0jR48GA1btxYkpTuhKYgKChInp6e2r17t32suLjYfsPH1TRo0ECHL2q6CgoKlJWVZbguAABw7cx0w0ebNm1ks9mUcVE6b7FY5Ofnd8XV0Jdfflk//fRTuY3fggULtGXLFoexzMzMqzaIlzLc/L3//vs6fvy4rFarli9frrvvvlv9%2BvWT1WrVggULdO7cOWVnZ2vkyJFa/r9rHnx8fJSbmyur1aqioiIFBQUpLS1NxcXF2rhxozZv3ixJFW7UylOnTh3dd999Sk5O1pEjR3Tu3DnNmjVLI0eOrFAE26VLF23cuFFpaWk6d%2B6cXnvtNXuaWPYecnJydOrUKZWUlFxznQAAoHry9/dXbGys5syZo7y8PB05ckTz58/XH//4R/vq4ogRI%2BxPB/n%2B%2B%2B/10UcfadGiRapXr95l57NarXrxxRe1b98%2BFRYWasmSJTpw4ID%2B8Ic/VKouw83fAw88oBEjRthvdJg2bZrq16%2BvBQsWaMOGDYqMjNRDDz2kmJgYjRw5UpLUu3dv2Ww29ejRQzt37tQLL7ygL774Qp07d9bKlSs1a9YsdejQQQMHDqz0gwsvNnXqVN16663q27evunXrpr1792rBggUVWp594IEH9OCDD2r48OGKjY1Vhw4d1KxZM/ux999/v7KyshQTE1PpuBUAAFwbMyV/kjRjxgzVqVNHvXr10gMPPKD27dsrKSnJvj07O1snT56UJK1atUqnT59WTEyMw0Ocy/qnp556St27d1dCQoIiIyOVmpqqZcuW2VdOK8rDdi1XIurCNXO9evXSp59%2BqpbV7LEdZYqKilSzZk371zExMRozZozDxZZV7gqxsGmFhkqpqVK/ftXqmr%2B5T1afSwICAqS4OOkf/6h%2B1/wljjd2Xe4NJTxc2rZNiojgmr8b2R13SFu2SF27Vr9r/s6edcnLVsXvV6iWTzf4Dab43b6u8N133ykyMlJpaWkqLS3V6tWrlZubq65du7q6NAAA3JbZkr8bkeG7fa%2BnTp062R/FUp7PP/9cQUFBTnmtyMhIJSUlaeLEicrLy1PTpk01Z84ch8e5AACA68sdmzVnu%2Bbm75ZbbnG4k/Z6cPavN7mahIQEw4%2BcAQAAuJGYKvkDAADujeTPOK75AwAAcCMkfwAAwDRI/oyj%2BQMAAKZB82ccy74AAABuhOQPAACYBsmfcSR/AAAAboTkDwAAmAbJn3E0fwAAwDRo/oxj2RcAAMCNkPwBAADTIPkzjuQPAADAjZD8AQAA0yD5M47mDwAAmAbNn3Es%2BwIAALgRkj8AAGAaJH/GkfwBAAC4EZI/AABgGiR/xtH8AQAA06D5M45lXwAAADdC8gcAAEyD5M84kj8AAAA3QvIHAABMg%2BTPOJo/AABgGjR/xrHsCwAA4EZI/gAAgGmQ/BlH8wcAAEyD5s84ln0BAADcCMkfAAAwDZI/40j%2BAAAA3AjJHwAAMA2SP%2BNo/gAAgGnQ/BnHsi8AAIAbIfkDAACmQfJnHMkfAACAGyH5AwAApkHyZxzNHwAAMA2aP%2BNY9gUAAHAjNH8AAMA0zp93/kdVslqtmjhxou68805FR0fr%2Beef17lz58rdd/Xq1WrdurXCwsIcPtLS0v733s9r9uzZ6tWrlyIjIzVq1ChlZ2dXuiaaPwAAgCoydepUnT17VqmpqVq1apUyMzOVnJx8xf0jIyNlsVgcPtq3by9Jeu%2B99/Txxx9r0aJF%2Buqrr9S8eXONHTtWNputUjXR/AEAANMwU/J3/PhxrV%2B/XklJSfL391ejRo00ZswYrVq1SsXFxZU%2BX0pKihISEtSyZUv5%2BvoqKSlJmZmZ2rFjR6XOQ/MHAABMw0zN365du%2BTl5aWQkBD7WGhoqH755Rft27ev3GNycnL08MMPKzIyUr169dKaNWskSefOndPevXvVtm1b%2B76%2Bvr669dZbZbFYKlUXd/ve6Pz8XF2Bc91886%2Bfq9F7q1fP1RU4T506v36%2Bhh9Mb2y1arm6Aufx8fn1c3V6X5J0heuhTKmw8NfP1el9VTPHjh1Tbm6uw1hAQIACAwMNnddqtcrX11ceHh72sbp160qS8vPzL9vf399fzZs315NPPqnbb79d69at09NPP63AwEDddtttstls9uMvPl955/otNH8AAMA0qiKpS0lJ0bx58xzGxo0bp8TExKseu2bNGj399NPlbktKSqrU9Xg9evRQjx497F/37dtX69at0%2BrVqzVp0iRJqvT1feWh%2BQMAAG5tyJAh6tmzp8NYQEBAhY7t37%2B/%2BvfvX%2B62zZs3q6CgQKWlpfLy8pJ0IQ2UpAYNGlTo/EFBQdq5c6fq1asnT09P%2B/FlrFZrhc9VhuYPAACYRlUkf4GBgYaXeMvTpk0b2Ww2ZWRkKDQ0VJJksVjk5%2BenFi1aXLb/%2B%2B%2B/r7p16%2Bq%2B%2B%2B6zj2VmZqpp06by8fFRq1atlJ6ers6dO0uSTp06pQMHDtjvBq4obvgAAACmYaYbPvz9/RUbG6s5c%2BYoLy9PR44c0fz58/XHP/5R3t4X8rcRI0bo008/lSQVFRXppZdeksViUXFxsVJTU7Vx40bFxcVJkoYOHaoVK1YoMzNTBQUFSk5OVps2bRQWFlapukj%2BAAAAqsiMGTM0bdo09erVSzVq1FC/fv2UlJRk356dna2TJ09KkoYPH64zZ85owoQJys3N1S233KL58%2BerXbt2kqS4uDjl5uZq2LBhOnPmjKKioi67VrEiaP4AAIBpmO13%2B9apU0ezZs264vYvv/zS/mcPDw%2BNGTNGY8aMKXdfDw8PjR8/XuPHjzdUE8u%2BAAAAboTkDwAAmIbZkr8bEc0fAAAwDZo/41j2BQAAcCMkfwAAwDRI/owj%2BQMAAHAjJH8AAMA0SP6Mo/kDAACmQfNnHMu%2BAAAAboTkDwAAmAbJn3EkfwAAAG6E5A8AAJgGyZ9xNH8AAMA0aP6MY9kXAADAjZD8AQAA0yD5M47kDwAAwI2Q/AEAANMg%2BTOO5g8AAJgGzZ9xLPsCAAC4EZI/AABgGiR/xpH8AQAAuBGSPwAAYBokf8bR/AEAANOg%2BTOOZV8AAAA3QvIHAABMg%2BTPOJo/AABgGjR/xrHsCwAA4EZI/gAAgGmQ/BlH8gcAAOBGSP4AAIBpkPwZR/MHAABMg%2BbPOJZ9AQAA3AjJHwAAMA2SP%2BNI/gAAANwIyR8AADANkj/jaP4AAIBp0PwZx7IvAACAGyH5AwAApkHyZxzJHwAAgBsh%2BQMAAKZB8mcczR8AADANmj/jTLvsGxISoo0bNzrtfIcOHVJYWJiysrLK3b5x40aFhISUu%2B2///2vQkJCVFhY6LR6AAAAqsINk/xZrVatW7dOgwYNcsnrBwUFyWKxVHj/lStXqmfPnvL396/CqgAAwMXMlvxZrVZNnz5d3377rTw9PXX33Xdr6tSpqlWr1mX7TpkyRWvWrHEYKy0tVf/%2B/fXKK69o8uTJ%2Buijj%2BTl5WXf7uPjo61buhFLlgAAHoxJREFUt1aqphsm%2BfvPf/6jf/7zn64uo0JKS0v16quvKj8/39WlAACAG9jUqVN19uxZpaamatWqVcrMzFRycnK5%2B86cOVMWi8X%2BsX37dt12223q06ePfZ8nnnjCYZ/KNn6Sk5u/gwcPKiQkRGvXrlXfvn3Vvn17PfTQQ8rNzZUkbdmyRUOGDFF4eLi6deum%2BfPnS5I%2B%2B%2BwzPfnkk0pLS1NYWJiys7NVWFioKVOmKDo6WhEREYqPj9eePXsqXdPdd9%2BtL7/80v51fHy8Q7q4ZcsWRUVFKTs7WyEhIcrMzJQk7d%2B/X3FxcQoPD9egQf%2B/vTsPivK%2BwwD%2BrKjgBQEVjwXFoShGFCIq4AWiCahRDLVAMp5EqxEVMY3HNBpik9G2XlHiUZUMiYlSqBFGraYx8YwHGLMCXlVRoRAOFVQEdtnd/oFsWAEF2Zf3fdnnM8Mo77vHQzZf9uvv2PcPuHPnjuE%2BQ4YMwaNHjxAUFISYmBjD8QsXLmD8%2BPFwc3PD7Nmz8ejRowbnJSIiorrpdKb/EkphYSG%2B//57REVFwc7ODl26dMG8efPwr3/9CxqN5oX3j4uLQ/fu3eHr62vSXIJM%2B%2B7evRuxsbGwsrLC/PnzER0djRUrVmDevHn46KOPMGHCBNy4cQOzZs1Cjx49DN%2BfPHkS//znPwEAMTExUKlUOHDgANq2bYtVq1Zh2bJl2LdvX4OyeHl54eLFi/D390d5eTnu3r0LCwsLlJaWok2bNkhNTYW3tzcUCoXR/ZYtWwalUonY2Fjk5uYiMjLScC4pKQmjR49GUlISnJ2dce7cOQDAgQMHsGfPHhQXFyMkJASJiYmYOXNmvbPm5%2BcbGuUqnbt0gb2tbYN%2BZknr1cv4z2aiOc3%2BW1sb/9mseHiIncB0evc2/rM5aU7rp11djf9sLi5eFO2phWjWan3/7dwZ9vb2jXrcK1euwMLCwmjPQL9%2B/fDkyRPcunWrzr0EAPDw4UNs27YN33zzjdHxs2fP4ujRo7hz5w6cnZ0RHR0NNze3BuUSpPl755130KVLFwDAjBkzsGjRIiQnJ8PFxQWTJk0CULlhIywsDElJSZgwYUKNx5gzZw5mzJiB9u3bAwACAwOxb98%2BVFRUoGXL%2Bsf29vY2NIwqlQouLi5o2bIlVCoVvL29kZqairFjxxrdp6CgABcvXsTHH3%2BMtm3bwtnZGcHBwfjrX//63OcKDw%2BHtbU1rK2t4eHhUefmkbrEx8cbjSQCwPx587CgWuPZbKxZI3YCkxovdgABjBghdgIBjD8jdgLTi4sTOwHVxzNv4LL3zICJ3NX6/jt/PhYsWNCoxy0qKkL79u2NBphsbGwA4IVLx3bv3o3BgwfDxcXFcMzR0REtWrRAZGQk2rVrh5iYGISHh%2BPIkSOwbcBAkSDNX69qozpKpRJqtRq3b99GWloa%2Bvfvbzin1%2BuNblvd/fv38cknn%2BD8%2BfMoKSkBULnWTqvVNqj58/LywqpVq1BRUYGUlBQMHDgQCoUCFy5cgKenJ1QqFf7yl78Y3ScvLw8A4ODgYDjm5OT0wueqfnsrKyuo1ep65wSA0NBQ%2BPv7Gx3rHBUF/PRTgx5H0nr1qmz8li0DGtgcS9nBafFiRzAZa%2BvKxu/kSeDhQ7HTmNb4T3zEjmA6vXtXNn7TpwMvsSRG0prbyN833wDvvANcvSp2mmZBiJG/Wt9/O3eu132TkpKwZMmSWs9FRUVBr9c3OI9Wq8XXX3%2BNdevWGR2PiIgw%2Bv6DDz7AgQMH8P333zdow6wgzZ%2Bu2itT9UPr9Xr4%2Bvpi27Zt9XqMqKgoWFpaIikpCV27dsWZM2cwY8aMBmdRKpXo1KkTLl%2B%2BjNTUVMyePRsAsGvXLly%2BfBl2dnbo0aMHsrOzDfepatq0Wm2tP1Ndnp06bih7e/uaQ8x5eZVfzU1mZrP6RXj/vtgJTO/hw2b4c/3yi9gJTO/69eb3c5WViZ3A9K5eFXWqlJ6v1vffegoKCkJQUFCt506fPo3Hjx9Dq9UadugWFRUBADp27FjnY6akpECtVmPQoEHPfW4LCwt069YN%2Bfn5DcosyG7fu3fvGv7%2Bv//9D1ZWVnj11Vdx/fp1ow64oKCgztGxS5cuISQkBF27dgUAZGRkvHQeLy8vpKSkIC0tDR4eHhgwYADS0tKQkpICH5%2BaIwFV/wPk5uYajlVtBCEiIiLxyGnDR9%2B%2BfaHX63G12mBHWloarK2t65z5BICjR4/C29vbaKZTr9dj9erVRo%2BlVqtx9%2B5dODo6NiiXIM3fnj17UFhYiKKiIsTFxcHX1xdvvvkmioqKsGXLFpSVlSErKwvh4eGIe7pexdLSEgUFBSgqKoJarYZSqcSlS5eg0Whw4sQJnD59GsBvU7IN4e3tjYSEBDg5OaFt27Zo3749unXrhm%2B//bbW5s/BwQHOzs6IjY1FaWkprl%2B/bvS5O1WfzXP79m08fvz4Zf4TERER0UuQU/NnZ2eHgIAAbNy4Effv38evv/6Kzz//HJMnTzY0dtOnT8ehQ4eM7nflyhWjpWRA5exidnY2Pv74Y%2BTl5aGkpARr165Fq1atMGbMmAblEqT5mzhxIqZPn44RT1eMf/TRR7C1tcWWLVtw9OhRDB48GFOmTMGoUaMQHh4OABgzZgz0ej38/PyQnp6OlStX4rvvvsOQIUOQmJiI9evXw93dHcHBwSgsLGxQHi8vL2RmZsLT09NwbODAgbh582atzR8AbNq0Cbdu3YKPjw%2BWL1%2BOd99913CuU6dOCAgIQGRkJDZu3NjQ/zxERERkJlatWoUOHTpg9OjRmDhxIgYMGICoqCjD%2BaysLBQXFxvdp6CgAJ06darxWJ9%2B%2BimcnJwQHByMoUOH4sqVK4iLi0Pbtm0blEmhf5mViHXIzs7G6NGjcejQITg7O5vqYc2bu7vYCUzL1RWIjwdCQ5vVmr%2Bv/qQSO4LJ2NkB48cDBw82vzV/U//YRuwIpuPhAZw5A/j4cM2flL32GvDzz8DAgc1vzZ/p2ocGqWPMplHONMMPAngeyVzhg4iIiIiEJ5lr%2B76sQYMGofw5Hwtw%2BPBhKJXKJkxEREREQpHbtX2lyKTNn4ODA65du2bKh3yhl7mmHREREckTm7/G47QvERERkRmR/bQvERERmQ%2BO/DUeR/6IiIiIzAhH/oiIiEg2OPLXeGz%2BiIiISDbY/DUep32JiIiIzAhH/oiIiEg2OPLXeBz5IyIiIjIjHPkjIiIi2eDIX%2BOx%2BSMiIiLZYPPXeJz2JSIiIjIjHPkjIiIi2eDIX%2BOx%2BSMiIiLZYPPXeJz2JSIiIjIjHPkjIiIi2eDIX%2BNx5I%2BIiIjIjHDkj4iIiGSDI3%2BNx%2BaPiIiIZIPNX%2BNx2peIiIjIjHDkj4iIiGSDI3%2BNx5E/IiIiIjPCkT8iIiKSDY78NR6bPyIiIpINNn%2BNx2lfIiIiIjPCkT8iIiKSDY78NR5H/oiIiIjMCEf%2BiIiISDY48td4bP6IiIhINtj8NR6nfYmIiIjMCEf%2BiIiISDY48td4HPkjIiIiMiMc%2BSMiIiLZ4Mhf47H5IyIiItlg89d4nPYlIiIiMiMc%2BSMiIiLZ4Mhf43Hkj4iIiMiMcOSPiIiIZIMjf43H5o%2BIiIhkg81f43Hal4iIiMiMsPkjIiIi2dDpTP8ltLS0NLz%2B%2BusICQl54W2//PJLBAQEYODAgXj77beRnp5uOFdeXo6VK1di5MiR8PLywsKFC/HgwYMG52HzR0RERCSQ5ORkLFiwAD179nzhbX/44Qds3rwZf/vb3/DTTz9h1KhRmDt3Lp48eQIA2LBhAzIyMhAfH48jR45Ar9dj%2BfLlDc7E5o%2BIiIhkQ24jf%2BXl5YiPj4e7u/sLbxsfH4/g4GC4u7vDysoKs2bNAgD8%2BOOPqKioQGJiIubNm4du3brhlVdewaJFi3Ds2DHk5eU1KBM3fBAREZFsCNGs5efno6CgwOhY586dYW9v3%2BjH/sMf/lDv22ZkZGDcuHGG71u0aIG%2BffsiLS0Nffv2xaNHj9CvXz/DeWdnZ1hZWSEjIwNdunSp9/Ow%2BZM6lUrsBCaVn5%2BP%2BM2bEbp5s0mKSiqmih3AhPLz87F5czxCQ0Ob1WsEAJhaKnYCkzHUUlJS83udmhHD63T4MF8nE9HrTf%2BYmzfHIyYmxujY/PnzsWDBAtM/2XMUFRXBxsbG6JiNjQ0ePHiAoqIiAIC1tbXReWtr6wav%2B2PzR02qoKAAMTEx8Pf35y9CieJrJA98neSBr5M8hIaGwt/f3%2BhY586d63XfpKQkLFmypNZzq1evRnBwcIOy6F/Q3b7ofH2w%2BSMiIiKzZm9v/9LNeVBQEIKCgkySw9bW1jDCV6WoqAguLi6ws7MzfN%2BuXTvD%2BeLiYnTs2LFBz8MNH0REREQS4ObmhoyMDMP3Wq0Wly9fhru7OxwdHWFjY2N0/vr161Cr1XBzc2vQ87D5IyIiIhJJYGAgUlNTAQBvv/029u/fj19%2B%2BQWlpaXYunUrWrduDT8/P1hYWCAkJATbtm1Dbm4uHjx4gPXr1%2BP1119Hp06dGvScnPalJtW5c2fMnz%2B/3mspqOnxNZIHvk7ywNeJAgICkJOTA61WC51Oh/79%2BwMADh8%2BDKVSiczMTMPn%2BI0cORKLFy/GokWLcO/ePfTv3x//%2BMc/YGVlBQBYuHAhSkpKEBQUhIqKCowaNQrR0dENzqTQm2LlIBERERHJAqd9iYiIiMwImz8iIiIiM8Lmj4iIiMiMsPkjIiIiMiNs/oiIiIjMCJs/IiIiIjPC5o%2BIiIjIjLD5IyIiIjIjbP6IiIiIzAibPyIiIiIzwmv7kuB0Oh3u378PtVpd41z37t1FSEQkX6wnImosNn8kqEOHDuHjjz/Gw4cPjY7r9XooFApcuXJFpGRU3ePHj5GYmIjMzMxam4rVq1eLkIqexXqSB9YTSR2bPxLUp59%2BirCwMAQGBsLS0lLsOFSHxYsXIz09HR4eHrCyshI7DtWB9SQPrCeSOoVer9eLHYKaL09PT5w7dw4tW/LfGVLWv39/HD58GEqlUuwo9BysJ3lgPZHUccMHCerNN9/E%2BfPnxY5BL9CzZ0/Y2NiIHYNegPUkD6wnkjqO/JHJrV%2B/3vB3jUaDQ4cOYeDAgXBwcIBCoTC67eLFi5s6Hj1VfS3ShQsXcPDgQYSHh8PBwaHGbVu3bt2U0aga1pM8sJ5ITtj8kclNnTq1XrdTKBT48ssvBU5DdXF1dTVqHqo2DdSGGwnEw3qSB9YTyQmbPxJUXb8AtVotCgoK0LVrVxFSEYAGTR8OGTJEwCRUX6wn6WI9kZxw1TAJysPDAyqVqsbxJ0%2BeYMKECUhJSREhFQHGb0Cff/45IiIiatympKQEGzdu5JuVRLCepIv1RHLC5o8EceTIERw5cgQajQbvv/9%2BjfM5OTmwsLAQIRlVV1RUhAcPHmD79u0YP348np0IuH37NuLj4/HnP/9ZpIQEsJ7kgvVEcsHmjwTx6quvIjs7G4cPH651cXOfPn1qfROjpnX06FGsWbMGGo0GgYGBtd7mjTfeaOJU9CzWkzywnkguuOaPBBUbG4vw8HCxY9BzaLVaeHl5ISkpqcaaMisrK3Ts2FHEdFQd60n6WE8kB2z%2BSFAxMTF1nmvRogW6dOkCHx8fXpOUqB5YT0RkCmz%2BSFDh4eHIyMhAWVkZnJyc0KJFC2RmZqJNmzZwdHREYWEhCgsL8dlnn2HUqFFixzUrz340xfPwoymkgfUkXawnkhOu%2BSNB%2Bfr6wsHBAUuWLEH79u0BVF70/O9//zs8PDzw1ltvYd%2B%2BfdiwYQPfrJrYjh07DH%2B/c%2BcO4uPjERwcDCcnJ%2Bh0Oty4cQPJycmYNWuWiCmpOtaTdLGeSFb0RAIaOnSovrS0tMbxsrIyvZ%2Bfn16v1%2Bu1Wq3ew8OjqaNRNSEhIfpbt27VOH7t2jX95MmTRUhEtWE9yQPriaSO1/YlQWk0Gly%2BfLnG8WvXrqGoqAgAkJ6eDjs7u6aORtVcv3691nViPXr0wI0bN0RIRLVhPckD64mkjtO%2BJKgZM2Zg5syZGDFiBJRKJVq2bImcnBwcP34ckydPhlqtxrRp0xAVFSV2VLPm6uqKDz/8EHPmzIFSqYRWq0Vubi5iY2Ph4uIidjx6ivUkD6wnkjpu%2BCDB/ec//8GJEydQUFAAnU6Hjh07wsvLC0FBQVAoFEhNTcWgQYPEjmnW7ty5g6VLl%2BKXX34xLFrX6/VwdnbGpk2b4OzsLHJCqsJ6kj7WE0kdmz8iMigsLEReXh7UajXs7e2hVCrFjkQkW6wnkio2fySonJwc7Ny5Ezdv3kR5eXmN83v37hUhFQGVoxM9e/YEAGRmZj73tr169WqKSPQCrCfpYj2RnHDNHwlq8eLFKC0txfDhw9GmTRux41A1EyZMwKVLlwAAY8eOhUKhMFyLtPpUlUKh4OeSSQTrSbpYTyQnHPkjQb322ms4fvw4rK2txY5Cz8jJyTHsSMzOzn7uB9RyukoaWE/SxXoiOeHIHwnKyckJarVa7BhUi%2BofRTF58mT4%2BPjAx8cHQ4cOhYODg4jJqC6sJ%2BliPZGcWERHR0eLHYKarx49emDDhg2wtrZGRUUFiouLUVRUZPiytbUVOyIB6NevH8rKynD8%2BHFs2LABCQkJuHHjBsrKytCxY0dOMUoE60keWE8kdZz2JUG5urrWOFa1FoZrX6SpoqICly9fRkpKCr799lvcunWr1g8WpqbHepIf1hNJEad9SVBHjx4VOwLVU3l5OVQqFS5cuIDU1FSkp6ejW7duCAsLEzsaPcV6kg/WE0kZR/6oSdy7dw%2B5ublwc3MTOwrVIjQ0FPn5%2Bejduzfc3d3x2muvYcCAAWjXrp3Y0agWrCdpYz2R1PHaviSovLw8vPvuuxg2bJjhX7z5%2BfmYMGECsrKyRE5HVSwsLKDRaKDRaKDT6QzHSFpYT/LAeiKp48gfCSoiIgJt27bF4sWLERAQgEuXLqGiogLr1q3DrVu3sH37drEj0lNqtRoqlQopKSmGaSonJyd4enpi6dKlYscjsJ7khPVEUsbmjwTl6emJEydOoF27dnB3d4dKpQIAlJWVwdfXF%2BfOnRM5IT1Lp9MhIyMDKSkpSEhIwO3bt7mRQCJYT/LDeiIp4oYPElSbNm1Q278viouLodVqRUhEtTl27BguXryIn3/%2BGenp6ejcuTO8vLwQEREBLy8vsePRU6wneWA9kdRx5I8E9ac//QlqtRpRUVGYNGkSTp48iatXr2Lt2rXo0aMH1q5dK3ZEAuDn5wcvLy94e3vDy8vL6ANrq8vNzUW3bt2aOB1VYT3JA%2BuJpI7NHwmquLgYS5cuxbFjxwBUfiaZQqHAuHHjsGLFCtjY2IgbkBqk%2BlQjNT3WU/PCeiKxsPmjJnH//n1kZWXB0tISDg4OaN%2B%2BvdiR6CUMGDDAcPF6Eg/rqXlgPZFYuOaPTC4zM7PW41UXoy8oKEBBQQEAoFevXk2WixrveRerJ2Gwnpov1hOJhc0fmdzYsWMNl5yqrvovOl6Oiqh%2BWE9EZGps/sjkXuYSVFz4TFQ71hMRmRqbPzI5pVLZ4PsEBgZy4TNRLVhPRGRqvLwbSQL3HRGZDuuJiJ6HzR9JAhc%2By0Pr1q3FjkD1wHqSB9YTiYXTvkRm6tSpU/W%2B7fDhwwEAKSkpQsUhkjXWE8kJmz8iMzVr1qx63Y67SIlejPVEcsLmj8hMXb16tV63u3fvnsBJiOSP9URywjV/RGSg0%2BmgVqsNX1lZWRg7dqzYsYhkifVEUsWRP5IELnwW13//%2B18sXboU169fh1arNTo3YMAAkVLRy2I9iYv1RFLHa/uSyb3MwmcS15QpU9CrVy8EBARg7ty52LFjBzIyMvDTTz9hw4YNsLGxETui2WI9yQ/riaSOzR%2BZnKura71ux4XP0jFo0CCcPXsWLVu2NLrY/MmTJ5GYmIjPPvtM5ITmi/UkP6wnkjpO%2B5LJceGz/FhZWaG0tBQdOnRA27ZtkZ%2BfD3t7e/j4%2BGDRokVixzNrrCf5YT2R1HHDBzUJLnyWNj8/P0yZMgVPnjzB4MGDsXz5chw5cgTr16%2BHra2t2PHoGawnaWM9kdRx2pcE9aKFz/Hx8SIlo%2BrUajV27NiBuXPnorCwEFFRUUhLS4NSqcTKlSsxdOhQsSMSWE9yUVc9OTg4YOXKlfDx8RE7Ipk5Nn8kKC58JjId1pM8ZGdnw8HBocZxtVqNy5cvw8PDQ4RURL9h80eC4sJn%2Bfjhhx9w7Ngx5OfnAwC6du0Kf39/jBw5UuRkVIX1JA/u7u5QqVQ1jhcXF8PPzw8XL14UIRXRb7jhgwTFhc/ysGnTJnzxxRcYPnw4evbsCb1ej5ycHERGRmLWrFmIiIgQOyKB9SR1CQkJSExMhEajQVhYWI3z%2Bfn5eOWVV0RIRmSMzR8Jqmrh8549ewwLn0NCQqBSqbjwWUK%2B%2Buor7Nq1CwMHDjQ6npqaivfee4/Nn0SwnqTtjTfeQIcOHfD%2B%2B%2B/X%2BpmLlpaWGDNmjAjJiIxx2pcExY0E8uDt7Y2TJ0%2BiVatWRsc1Gg1GjBiBs2fPipSMquNGAnk4fPgwAgMDxY5BVCc2f0SErVu3QqvVYt68eWjRovIToHQ6HXbu3AmNRsORP4ngRgL5OHjwIJKSkpCfn4/9%2B/dDrVbjq6%2B%2BQnh4OBQKhdjxyMyx%2BSPBcSOB9M2cORMqlQoWFhZwdHSETqdDbm4uNBoNevfubXTbvXv3ipSSuJFAHrZs2YL4%2BHiEhoZi27ZtuHTpEgoLCzFz5kyMHj2a6zNJdGz%2BSFDVNxJ0797dsJHg9OnT3EggITExMfW%2B7fz58wVMQrWp2kiQlpaGAQMG1Difn58PvV6PH3/8UYR09CxfX1/s3LkTLi4uRg17VlYWpk2bxteJRMcNHyQobiSQBzZ00saNBPLy6NEjuLi41Dhub2%2BP%2B/fvi5CIyBibPxKUhYUF%2BvfvX%2BO4u7s7LCwsREhEtdFqtdi1axf279%2BPgoICpKSkoKSkBOvWrcPSpUthaWkpdkSzZmNjY9hAwI0E0te7d28kJydj4sSJRsdjY2Ph7OwsUiqi3/DaviSo6dOnY/v27dDpdIZjOp0OX3zxBaZOnSpiMqpuzZo1OHjwIObMmYPy8nIAlTt9b968idWrV4ucjqoEBgbi4MGD%2BOMf/4hJkyYBqNzssWvXLnAFj3RERkYiOjoaYWFh0Gg0eO%2B99%2BDv74%2BdO3di2bJlYscj4po/EhY3EsjD0KFDkZCQAKVSabRGqaCgAG%2B99RZOnTolckICuJFATvLy8pCcnIw7d%2B5Ap9OhX79%2BGD9%2BPD/kmSSB074kKE9PT3h6eoodg15Ao9Gga9euNY63adMGJSUlIiSi2sTHxxs2Emzfvh0A0KlTJ2zZsgXTpk1j8ycR9%2B7dwyeffILjx49DrVYDAP79738jNTUVK1asgJ2dncgJydyx%2BSNBcSOBPPTr1w%2BxsbGYPXu24VhpaSnWrl0LNzc3EZNRddxIIA%2BLFi2CQqHAxo0b0b17dwCVn9EYFxeHqKgoxMXFiZyQzB2bPxIUNxLIw7JlyzBr1izExcVBrVZj4sSJyMrKgp2dHbZs2SJ2PHqKGwnk4dKlSzh16hQ6dOhgOObq6opBgwbB19dXxGREldj8kaDWrFmD8%2BfPY86cOVixYgUA440E0dHR4gYkAJVvTAkJCVCpVLh79y6srKxgbW2N3/3ud%2BjTp4/Y8eipyMhIRERE4JtvvjFsJLh27RqKi4uxdetWsePRU46OjigrKzNq/oDKfww7OjqKlIroN9zwQYLiRgJ5SE5ORnR0NH7%2B%2BWeUlpYiKCgICoUCxcXF%2BOCDD/D73/9e7Ij0FDcSSN93332H3bt3Y8qUKXBycoJOp8Pdu3exZ88eTJw40egyfL169RIxKZkrjvyRoLiRQB62bt2KzZs3AwCSkpJgaWmJ/fv348aNG1i8eDGbP4ngRgJ5WLhwIQDg/PnzNc6dOXMGCoUCer0eCoUCV65caep4RGz%2BSFjcSCAPv/76K4YNGwYAOHHiBMaNGwcLCwv06dMHOTk5IqejKtxIIA9Hjx4VOwLRc7H5I0FxI4E82NraIi8vD61bt8aZM2cQGRkJoHKK0crKSuR0VIUbCeRBqVSKHYHoudj8kaC4kUAewsLCMHnyZFhYWMDLywt9%2BvTB48ePERUVxcuJSQg3EhCRKXDDBwmKGwnk4%2BLFi3j48CF8fHzQunVrVFRUIDY2FjNnzkSrVq3EjkfgRgIiMg02fySosWPH4sMPP8SwYcOwd%2B9efP3110YbCQ4ePCh2RCLZcHV1fe55biQgovrgtC8JihsJiEyHGwmIyBTY/JGguJGAyHS4kYCITIHNHwmKGwmIiIikhWv%2BSHDcSEBERCQdbP6IiIiIzEgLsQMQERERUdNh80dERERkRtj8EREREZkRNn9EREREZoTNHxEREZEZYfNHREREZEbY/BERERGZETZ/RERERGbk/32mQOWHqygXAAAAAElFTkSuQmCC\" class=\"center-img\">\n",
              "    <img src=\"data:image/png;base64,iVBORw0KGgoAAAANSUhEUgAAAn8AAAI0CAYAAABs0U9UAAAABHNCSVQICAgIfAhkiAAAAAlwSFlzAAAPYQAAD2EBqD%2BnaQAAADh0RVh0U29mdHdhcmUAbWF0cGxvdGxpYiB2ZXJzaW9uMy4yLjIsIGh0dHA6Ly9tYXRwbG90bGliLm9yZy%2BWH4yJAAAgAElEQVR4nOzdf3zP9f7/8fs2bDGmseEMKWzYho0ZGRk665A4neTHJUwqwrByinOE5NSpFg5SUcSp03cdfJqo/KrOOo5TfsUsC7MyWTY/3tiY/fD%2B/rH2Pt5MNq/3vPfa%2B3a9XHaZ9/P14/14Pf3Yw/314%2B1mtVqtAgAAgEtwd3YBAAAAuHVo/gAAAFwIzR8AAIALofkDAABwITR/AAAALoTmDwAAwIXQ/AEAALgQmj8AAAAXQvMHAADgQmj%2BAAAAXEgNZxcAoOrZt2%2Bf1q5dqz179ujYsWO6ePGiPD095e/vr5CQEPXr10%2B9e/eWm5ubs0sFAFSQG5/tC6CU1WrVX/7yF/3973%2BXJPn4%2BCgwMFDe3t7Kzc3VgQMHlJubK0mKjo7WwoULVatWLWeWDACoIJo/ADbvv/%2B%2B5syZIy8vLz3//PMaMGCAPDw8bMvz8/P1//7f/9PLL7%2Bsy5cv64knntDTTz/txIoBABXFNX8AbD744ANJ0siRIzVo0CC7xk%2BSvLy8FBsbq8cff1yS9N577yk/P/%2BW1wkAuHk0fwBsjh49KkkKCgr61fViY2P19ttva/PmzfLy8pIkTZs2TUFBQXr55ZeVl5enl156Sb1791ZoaKi6du2qiRMn6uDBg9fd5/bt2zVx4kRFRUUpJCREXbt2VWxsrD7%2B%2BOPrbmOxWDR//nwNGjRIYWFhCg4O1t13361x48bp66%2B/LnOb3r17KygoSMnJydq8ebP69eun0NBQ7dq1S5K0aNEiBQUFadq0aSooKNCiRYsUExOj9u3b65577tELL7ygCxcuSJIOHTqkSZMmqXv37goNDdWAAQO0bt26Mt/34sWLWrZsmR5%2B%2BGF17txZ7dq1U2RkpEaPHq3NmzeXuc2IESMUFBSkDz74QHl5eZo/f76tloiICD3%2B%2BOPav3//decHAMpC8wfAxtfXV5L07bff3nC9Hj16qGHDhtcsy8vLU2xsrD744APdfvvtioiIUHFxsTZv3qzBgweX2azMnz9fsbGx2rx5s7y9vRUZGSlfX19t375dU6dO1ZQpU1RcXGy3TU5Ojh588EG9%2BeabOnLkiNq1a6euXbuqVq1a%2BuKLLzRq1CitWbPmusdw5MgRxcfHq2bNmuratautib3SH//4Ry1fvlwBAQFq3bq1srOz9d577%2BnZZ5/VwYMHNWzYMKWlpalNmzby8/PTwYMH9cc//lFffvml3X4uXryo4cOHKyEhQampqWrZsqW6desmHx8f/ec//9HEiRO1aNGi69ZaUFCg2NhYrVy5Uk2aNFFwcLCKi4uVnJysESNG2Jp2ACgXKwD84tlnn7UGBgZag4KCrC%2B//LL1xIkTFd42PDzcev/999tte%2B7cOetDDz1kDQwMtD700EN2223atMkaGBhojYiIsH799dd2y7755hvr3XffbQ0MDLSuWLHCbtncuXOtgYGB1piYGOvJkydt40VFRda//OUv1sDAQGunTp2subm5dttFR0dbAwMDrb1797a%2B8cYb1xzHwoULrYGBgdaoqCjrAw88YM3JybEt27x5s21%2B7rvvPuuiRYusly9ftlqtVmtxcbF1woQJ1sDAQOuYMWPs9rlixQprYGCgtWvXrtaMjIwyl7Vt29Z69OhRu2WPPPKINTAw0NqrVy/r8OHDradOnbIty87Otnbv3t0aGBhoffHFF685DgC4HpI/ADZTpkxRkyZNZLVa9c4776hXr1565JFHtGDBAv3nP//RxYsXb7iP3NxczZ49W/7%2B/raxunXratq0aZJKHiPzww8/2Ja98cYbkqRnn31WXbp0sdtXRESEnnnmGUnSypUr7Zb5%2B/urf//%2Bmjhxoho0aGAb9/DwUHx8vNzd3XX%2B/PnrppilN6xcT3Z2tp5//nm7dLNv377y8/OT1WpVjRo1NGHCBNvjbtzd3TVkyBBJ0nfffWe3rzp16mjAgAEaN26cWrRoYbds1KhR8vPzU3FxsbZv315mLTk5OZo3b54tmZUkPz8/DRgwQJK0d%2B/e6x4HAFyN5/wBsGncuLH%2B%2Bc9/6tVXX9X69etVXFysHTt2aMeOHXrjjTdUs2ZNRUZG6oEHHlD//v1Vo8a1/4T4%2B/urU6dO14yHhYWpTp06ysvL07fffqsWLVroxIkTSk1NlSTde%2B%2B9ZdbUt29fubm56fjx48rIyNCdd94pSbabTspy2223qUGDBsrJyVFOTk6Z63Tt2lXu7tf//6%2Bfn586dux4zXhAQIBycnIUHR19zXMOAwICJElnz561Gx88eLAGDx5c5vu4ubmpadOmv1prly5d1KhRo2vGmzdvLkk6c%2BbMdY8DAK5G8wfAjp%2Bfn1555RU988wz2rx5s7Zv366dO3fq1KlTKiws1L///W/9%2B9//1rJly7RkyRJbA1IqMDCwzP26u7srICBABw8e1LFjxyTJ7gaQ0mSwLDVq1FBhYaF%2B%2BOEHW/MnlVwL969//Uv79%2B9Xdna2zp07J%2BsvT686f/68pJKEryxlNVNXatq0aZnjpc81LG30ylpWVFR0zbLLly9r27Zt2rNnj7Kzs2WxWGy1ZWRk/GqtzZo1K3Pc09NTklRYWPhrhwIAdmj%2BAJSpYcOGGjZsmIYNGyap5AaJr7/%2BWklJSdqzZ48OHTqkJ554Qh9//LFq1qxp287Hx%2Be6%2B6xbt66kkptCJPuEbOvWrTesqbShk6S0tDRNmDDB1khW1K/VKcnumG5m%2BZWOHz%2BuCRMmXHM6uLx4kDYAR6L5A1Aud911l%2B666y4NGzZMK1eu1IsvvqiMjAx98sknGjhwoG29XzuVWppsla5Tetq0Zs2aSklJKffHxeXn5%2BvJJ5/U8ePH1aJFC40fP17dunXT7bffbmvKevfurZ9%2B%2Bum6%2B7iVH003adIkfffdd2rYsKHi4uLUs2dPNWzY0NbUjRgxQt98880tqweAa6P5A1Bho0aN0nvvvaejR4/q0KFDdstKP/6tLKXLShPA%2BvXrSyo5bXnmzBm7Gxp%2BTXJyso4fPy43NzctXbpUd9xxxzXrVJWHT6empiolJUWSlJCQoG7dul2zTlWpFYBr4G5fAJKkzZs3a%2BbMmVq6dGm51i89bVp63Vmpw4cPl7l%2BcXGxLYkrvYbtyusDr24if03p3cLNmzcvs/E7evSoTp06Ve79VaYff/xRkmzPE7xaXl7erz78GgAcjeYPgCQpJSVFiYmJWrp0qY4fP/6r6544cUJpaWmSdM0dsZmZmTpw4MA12%2Bzatcv2yRhhYWGSSm4uCQ4OliR9%2BOGHZb5XRkaGBg4caHskjPS/5PDSpUtlbvP666/bfn31w6FvNW9vb0klp7zLujHjnXfesSV/Zd0oAgCORvMHQJI0evRo%2Bfn56fz58xo1alSZH49mtVr13//%2BV4899pgKCwvVsWNHde/e3W6dunXrasaMGXbJm8Vi0V//%2BldJJY9Y%2Bc1vfmNbNm7cOEnS%2BvXr9e6779ru1pVKUrNJkyYpLS1NWVlZtvE2bdpIkn7%2B%2BWdt2bLFNn7x4kXNnTtXKSkptgbzyJEjNz0njhAYGCgPDw8VFxfrH//4h228qKhIb731lhITExUdHS3pf3f9AkBl4po/AJKk22%2B/XcuXL1dcXJx%2B%2BOEHjRw5Un5%2BfrrrrrtUu3ZtWSwWHTt2zPYsuk6dOmnx4sXX3ODRu3dvZWZmqk%2BfPgoNDVXNmjW1d%2B9e5ebmytvbWzNnzrRb/7e//a2eeOIJLV26VC%2B99JJWrVqlu%2B66S2fOnNGBAwdUXFysdu3aaerUqbZtwsLCFBUVpX//%2B9%2BKi4tThw4d5Onpqf3796tGjRpasWKFNmzYoD179mjVqlX6/vvv9eSTTyoiIqLyJ/IqjRs31kMPPaTExES99NJLWrdunerXr68DBw4oLy9Pixcv1rFjx/TFF19o48aNGjFihIYPH67f/e53t7xWAK6B5g%2BATWBgoD7%2B%2BGNt2LBBn3/%2BudLS0rRv3z4VFBTIy8tLjRo1Urdu3dSvXz/16tWrzDtm3d3dtXz5ci1ZskSbNm3S8ePHVadOHcXExCg%2BPt7uOX2lnn76ad19991677339O2332r79u3y9PRUSEiI%2BvXrp%2BHDh1/zuJMFCxYoISFBW7du1f79%2B%2BXv76%2BYmBiNGzdOzZs3V%2BPGjfXdd99p9%2B7dOnTo0C29u/dqM2bMkI%2BPj9avX6%2BDBw%2BqQYMGioyM1NixY9W2bVvl5%2Bfr66%2B/VnJysg4dOmSXfgKAo7lZ%2BVcGgANMmzZN//d//6ff//73tlO8AICqh2v%2BAAAAXAjNHwAAgAuh%2BQMAAHAhNH8AAAAGffXVV7r77rsVHx//q%2BtdvnxZ8%2BfPV58%2BfRQREaExY8YoMzPTttxisWjKlCm6%2B%2B67FRUVpT//%2Bc8O/xQgbvgAAAAwYNmyZVq9erV8fX3VuHFjzZ8//7rr/v3vf9eKFSu0bNkyNWrUSPPnz9eOHTuUlJQkNzc3xcXFqaCgQC%2B99JIKCws1efJkhYSEaMaMGQ6rl%2BQPAADAAE9PT61evbrMj5u8WmJiomJjY9WyZUt5e3srPj5e6enp2rt3r06ePKktW7YoPj5evr6%2BatSokcaPH681a9aU%2BQlBN4vn/AEAAJeWnZ1te4B9KT8/P/n7%2B5dr%2B5EjR5Zrvfz8fB0%2BfFjt2rWzjXl7e%2BuOO%2B5QSkqKzp8/Lw8PDwUFBdmWBwcH68KFCzpy5IjduBE0f1WdEx9MWynuvFM6dEhq3VqqRh9ltT%2Bl%2Blw9UbOmFBgoHTwoOfA/mlVCSP8b/6/cNJo1k/71L%2Bmee6QrrheqFurUcXYFjtO0qfTpp9LvficdO%2Bbsahzru%2B%2Bc876V8HMxceFCLV682G5s4sSJiouLc%2Bj7nD17VlarVT4%2BPnbjPj4%2BOnPmjOrXry9vb2%2B7h9KXrnvmzBmH1UHzh1urfn3Jw6PkO6okD4%2BSf1s9PKpf81et%2BPiU/Cb5%2BFS/5q86qVu35Pepbl1nV4JfMWTIEPXu3dtuzM/Pr9Le79dut7gVt2LQ/AEAAPNwd/ztCv7%2B/uU%2BxWtE/fr15e7uLovFYjdusVjUoEED%2Bfr6Kjc3V8XFxfLw8LAtk6QGDRo4rA5u%2BAAAALgFPD091bp1a6WmptrGzp07p6NHj6p9%2B/Zq27atrFar0tLSbMtTUlJUr169Mj8X/WbR/AEAAPNwd3f8VyU6ceKE7rvvPtuz/IYNG6ZVq1YpPT1dubm5SkhIUNu2bRUaGipfX1/FxMRowYIFOn36tH7%2B%2BWe9/vrreuihh1SjhuNO1nLaFwAAmEclN2s3IzQ0VJJUVFQkSdqyZYukktSusLBQGRkZKigokCQNHTpUOTk5GjFihPLy8hQZGWl3s8mcOXM0a9Ys9enTRzVr1tT9999/wwdHVxTNHwAAgAEpKSnXXda0aVN9//33ttdubm6aNGmSJk2aVOb6devW1bx58xxe45Vo/gAAgHlUweTPbJhBAAAAF0LyBwAAzIPkzzCaPwAAYB40f4YxgwAAAC6E5A8AAJgHyZ9hzCAAAIALIfkDAADmQfJnGM0fAAAwD5o/w5hBAAAAF0LyBwAAzIPkzzBmEAAAwIWQ/AEAAPMg%2BTOM5g8AAJgHzZ9hzCAAAIALIfkDAADmQfJnGDMIAADgQkj%2BAACAeZD8GUbzBwAAzIPmzzBmEAAAwIWQ/AEAAPMg%2BTOMGQQAAHAhJH8AAMA8SP4Mo/kDAADmQfNnGDMIAADgQkj%2BAACAeZD8GcYMAgAAuBCSPwAAYB4kf4bR/AEAAPOg%2BTOMGQQAAHAhJH8AAMA8SP4Mo/kDAADmQfNnGDMIAADgQkj%2BAACAeZD8GcYMAgAAuBCSPwAAYB4kf4bR/AEAAPOg%2BTOMGQQAAHAhJH8AAMA8SP4MYwYBAABcCMkfAAAwD5I/w6r8DAYFBSk5OfmG6x07dkxBQUFKT0%2B/BVXZGzFihBISEm75%2BwIA4HLc3R3/5WJI/m5CZmamUlNTdd999zm7FAAA4GQ//fSTnn/%2Bee3du1e1a9dWv3799PTTT8v9qsby0Ucf1Y4dO%2BzGioqKNGHCBE2cOFEjRozQ7t277ba78847tW7dOofWS/N3EzZt2qT9%2B/fT/AEAcKtVwaQuLi5OwcHB2rJli06dOqWxY8eqYcOGGj16tN16y5cvt3t97tw59evXT/fee69t7IUXXtCDDz5YqfVWaAaXLl2q6OhodejQQTExMUpKSpIkpaWladSoUercubO6du2quXPnqrCwUJK0aNEixcbGasmSJYqMjFSnTp30t7/9zbbPS5cuacaMGYqKilJ4eLiGDx%2BugwcPGj4wi8WiqVOnKioqSmFhYXryySd14sQJSf87Rbxt2zYNGjRIHTt21NChQ3Xs2DHb9kuWLFFERIS6deumd999V6NHj9aiRYv0zjvvKCEhQZ999plCQ0NVXFwsSSouLtbMmTMVHh6ubt266ZNPPjF8DAAAoGpLSUlRWlqapk6dqrp166pFixaKjY1VYmLiDbddsGCB7r33XgUFBd2CSv%2Bn3Mnf7t27tWrVKn344Ydq0qSJtm3bpri4OEVEROixxx7TiBEjtGzZMp04cULjx4/XO%2B%2B8o3HjxkmS9u7dq7CwMH311VdKSUnRmDFjFBwcrL59%2B2rZsmXau3ev1q9fr9q1a2vOnDmaNm2a1q5da%2BjApk2bpho1amjDhg3y8PDQrFmzNH36dLuue9WqVXrrrbfk6empkSNH6u2339bs2bO1efNmvfnmm1q%2BfLnatWunl156SampqQoPD9eYMWN06NAhXbp0SfPnz7fta/369XrxxRc1Y8YMLV68WLNnz9Zvf/tb1ahR/nA1OztbOTk5dmN%2Bd94p//r1Dc1FldKmjf33asLLy9kVOI6np/33aiUkxNkVOE7Llvbfq5Pq9Bfqzjvtv1cXBw44770rIfkr8%2Bevn5/8/f1vuG1qaqoCAgLk4%2BNjGwsODlZGRoZyc3Pl7e1d5nY//vijPvroI23ZssVu/JNPPtHbb7%2BtrKwsdejQQXPmzFHz5s1v4qiur9ydyfnz5%2BXu7i4vLy%2B5ubkpKipKu3bt0saNG2W1WjV27FhJUrNmzTRmzBi99dZbtubP3d1dEyZMUI0aNdSpUydFRUXpyy%2B/VN%2B%2BfTV27FjFxsbaJue%2B%2B%2B7T2rVrVVRUVKHG6UqnTp3SF198oU8%2B%2BcT2mzF16lT16tXL7jd32LBhatSokSQpKipKKSkpkqR//etfioqKUufOnSVJzzzzjC3lvJ7w8HD16NHDdgxvvfWWTp8%2BXa4/OKUSExO1ePFiu7GJkycrbvLkcu/DNP7xD2dX4FCtnF1AJWjWzNkVVIING5xdgeMtXOjsClAe1e2mwHbtnPfeldD8lfnzd%2BJExcXF3XBbi8WievXq2Y2V9h5nzpy5bvO3dOlS/eEPf5Cvr69trGXLlrrtttuUkJCgy5cva%2B7cuXrssce0fv161apVq6KHdV3l7q66deumdu3aqXfv3urWrZt69uypgQMHKjMzU6dOnVJoaKhtXavValdk8%2BbN7Rq53/zmN/rhhx8kSadPn9bcuXP1zTffKC8vT1LJKdTi4uKbbv4yMzMlSYMGDbIb9/DwUFZWlm2imzZtalt222236dKlS5KknJwcuy67NMb9NVfuy/OXyKSgoKBCdQ8ZMkS9e/e2G/MbMEBaubJC%2B6nS2rQpafyGD5fS0pxdjcMc/nC3s0twGE/PksYvM1P65a9EtdFqcn9nl%2BA4LVuWNH6TJklOeMpBpapuyV9CgjR1qpSR4exqcB1l/vz18yv39lartULvZ7FYlJSUpE8//dRufPbs2Xav58yZo8jISO3atUvdunWr0Hv8mnJ3V7Vq1dKbb76ptLQ0bd26Ve%2B//76WL1%2BuRx55RK1bt9bHH3983W1Lr4srZbVa5ebmJkmKj4%2BXp6enkpKS1LhxY23fvl2xsbE3dzS/8PrlH47k5GTdfvvt1ywvvbavtIarXb58%2BZrG8%2Bo7dq52vX1VhL%2B//7VJYXX9xyItTdqzx9lVOEx%2BvrMrcLxLl6rhce3f7%2BwKHC89vfodV506zq7A8TIynHuqtDqphOSvzJ%2B/5eTr6yuLxWI3ZrFY5ObmZpfqXWnr1q2688471ewGp1i8vb3l4%2BNju2fBUco9g4WFhcrNzVWbNm00YcIEffTRR3Jzc1O9evWUmZlpS%2B2kkpgzNzfX9jorK0tFRUW218ePH7edbt23b58efvhhNW7cWFLJuXOjAgIC5O7uru%2B//96u/vJOXoMGDXT8%2BHHb69zcXGVU1yYMAADctJCQEGVlZen06dO2sZSUFLVq1Up1rvMfma1bt6p79%2B52Y7m5uZo9e7Zdr3L69GmdPn36hk1iRZW7%2BVu%2BfLkef/xx/fzzz5Kk9PR0nT17Vi1btpSvr69efvll5ebmKicnR5MnT7Z76HFRUZHefvttFRQUaOfOndq2bZstXg0ICNC%2BfftUWFio5ORkbdu2TZIMdbl169ZVv379lJCQoJ9//ln5%2BfmaN2%2BeHn300XJFs127dlVycrL27dun/Px8vfLKK7Y0USo5rZuVlaVz587ZNbUAAKCSVbGHPLdr106hoaF67bXXlJubq/T0dK1YsULDhg2TVHIfwM6dO%2B22OXDggN3lYlJJyrd3717NnTtXFotFZ8%2Be1fPPP6%2BgoCCFhYUZqvFq5T7i0aNHKzAw0PZolClTpmjq1Klq3769lixZoiNHjqh79%2B4aNGiQWrRooWeffda2bevWrVVUVKQePXpo7NixGjNmjHr16iVJmjlzpjZt2qQuXbpo9erVmjdvnjp06KAHH3xQJ0%2BevOkDe%2B6553THHXeof//%2B6tGjhw4fPqwlS5aU6/TsAw88oD/84Q8aOXKkYmJi1KFDBzVv3ty27YABA5SRkaHo6GhlZ2ffdI0AAKCCqljzJ0kLFy5Udna2unfvrpEjR2rQoEEaPny4JCkjI0MXLlywWz8nJ0cNGza8Zj%2Bvv/66rFarYmJi1KtXLxUWFmrp0qU3vPSsotysFb1KsYIWLVqkr776Sh9%2B%2BGFlvo3DFRQU2N20Eh0drfHjx2vw4MG3thAHXEtYpYSFSbt3S%2BHh1eqav/0plfrX6Jby8pJatZIOH65%2B1/yF9L/D2SU4TkhIyd3L/ftzzV9V1rattGaN9Ic/VL9r/r77zjnvGxPj%2BH1u3Oj4fVZhVe8x2VXAjh07FBERoX379qm4uFhr165VTk6OQ%2B%2B0AQAAN6EKJn9mY5qPd%2BvcubPtUSxl%2BeyzzxQQEOCQ94qIiFB8fLymTJliu9BywYIF15yfBwAAMJtKb/7i4uLK9ZDEG7n6YsnKFhsba/iRMwAAwMFcMKlzNNMkfwAAADR/xjGDAAAALoTkDwAAmAfJn2HMIAAAgAsh%2BQMAAOZB8mcYzR8AADAPmj/DmEEAAAAXQvIHAADMg%2BTPMGYQAADAhZD8AQAA8yD5M4zmDwAAmAfNn2HMIAAAgAsh%2BQMAAOZB8mcYMwgAAOBCSP4AAIB5kPwZRvMHAADMg%2BbPMGYQAADAhZD8AQAA8yD5M4zmDwAAmAfNn2HMIAAAgAsh%2BQMAAOZB8mcYMwgAAOBCSP4AAIB5kPwZRvMHAADMg%2BbPMGYQAADAhZD8AQAA8yD5M4wZBAAAcCEkfwAAwDxI/gyj%2BQMAAOZB82cYMwgAAOBCSP4AAIB5kPwZxgwCAAC4EJI/AABgHiR/htH8AQAA86D5M4wZBAAAcCEkfwAAwDxI/gxjBgEAAFwIyR8AADAPkj/DaP4AAIB50PwZxgwCAAAY8NNPP%2BmJJ55QZGSkoqOj9eqrr%2Bry5cvXrLdo0SK1bdtWoaGhdl8nT56UJF26dEkzZ85Uz549FRkZqUmTJunMmTMOr5fmDwAAmIe7u%2BO/DIqLi1OjRo20ZcsWrVixQlu2bNHKlSvLXHfgwIFKSUmx%2B2rYsKEkaf78%2BUpNTVViYqI2btwoq9Wq6dOnG67vajR/AAAANyklJUVpaWmaOnWq6tatqxYtWig2NlaJiYkV2k9RUZFWr16t8ePHq0mTJqpfv76mTJmiL7/8UidOnHBozVzzV8XtT7E6uwSH8vKSWkk6/OFu5ec7uxrHCQl1c3YJjhMWJu3erVYPh0t79ji7GodK%2Bqj6/H3y8ZF6Sfryjxt09qyzq3GsWrWcXYHj1KsndZe07ak1OnfO2dU41u%2Bc9caVcM1fdna2cnJy7Mb8/Pzk7%2B9/w21TU1MVEBAgHx8f21hwcLAyMjKUm5srb29vu/W///57DR06VAcPHlSTJk00ffp0RUVF6ejRozp//ryCg4Nt67Zs2VJeXl5KTU1Vo0aNDB7l/9D8AQAA86iE5i8xMVGLFy%2B2G5s4caLi4uJuuK3FYlG9evXsxkobwTNnztg1f40bN1azZs309NNPy9/fX4mJiRo3bpzWrVsni8UiSdfsq169eg6/7o/mDwAAuLQhQ4aod%2B/edmN%2Bfn7l3t5qLd9ZhcGDB2vw4MG217GxsdqwYYPWrVunnj17VmhfRtD8AQAA86iE5M/f379cp3jL4uvra0vtSlksFrm5ucnX1/eG2wcEBCg7O9u2rsViUZ06dWzLz549qwYNGtxUbdfDDR8AAAA3KSQkRFlZWTp9%2BrRtLCUlRa1atbJr4iRpyZIl2r59u91Yenq6mjVrpmbNmsnHx0epqam2ZQcPHlRBQYFCQkIcWjPNHwAAMI8q9qiXdu3aKTQ0VK%2B99ppyc3OVnp6uFStWaNiwYZKk%2B%2B67Tzt37pRUkuo9//zzOnLkiC5duqTly5fr6NGj%2Bv3vfy8PDw89/PDDevPNN5WVlaUzZ85o3rx5uvfee22PgnEUTvsCAADzqIKf8LFw4UI999xz6t69u7y9vTV06FANHz5ckpSRkaELFy5Ikp5%2B%2BmlJJdf6WSwWtWrVSu%2B%2B%2B64aN24sSZo0aZLy8vI0cOBAFRUVKTo6WrNnz3Z4vTR/AAAABjRu3FjLli0rc9n3339v%2B7Wnp6f%2B9Kc/6U9/%2BlOZ69aqVUuzZs3SrO9IaHwAACAASURBVFmzKqXOUjR/AADAPKpg8mc2zCAAAIALIfkDAADmQfJnGM0fAAAwD5o/w5hBAAAAF0LyBwAAzIPkzzBmEAAAwIWQ/AEAAPMg%2BTOM5g8AAJgHzZ9hzCAAAIALIfkDAADmQfJnGM0fAAAwD5o/w5hBAAAAF0LyBwAAzIPkzzBmEAAAwIWQ/AEAAPMg%2BTOM5g8AAJgHzZ9hzCAAAIALIfkDAADmQfJnGDMIAADgQkj%2BAACAeZD8GUbzBwAAzIPmzzBmEAAAwIWQ/AEAAPMg%2BTOMGQQAAHAhJH8AAMA8SP4Mo/kDAADmQfNnGDMIAADgQkj%2BAACAeZD8GcYMAgAAuBCSPwAAYB4kf4bR/AEAAPOg%2BTOMGQQAAHAhJH8AAMA8SP4MYwYBAABcCMkfAAAwD5I/w2j%2BAACAedD8GcYMAgAAuBCSPwAAYB4kf4YxgwAAAC6E5A8AAJgHyZ9hpp3BoKAgJScnO2x/P/30k0JDQ5WRkVHm8uTkZAUFBZW57Ouvv1ZQUJAuXbrksHoAAEAZ3N0d/%2BViXO%2BIryMgIEApKSm68847y7X%2B6tWrdfr06UquCgAAVHU//fSTnnjiCUVGRio6OlqvvvqqLl%2B%2BXOa6H3zwgWJiYhQWFqaBAwdqy5YttmXTpk1Tu3btFBoaavvq3Lmzw%2BvltO9NKC4u1l//%2BleFhYXJ19fX2eUAAOA6qmBSFxcXp%2BDgYG3ZskWnTp3S2LFj1bBhQ40ePdpuvY0bN%2Bq1117TW2%2B9pfbt2%2Bujjz7SlClT9Omnn6pZs2aSpCeffFJxcXGVWq9DZnDp0qWKjo5Whw4dFBMTo6SkJElSWlqaRo0apc6dO6tr166aO3euCgsLJUmLFi1SbGyslixZosjISHXq1El/%2B9vfbPu8dOmSZsyYoaioKIWHh2v48OE6ePBghWu755579Pnnn9teDx8%2BXIMHD7a93r59uyIjI5WZmamgoCClp6dLkn744QcNHTpUYWFhGjx4sH788UfbNl26dNH58%2Bc1cOBALV682Da%2Ba9cu9e/fXyEhIXr88cd1/vz5CtcLAADMIyUlRWlpaZo6darq1q2rFi1aKDY2VomJidesm5%2Bfr6eeekqdOnVSzZo1NXjwYNWpU0fffvvtLa3ZcPK3e/durVq1Sh9%2B%2BKGaNGmibdu2KS4uThEREXrsscc0YsQILVu2TCdOnND48eP1zjvvaNy4cZKkvXv3KiwsTF999ZVSUlI0ZswYBQcHq2/fvlq2bJn27t2r9evXq3bt2pozZ46mTZumtWvXVqi%2ByMhI7dmzR71799alS5d09OhReXh46OLFi7rtttu0c%2BdOde3aVW5ubnbbTZs2TQEBAVq%2BfLmysrI0efJk27KkpCT16dNHSUlJatmypb7%2B%2BmtJ0vr16/XBBx/o7Nmzevjhh7V69epruv5fk52drZycHLux8%2Bf95OfnX6Fjrso8Pe2/VxthYc6uwHHatLH/Xo34%2BDi7Asfx9rb/Xp3UrOnsChynTh3779XFuXNOfPNKSP7K%2Bvnr5%2Bcnf/8b//xNTU1VQECAfK74ByY4OFgZGRnKzc2V9xV/SQcOHGi37blz55SXl6dGjRrZxv773/9q69at%2BvHHH9WyZUvNnj1bISEhN3toZTLc/J0/f17u7u7y8vKSm5uboqKitGvXLm3cuFFWq1Vjx46VJDVr1kxjxozRW2%2B9ZWv%2B3N3dNWHCBNWoUUOdOnVSVFSUvvzyS/Xt21djx45VbGysbdLuu%2B8%2BrV27VkVFRapRo/xld%2B3a1dYw7t27V61bt1aNGjW0d%2B9ede3aVTt37tTvfvc7u21ycnK0Z88ePf/886pdu7ZatmypBx98UC%2B//PKvvtejjz6qevXqqV69eurYseN1bx65nsTERLskUZImTJioSZMqN/51hl/S7epj925nV%2BB4//iHsytwuF7OLqASVMLlQKgEHTs6uwLH%2BvRTJ755JTR/Zf38nThxYrlOv1osFtWrV89urLQRPHPmjF3zdyWr1aoZM2aoQ4cO6tKli6SSXsnd3V2TJ09WnTp1tHjxYj366KPauHGjbr/99ps5tDIZbv66deumdu3aqXfv3urWrZt69uypgQMHKjMzU6dOnVJoaKhtXavVqlq1atleN2/e3K6R%2B81vfqMffvhBknT69GnNnTtX33zzjfLy8iSVXGtXXFxcoeYvMjJSc%2BbMUVFRkXbs2KHw8HC5ublp165d6tSpk/bu3asXXnjBbpsTJ05Ikpo2bWoba9GixQ3f68r1vby8VFBQUO46JWnIkCHq3bu33di5c346fLhCu6nSPD1LGr/MTKk63Rzd6uFwZ5fgOG3alDR%2Bw4dLaWnOrsahvpxXfZp0b%2B%2BSxm/nTik319nVOFZ1S/46dpS%2B/Vb65UcZqqCyfv76%2BfmVe3ur1Vqh9yssLNS0adN0%2BPBhrVq1yjY%2BYcIEu/X%2B%2BMc/av369dqyZYvdJWtGGW7%2BatWqpTfffFNpaWnaunWr3n//fS1fvlyPPPKIWrdurY8//vi62xYXF9u9tlqtttOv8fHx8vT0VFJSkho3bqzt27crNja2wvUFBASoYcOG%2Bu6777Rz5049/vjjkqR33nlH3333nXx9fdW8eXMdO3bMtk1p03Zlfde7a%2BdKV586rih/f/9rIub9%2B6X8fEO7rZIuXapmx7Vnj7MrcLy0tGp3XGfPOrsCx8vNrX7HdUVGUG3k5Tn5VGl1UgnJX1k/f8vL19dXFovFbsxiscjNza3Mm0Lz8/M1fvx4Xbx4Ue%2B///6vJnoeHh5q0qSJsrOzb6q26zE8g4WFhcrNzVWbNm00YcIEffTRR3Jzc1O9evWUmZlpS%2B2kkvgz94r/omZlZamoqMj2%2Bvjx47bz3vv27dPDDz%2Bsxo0bSyo5p36zIiMjtWPHDqWkpKhjx45q3769UlJStGPHDnXr1u2a9Uv/AGRlZdnGSm8EAQAAKBUSEqKsrCy7x7%2BlpKSoVatWqnPVxZ5Wq1Xx8fGqUaOG3n33XbvGz2q16qWXXlLaFWdcCgoKdPToUdudwI5iuPlbvny5Hn/8cf3888%2BSSpqks2fPqmXLlvL19dXLL7%2Bs3Nxc5eTkaPLkyUpISLBtW1RUpLffflsFBQXauXOntm3bZotdAwICtG/fPhUWFio5OVnbtm2T9L9TshXRtWtX/fOf/1SLFi1Uu3ZteXt7q0mTJvq///u/Mpu/pk2bqmXLllq%2BfLkuXryogwcP2u5glkpO6UoldwTnVrfzLQAAVGVV7CHPpc/le%2B2115Sbm6v09HStWLFCw4YNk1Ryz8LOnTslSR9//LEOHz6sv/3tb/K86s5HNzc3HTt2TM8//7xOnDihvLw8JSQkqGbNmurbt6%2BhGq9muPkbPXq0AgMDNWjQIHXs2FFTpkzR1KlT1b59ey1ZskRHjhxR9%2B7dNWjQILVo0ULPPvusbdvWrVurqKhIPXr00NixYzVmzBj16tVLkjRz5kxt2rRJXbp00erVqzVv3jx16NBBDz74oE6ePFmhGiMjI5WRkaFOnTrZxsLDw5Wenl5m8ydJCxcu1JEjR9StWzdNnz5dY8aMsS1r2LChYmJiNHnyZC1YsKBCtQAAAAOqWPMnlfQM2dnZ6t69u0aOHKlBgwZp%2BPDhkqSMjAxduHBBkrRmzRr99NNP6tKli92DnGfMmCFJ%2Bstf/qIWLVrowQcf1N13360DBw5o5cqVql27tuEar%2BRmrehVig6yaNEiffXVV/rwww%2Bd8famsX%2B/sytwLC8vqVUr6fDh6nXNX0ioses9q5SwsJK7l8PDq901f0kfOeWfu0rh4yP16iV9%2BSXX/FVl9epJ3btL27ZVv2v%2BrnpQxq2zfbvj93mdIKi64hM%2BAACAeVTBT/gwG9M3f507d9alX3lmyGeffaaAgIBbWBEAAKg0NH%2BGOa35i4uLc8hn15VeRAkAAIAbM33yBwAAXAjJn2HMIAAAgAsh%2BQMAAOZB8mcYzR8AADAPmj/DmEEAAAAXQvIHAADMg%2BTPMGYQAADAhZD8AQAA8yD5M4zmDwAAmAfNn2HMIAAAgAsh%2BQMAAOZB8mcYMwgAAOBCSP4AAIB5kPwZRvMHAADMg%2BbPMGYQAADAhZD8AQAA8yD5M4wZBAAAcCEkfwAAwDxI/gyj%2BQMAAOZB82cYMwgAAOBCSP4AAIB5kPwZxgwCAAC4EJI/AABgHiR/htH8AQAA86D5M4wZBAAAcCEkfwAAwDxI/gxjBgEAAFwIyR8AADAPkj/DaP4AAIB50PwZxgwCAAC4EJI/AABgHiR/hjGDAAAALoTkDwAAmAfJn2E0fwAAwDxo/gxjBgEAAFwIyR8AADAPkj/DmEEAAAAXQvIHAADMg%2BTPMJo/AABgHjR/hjGDAAAABvz000964oknFBkZqejoaL366qu6fPlymeuuWrVKMTExCg8P17Bhw7R//37bskuXLmnmzJnq2bOnIiMjNWnSJJ05c8bh9dL8AQAA83B3d/yXQXFxcWrUqJG2bNmiFStWaMuWLVq5cuU1633%2B%2BedatGiRXnnlFf3nP/9RdHS0xo0bpwsXLkiS5s%2Bfr9TUVCUmJmrjxo2yWq2aPn264fquRvMHAABwk1JSUpSWlqapU6eqbt26atGihWJjY5WYmHjNuomJiXrwwQfVoUMHeXl56bHHHpMkffHFFyoqKtLq1as1fvx4NWnSRPXr19eUKVP05Zdf6sSJEw6tmWv%2BqriQ/nc4uwTHCgmRNmxQq8n9pSuibrNL%2Bsjq7BIcxsdH6iXpy3m7dfass6txrIGD3JxdguOEhUm7d6vXU%2BHSnj3Orsax6tVzdgWO06GDlJys7tN7Snv3Orsax3LWPxCVcM1fdna2cnJy7Mb8/Pzk7%2B9/w21TU1MVEBAgHx8f21hwcLAyMjKUm5srb29vu3X79etne%2B3u7q62bdsqJSVFbdu21fnz5xUcHGxb3rJlS3l5eSk1NVWNGjUycoh2aP4AAIBpWOX4/8QlJiZq8eLFdmMTJ05UXFzcDbe1WCyqd9V/WEobwTNnztg1fxaLxa5JLF33zJkzslgsknTNvurVq%2Bfw6/5o/gAAgEsbMmSIevfubTfm5%2BdX7u2t1vKf/bnRuhXZ182i%2BQMAAKZxnZtoDfH39y/XKd6y%2BPr62lK7UhaLRW5ubvL19bUbv/3228tct3Xr1rZ1LRaL6tSpY1t%2B9uxZNWjQ4KZqux5u%2BAAAAKZx%2BbLjv4wICQlRVlaWTp8%2BbRtLSUlRq1at7Jq40nVTU1Ntr4uLi/Xdd9%2BpQ4cOatasmXx8fOyWHzx4UAUFBQoJCTFW5FVo/gAAAG5Su3btFBoaqtdee025ublKT0/XihUrNGzYMEnSfffdp507d0qShg0bpo8%2B%2BkjffvutLl68qDfeeEO1atVSr1695OHhoYcfflhvvvmmsrKydObMGc2bN0/33nuvGjZs6NCaOe0LAABMozJO%2Bxq1cOFCPffcc%2Brevbu8vb01dOhQDR8%2BXJKUkZFhe45fz5499dRTT2nKlCk6deqUQkNDtXTpUnl5eUmSJk2apLy8PA0cOFBFRUWKjo7W7NmzHV4vzR8AAIABjRs31rJly8pc9v3339u9Hj58uK0xvFqtWrU0a9YszZo1y%2BE1XonmDwAAmEZVTP7MhuYPAACYBs2fcdzwAQAA4EJI/gAAgGmQ/BlH8gcAAOBCSP4AAIBpkPwZR/MHAABMg%2BbPOE77AgAAuBCSPwAAYBokf8aR/AEAALgQkj8AAGAaJH/G0fwBAADToPkzjtO%2BAAAALoTkDwAAmAbJn3EkfwAAAC6E5A8AAJgGyZ9xNH8AAMA0aP6M47QvAACACyH5AwAApkHyZxzJHwAAgAsh%2BQMAAKZB8mcczR8AADANmj/jOO0LAADgQkj%2BAACAaZD8GUfyBwAA4EJI/gAAgGmQ/BlH8wcAAEyD5s84TvsCAAC4EJI/AABgGiR/xpH8AQAAuBCSPwAAYBokf8bR/AEAANOg%2BTOO074AAAAuhOQPAACYBsmfcSR/AAAALoTkDwAAmAbJn3E0fwAAwDRo/ozjtC8AAIALIfkDAACmQfJnHM0fAAAwDZo/4zjtCwAA4EJM0fwFBQUpOTn5husdO3ZMQUFBSk9PvwVV2RsxYoQSEhJu%2BfsCAOBKLl92/JercUrzZ7FY9M9//tMZb%2B0wmZmZ%2Buyzz5xdBgAAqMIsFoumTJmiu%2B%2B%2BW1FRUfrzn/%2Bs/Pz8666/adMmPfDAAwoLC1NMTIw%2B/PBD27JFixapbdu2Cg0Ntfs6efJkhWpySvP33//%2B1/TN36ZNm7Rx40ZnlwEAgEsxW/L33HPP6eLFi1q/fr3WrFmj9PT0654p3Ldvn6ZOnapJkyZpx44d%2BtOf/qQ5c%2BZo586dtnUGDhyolJQUu6%2BGDRtWqKabbv5KT7Fu3LhR/fv3V/v27fXII48oJydHkrR9%2B3YNGTJEYWFh6tGjh15//XVJ0qeffqqnnnpK%2B/btU2hoqDIzM3Xp0iXNmDFDUVFRCg8P1/Dhw3Xw4MGbLc3GYrFo6tSpioqKUlhYmJ588kmdOHHCrv5t27Zp0KBB6tixo4YOHapjx47Ztl%2ByZIkiIiLUrVs3vfvuuxo9erQWLVqkd955RwkJCfrss88UGhqq4uJiSVJxcbFmzpyp8PBwdevWTZ988onhYwAAAP9jpubv5MmT2rJli%2BLj4%2BXr66tGjRpp/PjxWrNmjQoLC69Z32KxaOzYserbt69q1Kihe%2B65R4GBgXbNnyMYvtv3vffe0/Lly%2BXl5aWJEydq9uzZeu655zR%2B/HjNmjVLAwYM0OHDh/XYY4%2BpefPmttdfffWVLcpcvHix9u7dq/Xr16t27dqaM2eOpk2bprVr1xqqbdq0aapRo4Y2bNggDw8PzZo1S9OnT9fy5ctt66xatUpvvfWWPD09NXLkSL399tuaPXu2Nm/erDfffFPLly9Xu3bt9NJLLyk1NVXh4eEaM2aMDh06pEuXLmn%2B/Pm2fa1fv14vvviiZsyYocWLF2v27Nn67W9/qxo1yjfN2dnZtua5lN9vfiN/X19D81CltGxp/72a8PFxdgWO4%2B1t/71aCQtzdgWO06aN/ffqpDr94QsMtP9eXezd6%2BwKHKrMn79%2BfvL39ze03wMHDsjDw0NBQUG2seDgYF24cEFHjhyxG5eknj17qmfPnrbXRUVFysnJUaNGjWxj33//vYYOHaqDBw%2BqSZMmmj59uqKioipUl%2BHmb/jw4baiYmNjNWXKFK1bt06tW7fWoEGDJJXcsDF06FAlJSVpwIAB1%2Bxj7Nixio2Nlfcvf%2BHvu%2B8%2BrV27VkVFReVunK526tQpffHFF/rkk0/k88tP5qlTp6pXr152v8HDhg2z1R8VFaWUlBRJ0r/%2B9S9FRUWpc%2BfOkqRnnnlGSUlJv/qe4eHh6tGjh%2B0Y3nrrLZ0%2Bfbrcf3gSExO1ePFiu7GJ48crbvLkcm1vKgsXOrsCh%2Brl7AIqwS9/9KuX3budXYHj/eMfzq4A5fH2286uwLGc%2BD/eykjqyvz5O3Gi4uLiDO3XYrHI29tbbm5utrHSnuTMmTM33D4hIUG1a9dWv379JEmNGzdWs2bN9PTTT8vf31%2BJiYkaN26c1q1bp7vuuqvcdRlu/u68807brwMCAlRQUKAffvhBKSkpCg0NtS2zWq12617p9OnTmjt3rr755hvl5eVJKjmFWlxcfNPNX2ZmpiTZGtBSHh4eysrKku8vaVrTpk1ty2677TZdunRJkpSTk6PmzZvbltWtW1ctWrT41fe8cl%2Benp6SpIKCgnLXPGTIEPXu3dtuzO%2Bxx6RNm8q9jyqvZcuSxm/SJMkJd2VXli//uMHZJTiMt3dJ47dzp5Sb6%2BxqHKvXU%2BHOLsFx2rQpafyGD5fS0pxdjWNVt%2BTv7belxx6THHA5EypHmT9//fzKtW1SUpKeeeaZMpfFx8fLarVWuB6r1aqEhAStX79eq1atsvUUgwcP1uDBg23rxcbGasOGDVq3bp2mTJlS7v0bbv4uX9GClx6g1WrVPffcozfffLNc%2B4iPj5enp6eSkpLUuHFjbd%2B%2BXbGxsYbq8vLykiQlJyfr9ttvv2Z56bV9V3bjV7p8%2BfI1jae7%2B69fInm9fZWXv7//tSnh8eMlX9VNerq0f7%2Bzq3CYs2edXYHj5eZWw%2BPas8fZFTheWlr1O6569ZxdgeMdPFjtTpU6S2Ukf2X%2B/C2ngQMHauDAgWUu27Ztm3Jzc1VcXCwPDw9JJWmgJDVo0KDMbS5fvqzp06dr3759%2BuCDD9SsWbNfff%2BAgABlZ2dXqGbDd/sePXrU9uuffvpJXl5eateunQ4ePGjX7ebk5Fw3Bdu3b58efvhhNW7cWJKUmppqtCwFBATI3d1d33//vW2ssLDQdsPHjTRo0EDHr2i6cnNzlZGRYbguAABw88x0w0fbtm1ltVqVdkU6n5KSonr16l33bOiLL76oQ4cOldn4LVmyRNu3b7cbS09Pv2GDeDXDzd8HH3ygkydPymKxaOXKlbrnnnt0//33y2KxaMmSJcrPz1dmZqYeffRRrVy5UlLJKdGcnBxZLBYVFBQoICBA%2B/btU2FhoZKTk7Vt2zZJKnejVpa6deuqX79%2BSkhI0M8//6z8/HzNmzdPjz76aLki2K5duyo5OVn79u1Tfn6%2BXnnlFVuaWHoMWVlZOnfunIqKim66TgAAUD35%2BvoqJiZGCxYs0OnTp/Xzzz/r9ddf10MPPWQ7uzhq1Cjb00F27dqldevWaenSpapfv/41%2B7NYLHr%2B%2Bed15MgRXbp0ScuXL9fRo0f1%2B9//vkJ1GW7%2BHnjgAY0aNcp2o8OsWbN0%2B%2B23a8mSJdq6dasiIiL0yCOPKDo6Wo8%2B%2BqgkqW/fvrJarerVq5f279%2BvmTNnatOmTerSpYtWr16tefPmqUOHDnrwwQcr/ODCKz333HO644471L9/f/Xo0UOHDx/WkiVLynV69oEHHtAf/vAHjRw5UjExMerQoYOaN29u23bAgAHKyMhQdHR0heNWAABwc8yU/EnSnDlzVLduXfXp00cPPPCA2rdvr/j4eNvyzMxMnf3lGps1a9bo/Pnzio6OtnuIc2n/9PTTT6tnz56KjY1VRESE1q9fr3fffdd25rS83Kw3cyWiSq6Z69Onjz755BO1rGaP7ShVUFCgWrVq2V5HR0dr/PjxdhdbVro77rh173UrhIRIGzZI/ftXq2v%2Bkhb%2B6OwSHMbHR%2BrVS/ryy%2Bp3zd/AQcauy61SwsJK7l4OD%2Beav6qsQwcpOVnq2bP6XfPnpH8gKuPzFWJiHL/PqswUn%2B3rDDt27FBERIT27dun4uJirV27Vjk5OerWrZuzSwMAwGWZLfmrigzf7Xsrde7c2fYolrJ89tlnCggIcMh7RUREKD4%2BXlOmTNHp06fVrFkzLViwwO5xLgAA4NZyxWbN0W66%2BWvatKndnbS3gqM/3uRGYmNjDT9yBgAAoCoxVfIHAABcG8mfcVzzBwAA4EJI/gAAgGmQ/BlH8wcAAEyD5s84TvsCAAC4EJI/AABgGiR/xpH8AQAAuBCSPwAAYBokf8bR/AEAANOg%2BTOO074AAAAuhOQPAACYBsmfcSR/AAAALoTkDwAAmAbJn3E0fwAAwDRo/ozjtC8AAIALIfkDAACmQfJnHMkfAACACyH5AwAApkHyZxzNHwAAMA2aP%2BM47QsAAOBCSP4AAIBpkPwZR/IHAADgQkj%2BAACAaZD8GUfzBwAATIPmzzhO%2BwIAALgQkj8AAGAaJH/G0fwBAADToPkzjtO%2BAAAALoTkDwAAmAbJn3EkfwAAAC6E5A8AAJgGyZ9xNH8AAMA0aP6M47QvAACACyH5AwAApkHyZxzJHwAAgAsh%2BQMAAKZB8mcczR8AADANmj/jOO0LAADgQmj%2BAACAaVy%2B7PivymSxWDRlyhTdfffdioqK0p///Gfl5%2BeXue7atWvVpk0bhYaG2n3t27fvl2O/rPnz56tPnz6KiIjQmDFjlJmZWeGaaP4AAAAqyXPPPaeLFy9q/fr1WrNmjdLT05WQkHDd9SMiIpSSkmL31b59e0nS%2B%2B%2B/r48//lhLly7VF198oRYtWmjChAmyWq0VqonmDwAAmIaZkr%2BTJ09qy5Ytio%2BPl6%2Bvrxo1aqTx48drzZo1KiwsrPD%2BEhMTFRsbq5YtW8rb21vx8fFKT0/X3r17K7Qfmj8AAGAaZmr%2BDhw4IA8PDwUFBdnGgoODdeHCBR05cqTMbbKysjR69GhFRESoT58%2BSkpKkiTl5%2Bfr8OHDateunW1db29v3XHHHUpJSalQXdztW9XVqePsChzLy%2Bt/36vRsdWq5ewKHKdmzf99r07HJUmqV8/ZFTiOt/f/vlen45Kkc%2BecXYHj5Ob%2B73t1Oq5qJjs7Wzk5OXZjfn5%2B8vf3N7Rfi8Uib29vubm52cZ8fHwkSWfOnLlmfV9fX7Vo0UJPPfWUWrVqpc2bN%2BuZZ56Rv7%2B/7rrrLlmtVtv2V%2B6vrH39Gpo/AABgGpWR1CUmJmrx4sV2YxMnTlRcXNwNt01KStIzzzxT5rL4%2BPgKXY/Xq1cv9erVy/a6f//%2B2rx5s9auXaupU6dKUoWv7ysLzR8AAHBpQ4YMUe/eve3G/Pz8yrXtwIEDNXDgwDKXbdu2Tbm5uSouLpaHh4ekkjRQkho0aFCu/QcEBGj//v2qX7%2B%2B3N3dbduXslgs5d5XKZo/AABgGpWR/Pn7%2Bxs%2BxVuWtm3bymq1Ki0tTcHBwZKklJQU1atXT3feeec163/wwQfy8fFRv379bGPp6elq1qyZPD091bp1a6WmpqpLly6SpHPnzuno0aO2u4HLixs%2BAACAaZjphg9fX1/FxMRowYIFOn36tH7%2B%2BWe9/vrreuihh1SjRkn%2BNmrUKH3yySeSpIKCAr3wwgtKSUlRYWGh1q9fr%2BTkZA0dOlSSNGzYMK1atUrp6enKzc1VQkKC2rZtq9DQ0ArVRfIHAABQSebMmaNZs2apT58%2Bqlmzpu6//37FFRipFgAAIABJREFUx8fblmdmZurs2bOSpJEjRyovL0%2BTJ09WTk6OmjZtqtdff10hISGSpKFDhyonJ0cjRoxQXl6eIiMjr7lWsTxo/gAAgGmY7bN969atq3nz5l13%2Beeff277tZubm8aPH6/x48eXua6bm5smTZqkSZMmGaqJ074AAAAuhOQPAACYhtmSv6qI5g8AAJgGzZ9xnPYFAABwISR/AADANEj%2BjCP5AwAAcCEkfwAAwDRI/oyj%2BQMAAKZB82ccp30BAABcCMkfAAAwDZI/40j%2BAAAAXAjJHwAAMA2SP%2BNo/gAAgGnQ/BnHaV8AAAAXQvIHAABMg%2BTPOJI/AAAAF0LyBwAATIPkzziaPwAAYBo0f8Zx2hcAAMCFkPwBAADTIPkz7v%2B3d%2B9RUdf5H8dfiCneIPEuqLisYnnBWyHe8FKJmVKuqXWslGwtLym2pZ2fGrV1dHdNLc3LpnTsZqxW4lHTyvKSeQEzRDRdFRXTBFTICzIwzO8Pc5YJVIgZv/Nlno9zOMr3%2B53hbdPbefv%2BfN7zpfMHAADgQej8AQAA06DzV34UfwAAwDQo/sqPZV8AAAAPQucPAACYBp2/8qP4AwAApkHxV34s%2BwIAAHgQOn8AAMA06PyVH50/AAAAD0LnDwAAmAadv/Kj%2BAMAAKZB8Vd%2BLPsCAAB4EDp/AADANOj8lR%2BdPwAAAA9C5w8AAJgGnb/yo/gDAACmQfFXfiz7AgAAeBA6fwAAwDTo/JUfnT8AAAAPQucPAACYBp2/8qP4AwAApkHxV36mXfYNCQnR1q1bnfZ8P//8s9q2bau0tLQSz2/dulUhISElntu1a5dCQkKUl5fntHgAAABcwW06f9nZ2frqq6/06KOPGvLzAwIClJKSUurrV61apT59%2Bsjf39%2BFUQEAgKLM1vnLzs5WbGysdu/erUqVKikiIkLTp0%2BXj49PsWunTZumhIQEh2NWq1VRUVGaOXOmpk6dqjVr1sjb29t%2BvmrVqkpKSipTTG7T%2Bdu5c6dWrlxpdBilYrVaNWvWLF24cMHoUAAAgBubPn26cnNztXbtWn366ac6evSoZs%2BeXeK1r7/%2BulJSUuxfe/fu1Z/%2B9CdFRkbar3nuueccrilr4Sc5ufg7deqUQkJCtHHjRg0YMEDt2rXTiBEjlJmZKUnasWOHhg0bpg4dOqhHjx565513JElffPGFJk%2BerH379qlt27ZKT09XXl6epk2bpu7du6tjx456/PHHdfjw4TLHFBERoW%2B%2B%2Bcb%2B/eOPP%2B7QXdyxY4fCwsKUnp6ukJAQHT16VJJ0/PhxDR8%2BXB06dNCjjz6qEydO2B9z77336uLFi4qKitKCBQvsx/fs2aMBAwaoTZs2euaZZ3Tx4sUyxwsAAG6ssND5X66SlZWlr7/%2BWjExMfL391eDBg00duxYffrpp8rPz7/l45cvX67GjRsrIiLCqXG5ZNn3ww8/VFxcnHx8fDR%2B/HjFxsZq%2BvTpGjt2rF555RUNHDhQR44c0ejRo9W0aVP799u2bdN//vMfSdKCBQuUnJystWvXqnr16nrttdc0depUffbZZ2WKJSwsTHv37lWfPn2Ul5enkydPytvbW7m5uapWrZqSkpLUpUsXeXl5OTxu6tSpCggIUFxcnM6cOaOJEyfazyUkJKhv375KSEhQcHCwdu3aJUlau3atVqxYoZycHA0dOlSrVq3SqFGjSh1rRkaGvVC%2Brl7Dhqpfu3aZ/sxurXlzx18rCF9foyNwnho1HH%2BtUEJDjY7AeVq2dPy1Irl0yegInKdVK8dfK4q9ew370a4o1kp8/61XT/Xr1y/X8x48eFDe3t4OMwOtW7fWlStXdOzYsRvOEkjSr7/%2BqsWLF%2Bvjjz92OL5z505t2rRJJ06cUHBwsGJjY9WmTZsyxeWS4u/xxx9XgwYNJEkjR47UpEmTtGbNGrVo0UIPP/ywpGsDG8OHD1dCQoIGDhxY7DnGjBmjkSNHqmbNmpKkyMhIffbZZyooKFDlyqUPu0uXLvaCMTk5WS1atFDlypWVnJysLl26KCkpSf3793d4TGZmpvbu3atXX31V1atXV3BwsAYPHqx//OMfN/1Z0dHR8vX1la%2Bvr9q3b3/D4ZEbiY%2BPd%2BgkStL4sWM1oUjhWWHcoOVtVt2MDsAF2rc3OgIXcOKQmNtYutToCFAav3sDN73fNUzMrsT33/HjNWHChHI9b3Z2tmrWrOnQYPLz85OkW24d%2B/DDD3XPPfeoRYsW9mNNmjRRpUqVNHHiRNWoUUMLFixQdHS0Nm7cqNplaBS5pPhrXqSrExAQIIvFouPHjyslJUVt27a1n7PZbA7XFnX%2B/Hm9/vrr2r17ty5fvizp2l47q9VapuIvLCxMr732mgoKCpSYmKiOHTvKy8tLe/bsUadOnZScnKy///3vDo85e/asJCkwMNB%2BLCgo6JY/q%2Bj1Pj4%2BslgspY5TkoYNG6Y%2Bffo4HKs3YULFesNq3vxa4fe3v0llLI7d2fbJnxodgtPUqHGt8PvxR%2Bm31Kswur3c0%2BgQnKdly2uF3%2BjR0h/YEuPWKlrn7%2BOPpccfl376yehoKgRXdP5KfP%2BtV69Uj01ISNBLL71U4rmYmBjZbLYyx2O1WvXRRx/pzTffdDg%2Bbtw4h%2B9ffPFFrV27Vl9//XWZBmZdUvwVFnllrv%2BhbTabIiIitHjx4lI9R0xMjKpWraqEhAQ1bNhQO3bs0MiRI8scS0BAgOrWrasDBw4oKSlJzzzzjCRp2bJlOnDggPz9/dW0aVOdOnXK/pjrRZvVai3xz3Qjv186Lqv69esXbzH/8su1r4omLU06eNDoKJzm11%2BNjsD5Ll%2BugH%2Bu5GSjI3C%2Bw4cr3p%2Brwv2Pp2uFn4FLpbi5Et9/SykqKkpRUVElntu%2BfbsuXbokq9Vqn9DNzs6WJNWpU%2BeGz5mYmCiLxaLOnTvf9Gd7e3urUaNGysjIKFPMLpn2PXnypP33P//8s3x8fHT33Xfr8OHDDhVwZmbmDbtj%2B/bt09ChQ9WwYUNJUmpq6h%2BOJywsTImJiUpJSVH79u3Vrl07paSkKDExUeHh4cWuv/4/wJkzZ%2BzHrg%2BCAAAA45hp4OOuu%2B6SzWbTT0W6vikpKfL19b3hyqckbdq0SV26dHFY6bTZbJo5c6bDc1ksFp08eVJNmjQpU1wuKf5WrFihrKwsZWdna/ny5YqIiNBDDz2k7OxsLVy4UFevXlV6erqio6O1fPlySdc%2BpyYzM1PZ2dmyWCwKCAjQvn37lJ%2Bfr61bt2r79u2S/rckWxZdunTRypUrFRQUpOrVq6tmzZpq1KiRPv/88xKLv8DAQAUHBysuLk65ubk6fPiww%2BfuXP9snuPHj%2BtSRVqeAADAzZmp%2BPP391e/fv00b948nT9/Xr/88oveeecdDRkyxF7YPfXUU1q/fr3D4w4ePOiwlUy6trp46tQpvfrqqzp79qwuX76s2bNn64477tB9991XprhcUvwNGjRITz31lHr06CFJeuWVV1S7dm0tXLhQmzZt0j333KMRI0aod%2B/eio6OliTdd999stls6tWrl/bv368ZM2boyy%2B/1L333qtVq1Zpzpw5Cg0N1eDBg5WVlVWmeMLCwpSWlqZOnTrZj3Xs2FFHjx4tsfiTpLffflvHjh1TeHi4Xn75ZT399NP2c3Xr1lW/fv00ceJEzZs3r6z/eQAAgId47bXXVKtWLfXt21eDBg1Su3btFBMTYz%2Bfnp6unJwch8dkZmaqbt26xZ7rjTfeUFBQkAYPHqyuXbvq4MGDWr58uapXr16mmLxsf2Qn4g2cOnVKffv21fr16xUcHOysp/Vsd99tdATOdddd0qefSn/5S4Xa8/fFmweMDsFpfH2lbt2k7dsr3tar/sP9jA7BeUJDrw2D9ezJnj931qGD9MMPUseOFW/Pn/PKhzK5Qc%2BmXHbscP5zujO3ucMHAAAAXM9t7u37R3Xu3Fl5eXk3PL9hwwYFBATcxogAAICrmO3evu7IqcVfYGCgDh065MynvKU/ck87AABgThR/5ceyLwAAgAcx/bIvAADwHHT%2Byo/OHwAAgAeh8wcAAEyDzl/5UfwBAADToPgrP5Z9AQAAPAidPwAAYBp0/sqPzh8AAIAHofMHAABMg85f%2BVH8AQAA06D4Kz%2BWfQEAADwInT8AAGAadP7Kj%2BIPAACYBsVf%2BbHsCwAA4EHo/AEAANOg81d%2BdP4AAAA8CJ0/AABgGnT%2Byo/iDwAAmAbFX/mx7AsAAOBB6PwBAADToPNXfnT%2BAAAAPAidPwAAYBp0/sqP4g8AAJgGxV/5sewLAADgQej8AQAA06DzV350/gAAADwInT8AAGAadP7Kj%2BIPAACYBsVf%2BbHsCwAA4EHo/AEAANOg81d%2BdP4AAAA8CJ0/AABgGnT%2Byo/iDwAAmAbFX/mx7AsAAOBB6PwBAADToPNXfnT%2BAAAAPAidPwAAYBp0/sqP4g8AAJgGxV/5sewLAADgQSj%2BAACAaRQWOv/L1VJSUnT//fdr6NCht7z2/fffV79%2B/dSxY0c99thj2r9/v/1cXl6eZsyYoZ49eyosLEzPP/%2B8Lly4UOZ4KP4AAABcZM2aNZowYYKaNWt2y2u/%2BeYbzZ8/X//85z/1/fffq3fv3nr22Wd15coVSdLcuXOVmpqq%2BPh4bdy4UTabTS%2B//HKZY6L4AwAApmG2zl9eXp7i4%2BMVGhp6y2vj4%2BM1ePBghYaGysfHR6NHj5YkffvttyooKNCqVas0duxYNWrUSHfeeacmTZqkzZs36%2BzZs2WKiYEPAABgGq4o1jIyMpSZmelwrF69eqpfv365n/vRRx8t9bWpqal68MEH7d9XqlRJd911l1JSUnTXXXfp4sWLat26tf18cHCwfHx8lJqaqgYNGpT651D8ubsDB4yOwKkyMjIUP3%2B%2Bhi1a5JSkchf9jQ7AiTIyMjR/fryGDRtWoV4jSVJOjtEROI09l1atqnivUwVif502bOB1chKbzfnPOX9%2BvBYsWOBwbPz48ZowYYLzf9hNZGdny8/Pz%2BGYn5%2BfLly4oOzsbEmSr6%2Bvw3lfX98y7/uj%2BMNtlZmZqQULFqhPnz78ReimeI3MgdfJHHidzGHYsGHq06ePw7F69eqV6rEJCQl66aWXSjw3c%2BZMDR48uEyx2G5R3d7qfGlQ/AEAAI9Wv379P1ycR0VFKSoqyilx1K5d297huy47O1stWrSQv7%2B//fsaNWrYz%2Bfk5KhOnTpl%2BjkMfAAAALiBNm3aKDU11f691WrVgQMHFBoaqiZNmsjPz8/h/OHDh2WxWNSmTZsy/RyKPwAAAINERkYqKSlJkvTYY49p9erV%2BvHHH5Wbm6tFixapSpUq6tWrl7y9vTV06FAtXrxYZ86c0YULFzRnzhzdf//9qlu3bpl%2BJsu%2BuK3q1aun8ePHl3ovBW4/XiNz4HUyB14n9OvXT6dPn5bValVhYaHatm0rSdqwYYMCAgKUlpZm/xy/nj17avLkyZo0aZLOnTuntm3b6t///rd8fHwkSc8//7wuX76sqKgoFRQUqHfv3oqNjS1zTF42Z%2BwcBAAAgCmw7AsAAOBBKP4AAAA8CMUfAACAB6H4AwAA8CAUfwAAAB6E4g8AAMCDUPwBAAB4EIo/AAAAD0LxBwAA4EEo/gAAADwI9/aFyxUWFur8%2BfOyWCzFzjVu3NiAiADzIp8AlBfFH1xq/fr1evXVV/Xrr786HLfZbPLy8tLBgwcNigxFXbp0SatWrVJaWlqJRcXMmTMNiAq/Rz6ZA/kEd0fxB5d64403NHz4cEVGRqpq1apGh4MbmDx5svbv36/27dvLx8fH6HBwA%2BSTOZBPcHdeNpvNZnQQqLg6deqkXbt2qXJl/p3hztq2basNGzYoICDA6FBwE%2BSTOZBPcHcMfMClHnroIe3evdvoMHALzZo1k5%2Bfn9Fh4BbIJ3Mgn%2BDu6PzB6ebMmWP/fX5%2BvtavX6%2BOHTsqMDBQXl5eDtdOnjz5doeH3xTdi7Rnzx6tW7dO0dHRCgwMLHZtlSpVbmdoKIJ8MgfyCWZC8Qene%2BKJJ0p1nZeXl95//30XR4MbadWqlUPxcH1ooCQMEhiHfDIH8glmQvEHl7rRX4BWq1WZmZlq2LChAVFBUpmWD%2B%2B9914XRoLSIp/cF/kEM2HXMFyqffv2Sk5OLnb8ypUrGjhwoBITEw2ICpLjG9A777yjcePGFbvm8uXLmjdvHm9WboJ8cl/kE8yE4g8usXHjRm3cuFH5%2Bfl64YUXip0/ffq0vL29DYgMRWVnZ%2BvChQtasmSJBgwYoN8vBBw/flzx8fH6v//7P4MihEQ%2BmQX5BLOg%2BINL3H333Tp16pQ2bNhQ4ubmkJCQEt/EcHtt2rRJs2bNUn5%2BviIjI0u85oEHHrjNUeH3yCdzIJ9gFuz5g0vFxcUpOjra6DBwE1arVWFhYUpISCi2p8zHx0d16tQxMDoURT65P/IJZkDxB5dasGDBDc9VqlRJDRo0UHh4OPckBUqBfALgDBR/cKno6Gilpqbq6tWrCgoKUqVKlZSWlqZq1aqpSZMmysrKUlZWlt566y317t3b6HA9yu8/muJm%2BGgK90A%2BuS/yCWbCnj%2B4VEREhAIDA/XSSy%2BpZs2akq7d9Pxf//qX2rdvr0ceeUSfffaZ5s6dy5vVbfbuu%2B/af3/ixAnFx8dr8ODBCgoKUmFhoY4cOaI1a9Zo9OjRBkaJosgn90U%2BwVRsgAt17drVlpubW%2Bz41atXbb169bLZbDab1Wq1tW/f/naHhiKGDh1qO3bsWLHjhw4dsg0ZMsSAiFAS8skcyCe4O%2B7tC5fKz8/XgQMHih0/dOiQsrOzJUn79%2B%2BXv7//7Q4NRRw%2BfLjEfWJNmzbVkSNHDIgIJSGfzIF8grtj2RcuNXLkSI0aNUo9evRQQECAKleurNOnT2vLli0aMmSILBaLnnzyScXExBgdqkdr1aqVpk2bpjFjxiggIEBWq1VnzpxRXFycWrRoYXR4%2BA35ZA7kE9wdAx9wua%2B%2B%2Bkpbt25VZmamCgsLVadOHYWFhSkqKkpeXl5KSkpS586djQ7To504cUJTpkzRjz/%2BaN%2B0brPZFBwcrLffflvBwcEGR4jryCf3Rz7B3VH8AbDLysrS2bNnZbFYVL9%2BfQUEBBgdEmBa5BPcFcUfXOr06dNaunSpjh49qry8vGLnP/nkEwOignStO9GsWTNJUlpa2k2vbd68%2Be0ICbdAPrkv8glmwp4/uNTkyZOVm5ur7t27q1q1akaHgyIGDhyoffv2SZL69%2B8vLy8v%2B71Iiy5VeXl58blkboJ8cl/kE8yEzh9cqkOHDtqyZYt8fX2NDgW/c/r0aftE4qlTp276AbUsV7kH8sl9kU8wEzp/cKmgoCBZLBajw0AJin4UxZAhQxQeHq7w8HB17dpVgYGBBkaGGyGf3Bf5BDPxjo2NjTU6CFRcTZs21dy5c%2BXr66uCggLl5OQoOzvb/lW7dm2jQ4Sk1q1b6%2BrVq9qyZYvmzp2rlStX6siRI7p69arq1KnDEqObIJ/MgXyCu2PZFy7VqlWrYseu74Vh74t7Kigo0IEDB5SYmKjPP/9cx44dK/GDhXH7kU/mQz7BHbHsC5fatGmT0SGglPLy8pScnKw9e/YoKSlJ%2B/fvV6NGjTR8%2BHCjQ8NvyCfzIJ/gzuj84bY4d%2B6czpw5ozZt2hgdCkowbNgwZWRkqGXLlgoNDVWHDh3Url071ahRw%2BjQUALyyb2RT3B33NsXLnX27Fk9/fTT6tatm/1fvBkZGRo4cKDS09MNjg7XeXt7Kz8/X/n5%2BSosLLQfg3shn8yBfIK7o/MHlxo3bpyqV6%2BuyZMnq1%2B/ftq3b58KCgr05ptv6tixY1qyZInRIeI3FotFycnJSkxMtC9TBQUFqVOnTpoyZYrR4UHkk5mQT3BnFH9wqU6dOmnr1q2qUaOGQkNDlZycLEm6evWqIiIitGvXLoMjxO8VFhYqNTVViYmJWrlypY4fP84ggZsgn8yHfII7YuADLlWtWjWV9O%2BLnJwcWa1WAyJCSTZv3qy9e/fqhx9%2B0P79%2B1WvXj2FhYVp3LhxCgsLMzo8/IZ8MgfyCe6Ozh9c6m9/%2B5ssFotiYmL08MMPa9u2bfrpp580e/ZsNW3aVLNnzzY6REjq1auXwsLC1KVLF4WFhTl8YG1RZ86cUaNGjW5zdLiOfDIH8gnujuIPLpWTk6MpU6Zo8%2BbNkq59JpmXl5cefPBBTZ8%2BXX5%2BfsYGiDIputSI2498qljIJxiF4g%2B3xfnz55Wenq6qVasqMDBQNWvWNDok/AHt2rWz37wexiGfKgbyCUZhzx%2BcLi0trcTj129Gn5mZqczMTElS8%2BbNb1tcKL%2Bb3awerkE%2BVVzkE4xC8Qen69%2B/v/2WU0UV/YuO21EBpUM%2BAXA2ij843R%2B5BRUbn4GSkU8AnI3iD04XEBBQ5sdERkay8RkoAfkEwNm4vRvcAnNHgPOQTwBuhuIPboGNz%2BZQpUoVo0NAKZBP5kA%2BwSgs%2BwIe6rvvviv1td27d5ckJSYmuiocwNTIJ5gJxR/goUaPHl2q65giBW6NfIKZUPwBHuqnn34q1XXnzp1zcSSA%2BZFPMBP2/AGwKywslMVisX%2Blp6erf//%2BRocFmBL5BHdF5w9ugY3Pxvrvf/%2BrKVOm6PDhw7JarQ7n2rVrZ1BU%2BKPIJ2ORT3B33NsXTvdHNj7DWCNGjFDz5s3Vr18/Pfvss3r33XeVmpqq77//XnPnzpWfn5/RIXos8sl8yCe4O4o/OF2rVq1KdR0bn91H586dtXPnTlWuXNnhZvPbtm3TqlWr9NZbbxkcoecin8yHfIK7Y9kXTsfGZ/Px8fFRbm6uatWqperVqysjI0P169dXeHi4Jk2aZHR4Ho18Mh/yCe6OgQ/cFmx8dm%2B9evXSiBEjdOXKFd1zzz16%2BeWXtXHjRs2ZM0e1a9c2Ojz8Dvnk3sgnuDuWfeFSt9r4HB8fb1BkKMpisejdd9/Vs88%2Bq6ysLMXExCglJUUBAQGaMWOGunbtanSIEPlkFjfKp8DAQM2YMUPh4eFGhwgPR/EHl2LjM%2BA85JM5nDp1SoGBgcWOWywWHThwQO3btzcgKuB/KP7gUmx8No9vvvlGmzdvVkZGhiSpYcOG6tOnj3r27GlwZLiOfDKH0NBQJScnFzuek5OjXr16ae/evQZEBfwPAx9wKTY%2Bm8Pbb7%2Bt9957T927d1ezZs1ks9l0%2BvRpTZw4UaNHj9a4ceOMDhEin9zdypUrtWrVKuXn52v48OHFzmdkZOjOO%2B80IDLAEcUfXOr6xucVK1bYNz4PHTpUycnJbHx2Ix988IGWLVumjh07OhxPSkrSc889R/HnJsgn9/bAAw%2BoVq1aeuGFF0r8zMWqVavqvvvuMyAywBHLvnApBgnMoUuXLtq2bZvuuOMOh%2BP5%2Bfnq0aOHdu7caVBkKIpBAnPYsGGDIiMjjQ4DuCGKPwBatGiRrFarxo4dq0qVrn0CVGFhoZYuXar8/Hw6f26CQQLzWLdunRISEpSRkaHVq1fLYrHogw8%2BUHR0tLy8vIwODx6O4g8uxyCB%2Bxs1apSSk5Pl7e2tJk2aqLCwUGfOnFF%2Bfr5atmzpcO0nn3xiUJRgkMAcFi5cqPj4eA0bNkyLFy/Wvn37lJWVpVGjRqlv377sz4ThKP7gUkUHCRo3bmwfJNi%2BfTuDBG5kwYIFpb52/PjxLowEJbk%2BSJCSkqJ27doVO5%2BRkSGbzaZvv/3WgOjwexEREVq6dKlatGjhULCnp6frySef5HWC4Rj4gEsxSGAOFHTujUECc7l48aJatGhR7Hj9%2BvV1/vx5AyICHFH8waW8vb3Vtm3bYsdDQ0Pl7e1tQEQoidVq1bJly7R69WplZmYqMTFRly9f1ptvvqkpU6aoatWqRofo0fz8/OwDBAwSuL%2BWLVtqzZo1GjRokMPxuLg4BQcHGxQV8D/c2xcu9dRTT2nJkiUqLCy0HyssLNR7772nJ554wsDIUNSsWbO0bt06jRkzRnl5eZKuTfoePXpUM2fONDg6XBcZGal169bpr3/9qx5%2B%2BGFJ14Y9li1bJnbwuI%2BJEycqNjZWw4cPV35%2Bvp577jn16dNHS5cu1dSpU40OD2DPH1yLQQJz6Nq1q1auXKmAgACHPUqZmZl65JFH9N133xkcISQGCczk7NmzWrNmjU6cOKHCwkK1bt1aAwYM4EOe4RZY9oVLderUSZ06dTI6DNxCfn6%2BGjZsWOx4tWrVdPnyZQMiQkni4%2BPtgwRLliyRJNWtW1cLFy7Uk08%2BSfHnJs6dO6fXX39dW7ZskcVikSR98cUXSkpK0vTp0%2BXv729whPB0FH9wKQYJzKF169aKi4vTM888Yz%2BWm5ur2bNnq02bNgZGhqIYJDCHSZMmycvLS/PmzVPjxo0lXfuMxuXLlysmJkbLly83OEJ4Ooo/uBSDBOYwdepUjR49WsuXL5fFYtGgQYOUnp4uf39/LVy40Ojw8BsGCcxh3759%2Bu6771SrVi37sVatWqlz586KiIgwMDLgGoo/uNSsWbO0e/dujRkzRtOnT5fkOEgQGxtrbICQdO2NaeXKlUpOTtbJkyfl4%2BMjX19f/fnPf1ZISIjR4eE3EydO1Lhx4/Txxx/bBwkOHTqknJwcLVq0yOjw8JsmTZro6tWrDsWfdO0fw02aNDEoKuB/GPiASzFIYA5r1qxRbGysfvjhB%2BXm5ioqKkpeXl7KycnRiy%2B%2BqL/85S9Gh4jfMEjg/r788kt9%2BOGHGjFihIKCglRYWKiTJ09qxYoVGjRokMNt%2BJo3b25gpPBUdP7gUgwSmMOiRYs0f/58SVJCQoKqVq2q1atX68iRI5o8eTLFn5tgkMAcnn/%2BeUnS7t27i53bsWOHvLy8ZLPZ5OXlpYMHD97u8ACKP7gWgwTm8Msvv6hbt26SpK1bt%2BrBBx%2BUt7e3QkJCdPr0aYOjw3UMEpjDpk2bjA4BuCmKP7gUgwTmULt2bZ09e1ZVqlTRjh07NHHDhaEtAAABD0lEQVTiREnXlhh9fHwMjg7XMUhgDgEBAUaHANwUxR9cikECcxg%2BfLiGDBkib29vhYWFKSQkRJcuXVJMTAy3E3MjDBIAcAYGPuBSDBKYx969e/Xrr78qPDxcVapUUUFBgeLi4jRq1CjdcccdRocHMUgAwDko/uBS/fv317Rp09StWzd98skn%2BuijjxwGCdatW2d0iIBptGrV6qbnGSQAUBos%2B8KlGCQAnIdBAgDOQPEHl2KQAHAeBgkAOAPFH1yKQQIAANwLe/7gcgwSAADgPij%2BAAAAPEglowMAAADA7UPxBwAA4EEo/gAAADwIxR8AAIAHofgDAADwIBR/AAAAHoTiDwAAwINQ/AEAAHiQ/weRIRggRlggMgAAAABJRU5ErkJggg%3D%3D\" class=\"center-img\">\n",
              "</div>\n",
              "    <div class=\"row headerrow highlight\">\n",
              "        <h1>Sample</h1>\n",
              "    </div>\n",
              "    <div class=\"row variablerow\">\n",
              "    <div class=\"col-md-12\" style=\"overflow:scroll; width: 100%%; overflow-y: hidden;\">\n",
              "        <table border=\"1\" class=\"dataframe sample\">\n",
              "  <thead>\n",
              "    <tr style=\"text-align: right;\">\n",
              "      <th></th>\n",
              "      <th>sepal_length</th>\n",
              "      <th>sepal_width</th>\n",
              "      <th>petal_length</th>\n",
              "      <th>petal_width</th>\n",
              "      <th>species</th>\n",
              "    </tr>\n",
              "  </thead>\n",
              "  <tbody>\n",
              "    <tr>\n",
              "      <th>0</th>\n",
              "      <td>5.1</td>\n",
              "      <td>3.5</td>\n",
              "      <td>1.4</td>\n",
              "      <td>0.2</td>\n",
              "      <td>setosa</td>\n",
              "    </tr>\n",
              "    <tr>\n",
              "      <th>1</th>\n",
              "      <td>4.9</td>\n",
              "      <td>3.0</td>\n",
              "      <td>1.4</td>\n",
              "      <td>0.2</td>\n",
              "      <td>setosa</td>\n",
              "    </tr>\n",
              "    <tr>\n",
              "      <th>2</th>\n",
              "      <td>4.7</td>\n",
              "      <td>3.2</td>\n",
              "      <td>1.3</td>\n",
              "      <td>0.2</td>\n",
              "      <td>setosa</td>\n",
              "    </tr>\n",
              "    <tr>\n",
              "      <th>3</th>\n",
              "      <td>4.6</td>\n",
              "      <td>3.1</td>\n",
              "      <td>1.5</td>\n",
              "      <td>0.2</td>\n",
              "      <td>setosa</td>\n",
              "    </tr>\n",
              "    <tr>\n",
              "      <th>4</th>\n",
              "      <td>5.0</td>\n",
              "      <td>3.6</td>\n",
              "      <td>1.4</td>\n",
              "      <td>0.2</td>\n",
              "      <td>setosa</td>\n",
              "    </tr>\n",
              "  </tbody>\n",
              "</table>\n",
              "    </div>\n",
              "</div>\n",
              "</div>"
            ],
            "text/plain": [
              "<pandas_profiling.ProfileReport at 0x7fcc505e23d0>"
            ]
          },
          "metadata": {
            "tags": []
          },
          "execution_count": 31
        }
      ]
    },
    {
      "cell_type": "code",
      "metadata": {
        "colab": {
          "base_uri": "https://localhost:8080/"
        },
        "id": "INVml5PPWbv9",
        "outputId": "e972b729-a435-49b7-869c-eef062d945ed"
      },
      "source": [
        "profile"
      ],
      "execution_count": 32,
      "outputs": [
        {
          "output_type": "stream",
          "text": [
            "default\n"
          ],
          "name": "stdout"
        },
        {
          "output_type": "stream",
          "text": [
            "/usr/local/lib/python3.7/dist-packages/IPython/core/magics/basic.py:300: UserWarning: %profile is now deprecated. Please use get_ipython().profile instead.\n",
            "  warn(\"%profile is now deprecated. Please use get_ipython().profile instead.\")\n"
          ],
          "name": "stderr"
        }
      ]
    },
    {
      "cell_type": "markdown",
      "metadata": {
        "id": "UaWsLdVaVVNI"
      },
      "source": [
        "# Next..."
      ]
    },
    {
      "cell_type": "code",
      "metadata": {
        "id": "wDURIu4lWcot",
        "colab": {
          "base_uri": "https://localhost:8080/"
        },
        "outputId": "d0cf350e-63ef-49a4-e810-1accc749d1de"
      },
      "source": [
        "#imposing one randome missing value\n",
        "inc_iris_df=df.copy()\n",
        "import random \n",
        "inc_iris_df.iloc[random.randint(0, inc_iris_df.shape[0]),random.randint(0, inc_iris_df.shape[1]-1)]=np.nan\n",
        "inc_iris_df.isna().sum()#(axis=0)"
      ],
      "execution_count": 33,
      "outputs": [
        {
          "output_type": "execute_result",
          "data": {
            "text/plain": [
              "sepal_length    1\n",
              "sepal_width     0\n",
              "petal_length    0\n",
              "petal_width     0\n",
              "species         0\n",
              "dtype: int64"
            ]
          },
          "metadata": {
            "tags": []
          },
          "execution_count": 33
        }
      ]
    },
    {
      "cell_type": "code",
      "metadata": {
        "id": "oNps5fLjgyRc"
      },
      "source": [
        ""
      ],
      "execution_count": 33,
      "outputs": []
    }
  ]
}